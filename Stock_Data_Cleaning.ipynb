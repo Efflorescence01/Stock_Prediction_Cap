{
 "cells": [
  {
   "cell_type": "markdown",
   "id": "e9b3132e-3295-4223-8102-34825fdb488e",
   "metadata": {},
   "source": [
    "# Stock Data Cleaning & Preliminary Analysis"
   ]
  },
  {
   "cell_type": "markdown",
   "id": "5f9c8d15-f47b-441d-ae6a-db8c2da76c8e",
   "metadata": {},
   "source": [
    "## Introduction"
   ]
  },
  {
   "cell_type": "markdown",
   "id": "09a4b2e7-fcfc-45ca-8d48-0682cb6d2f2d",
   "metadata": {},
   "source": [
    "In this project, we will be working on a data science project for the finance industry. This notebook will be mainly focused on loading datasets, cleaning datasets, and preprocessing datasets. The subsequent notebooks will be using our saved and cleaned datasets for modelling. Our goal for this project is: \"Can we use data science and machine learning models to help us predict prices for our specified financial instrument?\". In our case, we will be focusing on stocks and indexes. As our project works on predictions, the models that we will use will produce a regression output. "
   ]
  },
  {
   "cell_type": "markdown",
   "id": "ee595f92-9cfa-42d8-bc4c-dc39ae486e4e",
   "metadata": {},
   "source": [
    "## Loading in Data and Checking Dataframes"
   ]
  },
  {
   "cell_type": "code",
   "execution_count": 2,
   "id": "55c211f0-80c4-4243-8986-08da92f6c3b1",
   "metadata": {},
   "outputs": [],
   "source": [
    "import pandas as pd \n",
    "import numpy as np \n",
    "import matplotlib.pyplot as plt\n",
    "import glob\n"
   ]
  },
  {
   "cell_type": "code",
   "execution_count": 4,
   "id": "da17be57-ab22-4f17-8609-96a77d298343",
   "metadata": {},
   "outputs": [
    {
     "data": {
      "text/plain": [
       "['C:/Users/linwi/Documents/Stock_test/Datasets\\\\sp500_companies.csv',\n",
       " 'C:/Users/linwi/Documents/Stock_test/Datasets\\\\sp500_index.csv',\n",
       " 'C:/Users/linwi/Documents/Stock_test/Datasets\\\\sp500_stocks.csv']"
      ]
     },
     "execution_count": 4,
     "metadata": {},
     "output_type": "execute_result"
    }
   ],
   "source": [
    "datasets = glob.glob(\"C:/Users/linwi/Documents/Stock_test/Datasets/*.csv\")\n",
    "datasets"
   ]
  },
  {
   "cell_type": "code",
   "execution_count": 5,
   "id": "b433e089-1313-4665-b1ab-1c3225862262",
   "metadata": {},
   "outputs": [],
   "source": [
    "dfs = []\n",
    "for file in datasets:\n",
    "    # Read the CSV file into a DataFrame\n",
    "    df = pd.read_csv(file)\n",
    "\n",
    "    # Append the DataFrame to the list\n",
    "    dfs.append(df)"
   ]
  },
  {
   "cell_type": "code",
   "execution_count": 6,
   "id": "0da407b4-43b4-477d-8e3b-85aa4b65f596",
   "metadata": {},
   "outputs": [
    {
     "data": {
      "text/plain": [
       "[    Exchange Symbol                  Shortname  \\\n",
       " 0        NMS   MSFT      Microsoft Corporation   \n",
       " 1        NMS   AAPL                 Apple Inc.   \n",
       " 2        NMS   NVDA         NVIDIA Corporation   \n",
       " 3        NMS   AMZN           Amazon.com, Inc.   \n",
       " 4        NMS   GOOG              Alphabet Inc.   \n",
       " ..       ...    ...                        ...   \n",
       " 497      NYQ   GNRC     Generac Holdlings Inc.   \n",
       " 498      NYQ    CMA      Comerica Incorporated   \n",
       " 499      NYQ    VFC           V.F. Corporation   \n",
       " 500      NYQ    WHR      Whirlpool Corporation   \n",
       " 501      NMS   ZION  Zions Bancorporation N.A.   \n",
       " \n",
       "                                        Longname                  Sector  \\\n",
       " 0                         Microsoft Corporation              Technology   \n",
       " 1                                    Apple Inc.              Technology   \n",
       " 2                            NVIDIA Corporation              Technology   \n",
       " 3                              Amazon.com, Inc.       Consumer Cyclical   \n",
       " 4                                 Alphabet Inc.  Communication Services   \n",
       " ..                                          ...                     ...   \n",
       " 497                       Generac Holdings Inc.             Industrials   \n",
       " 498                       Comerica Incorporated      Financial Services   \n",
       " 499                            V.F. Corporation       Consumer Cyclical   \n",
       " 500                       Whirlpool Corporation       Consumer Cyclical   \n",
       " 501  Zions Bancorporation, National Association      Financial Services   \n",
       " \n",
       "                                Industry  Currentprice      Marketcap  \\\n",
       " 0             Software - Infrastructure        415.50  3087347744768   \n",
       " 1                  Consumer Electronics        179.66  2774291709952   \n",
       " 2                        Semiconductors        822.79  2056974893056   \n",
       " 3                       Internet Retail        178.22  1851242446848   \n",
       " 4        Internet Content & Information        138.08  1710397063168   \n",
       " ..                                  ...           ...            ...   \n",
       " 497      Specialty Industrial Machinery        114.18     6881548800   \n",
       " 498                    Banks - Regional         49.59     6540822016   \n",
       " 499               Apparel Manufacturing         16.24     6314371584   \n",
       " 500  Furnishings, Fixtures & Appliances        106.81     5836504064   \n",
       " 501                    Banks - Regional         38.77     5743969792   \n",
       " \n",
       "            Ebitda  Revenuegrowth            City State        Country  \\\n",
       " 0    1.184270e+11          0.176         Redmond    WA  United States   \n",
       " 1    1.301090e+11          0.021       Cupertino    CA  United States   \n",
       " 2    3.448000e+10          2.653     Santa Clara    CA  United States   \n",
       " 3    8.551500e+10          0.139         Seattle    WA  United States   \n",
       " 4    1.001720e+11          0.135   Mountain View    CA  United States   \n",
       " ..            ...            ...             ...   ...            ...   \n",
       " 497  5.532610e+08          0.014        Waukesha    WI  United States   \n",
       " 498           NaN         -0.220          Dallas    TX  United States   \n",
       " 499  1.068373e+09         -0.162          Denver    CO  United States   \n",
       " 500  1.477000e+09          0.034   Benton Harbor    MI  United States   \n",
       " 501           NaN         -0.119  Salt Lake City    UT  United States   \n",
       " \n",
       "      Fulltimeemployees                                Longbusinesssummary  \\\n",
       " 0             221000.0  Microsoft Corporation develops and supports so...   \n",
       " 1             161000.0  Apple Inc. designs, manufactures, and markets ...   \n",
       " 2              29600.0  NVIDIA Corporation provides graphics, and comp...   \n",
       " 3            1525000.0  Amazon.com, Inc. engages in the retail sale of...   \n",
       " 4             182502.0  Alphabet Inc. offers various products and plat...   \n",
       " ..                 ...                                                ...   \n",
       " 497             8315.0  Generac Holdings Inc. designs, manufactures, a...   \n",
       " 498             7701.0  Comerica Incorporated, through its subsidiarie...   \n",
       " 499            19800.0  V.F. Corporation, together with its subsidiari...   \n",
       " 500            59000.0  Whirlpool Corporation manufactures and markets...   \n",
       " 501             9679.0  Zions Bancorporation, National Association pro...   \n",
       " \n",
       "        Weight  \n",
       " 0    0.064953  \n",
       " 1    0.058367  \n",
       " 2    0.043276  \n",
       " 3    0.038947  \n",
       " 4    0.035984  \n",
       " ..        ...  \n",
       " 497  0.000145  \n",
       " 498  0.000138  \n",
       " 499  0.000133  \n",
       " 500  0.000123  \n",
       " 501  0.000121  \n",
       " \n",
       " [502 rows x 16 columns],\n",
       "             Date   S&P500\n",
       " 0     2014-03-03  1845.73\n",
       " 1     2014-03-04  1873.91\n",
       " 2     2014-03-05  1873.81\n",
       " 3     2014-03-06  1877.03\n",
       " 4     2014-03-07  1878.04\n",
       " ...          ...      ...\n",
       " 2513  2024-02-26  5069.53\n",
       " 2514  2024-02-27  5078.18\n",
       " 2515  2024-02-28  5069.76\n",
       " 2516  2024-02-29  5096.27\n",
       " 2517  2024-03-01  5137.08\n",
       " \n",
       " [2518 rows x 2 columns],\n",
       "                Date Symbol   Adj Close       Close        High         Low  \\\n",
       " 0        2010-01-04    MMM   53.295380   83.019997   83.449997   82.669998   \n",
       " 1        2010-01-05    MMM   52.961567   82.500000   83.230003   81.699997   \n",
       " 2        2010-01-06    MMM   53.712662   83.669998   84.599998   83.510002   \n",
       " 3        2010-01-07    MMM   53.751194   83.730003   83.760002   82.120003   \n",
       " 4        2010-01-08    MMM   54.129951   84.320000   84.320000   83.300003   \n",
       " ...             ...    ...         ...         ...         ...         ...   \n",
       " 1792687  2024-02-26    ZTS  197.039993  197.039993  197.990005  195.460007   \n",
       " 1792688  2024-02-27    ZTS  199.000000  199.000000  199.250000  194.039993   \n",
       " 1792689  2024-02-28    ZTS  199.940002  199.940002  200.500000  197.100006   \n",
       " 1792690  2024-02-29    ZTS  198.330002  198.330002  200.529999  198.190002   \n",
       " 1792691  2024-03-01    ZTS  190.820007  190.820007  196.229996  188.490005   \n",
       " \n",
       "                Open     Volume  \n",
       " 0         83.089996  3043700.0  \n",
       " 1         82.800003  2847000.0  \n",
       " 2         83.879997  5268500.0  \n",
       " 3         83.320000  4470100.0  \n",
       " 4         83.690002  3405800.0  \n",
       " ...             ...        ...  \n",
       " 1792687  196.899994  2098500.0  \n",
       " 1792688  197.649994  1982500.0  \n",
       " 1792689  199.300003  2003300.0  \n",
       " 1792690  200.500000  2849200.0  \n",
       " 1792691  196.000000  3724300.0  \n",
       " \n",
       " [1792692 rows x 8 columns]]"
      ]
     },
     "execution_count": 6,
     "metadata": {},
     "output_type": "execute_result"
    }
   ],
   "source": [
    "dfs #Checking if all the dataframes are in the list "
   ]
  },
  {
   "cell_type": "code",
   "execution_count": 7,
   "id": "f2db9fab-96ef-4ad3-930a-ac0cc4467aba",
   "metadata": {},
   "outputs": [],
   "source": [
    "sp500_df = dfs[1].copy() #Slicing out the S&P500 dataframe and making a copy."
   ]
  },
  {
   "cell_type": "code",
   "execution_count": 8,
   "id": "2048c3d4-b37f-4666-b68c-4b002df280d5",
   "metadata": {
    "scrolled": true
   },
   "outputs": [
    {
     "data": {
      "text/html": [
       "<div>\n",
       "<style scoped>\n",
       "    .dataframe tbody tr th:only-of-type {\n",
       "        vertical-align: middle;\n",
       "    }\n",
       "\n",
       "    .dataframe tbody tr th {\n",
       "        vertical-align: top;\n",
       "    }\n",
       "\n",
       "    .dataframe thead th {\n",
       "        text-align: right;\n",
       "    }\n",
       "</style>\n",
       "<table border=\"1\" class=\"dataframe\">\n",
       "  <thead>\n",
       "    <tr style=\"text-align: right;\">\n",
       "      <th></th>\n",
       "      <th>Date</th>\n",
       "      <th>S&amp;P500</th>\n",
       "    </tr>\n",
       "  </thead>\n",
       "  <tbody>\n",
       "    <tr>\n",
       "      <th>0</th>\n",
       "      <td>2014-03-03</td>\n",
       "      <td>1845.73</td>\n",
       "    </tr>\n",
       "    <tr>\n",
       "      <th>1</th>\n",
       "      <td>2014-03-04</td>\n",
       "      <td>1873.91</td>\n",
       "    </tr>\n",
       "    <tr>\n",
       "      <th>2</th>\n",
       "      <td>2014-03-05</td>\n",
       "      <td>1873.81</td>\n",
       "    </tr>\n",
       "    <tr>\n",
       "      <th>3</th>\n",
       "      <td>2014-03-06</td>\n",
       "      <td>1877.03</td>\n",
       "    </tr>\n",
       "    <tr>\n",
       "      <th>4</th>\n",
       "      <td>2014-03-07</td>\n",
       "      <td>1878.04</td>\n",
       "    </tr>\n",
       "    <tr>\n",
       "      <th>...</th>\n",
       "      <td>...</td>\n",
       "      <td>...</td>\n",
       "    </tr>\n",
       "    <tr>\n",
       "      <th>2513</th>\n",
       "      <td>2024-02-26</td>\n",
       "      <td>5069.53</td>\n",
       "    </tr>\n",
       "    <tr>\n",
       "      <th>2514</th>\n",
       "      <td>2024-02-27</td>\n",
       "      <td>5078.18</td>\n",
       "    </tr>\n",
       "    <tr>\n",
       "      <th>2515</th>\n",
       "      <td>2024-02-28</td>\n",
       "      <td>5069.76</td>\n",
       "    </tr>\n",
       "    <tr>\n",
       "      <th>2516</th>\n",
       "      <td>2024-02-29</td>\n",
       "      <td>5096.27</td>\n",
       "    </tr>\n",
       "    <tr>\n",
       "      <th>2517</th>\n",
       "      <td>2024-03-01</td>\n",
       "      <td>5137.08</td>\n",
       "    </tr>\n",
       "  </tbody>\n",
       "</table>\n",
       "<p>2518 rows × 2 columns</p>\n",
       "</div>"
      ],
      "text/plain": [
       "            Date   S&P500\n",
       "0     2014-03-03  1845.73\n",
       "1     2014-03-04  1873.91\n",
       "2     2014-03-05  1873.81\n",
       "3     2014-03-06  1877.03\n",
       "4     2014-03-07  1878.04\n",
       "...          ...      ...\n",
       "2513  2024-02-26  5069.53\n",
       "2514  2024-02-27  5078.18\n",
       "2515  2024-02-28  5069.76\n",
       "2516  2024-02-29  5096.27\n",
       "2517  2024-03-01  5137.08\n",
       "\n",
       "[2518 rows x 2 columns]"
      ]
     },
     "execution_count": 8,
     "metadata": {},
     "output_type": "execute_result"
    }
   ],
   "source": [
    "sp500_df"
   ]
  },
  {
   "cell_type": "markdown",
   "id": "2f13cd07-55ae-414d-b619-27ace9923539",
   "metadata": {},
   "source": [
    "We can see that the sp500_df has two columns: `Date` and `S&P500`"
   ]
  },
  {
   "cell_type": "code",
   "execution_count": 9,
   "id": "0e764251-25f1-4b10-afb6-ac7ee5c988f2",
   "metadata": {},
   "outputs": [],
   "source": [
    "company_df = dfs[0].copy() #Slicing out the company dataframe and making a copy."
   ]
  },
  {
   "cell_type": "code",
   "execution_count": 10,
   "id": "b961e8be-c3bc-45c8-94a3-557058354356",
   "metadata": {
    "scrolled": true
   },
   "outputs": [
    {
     "data": {
      "text/html": [
       "<div>\n",
       "<style scoped>\n",
       "    .dataframe tbody tr th:only-of-type {\n",
       "        vertical-align: middle;\n",
       "    }\n",
       "\n",
       "    .dataframe tbody tr th {\n",
       "        vertical-align: top;\n",
       "    }\n",
       "\n",
       "    .dataframe thead th {\n",
       "        text-align: right;\n",
       "    }\n",
       "</style>\n",
       "<table border=\"1\" class=\"dataframe\">\n",
       "  <thead>\n",
       "    <tr style=\"text-align: right;\">\n",
       "      <th></th>\n",
       "      <th>Exchange</th>\n",
       "      <th>Symbol</th>\n",
       "      <th>Shortname</th>\n",
       "      <th>Longname</th>\n",
       "      <th>Sector</th>\n",
       "      <th>Industry</th>\n",
       "      <th>Currentprice</th>\n",
       "      <th>Marketcap</th>\n",
       "      <th>Ebitda</th>\n",
       "      <th>Revenuegrowth</th>\n",
       "      <th>City</th>\n",
       "      <th>State</th>\n",
       "      <th>Country</th>\n",
       "      <th>Fulltimeemployees</th>\n",
       "      <th>Longbusinesssummary</th>\n",
       "      <th>Weight</th>\n",
       "    </tr>\n",
       "  </thead>\n",
       "  <tbody>\n",
       "    <tr>\n",
       "      <th>0</th>\n",
       "      <td>NMS</td>\n",
       "      <td>MSFT</td>\n",
       "      <td>Microsoft Corporation</td>\n",
       "      <td>Microsoft Corporation</td>\n",
       "      <td>Technology</td>\n",
       "      <td>Software - Infrastructure</td>\n",
       "      <td>415.50</td>\n",
       "      <td>3087347744768</td>\n",
       "      <td>1.184270e+11</td>\n",
       "      <td>0.176</td>\n",
       "      <td>Redmond</td>\n",
       "      <td>WA</td>\n",
       "      <td>United States</td>\n",
       "      <td>221000.0</td>\n",
       "      <td>Microsoft Corporation develops and supports so...</td>\n",
       "      <td>0.064953</td>\n",
       "    </tr>\n",
       "    <tr>\n",
       "      <th>1</th>\n",
       "      <td>NMS</td>\n",
       "      <td>AAPL</td>\n",
       "      <td>Apple Inc.</td>\n",
       "      <td>Apple Inc.</td>\n",
       "      <td>Technology</td>\n",
       "      <td>Consumer Electronics</td>\n",
       "      <td>179.66</td>\n",
       "      <td>2774291709952</td>\n",
       "      <td>1.301090e+11</td>\n",
       "      <td>0.021</td>\n",
       "      <td>Cupertino</td>\n",
       "      <td>CA</td>\n",
       "      <td>United States</td>\n",
       "      <td>161000.0</td>\n",
       "      <td>Apple Inc. designs, manufactures, and markets ...</td>\n",
       "      <td>0.058367</td>\n",
       "    </tr>\n",
       "    <tr>\n",
       "      <th>2</th>\n",
       "      <td>NMS</td>\n",
       "      <td>NVDA</td>\n",
       "      <td>NVIDIA Corporation</td>\n",
       "      <td>NVIDIA Corporation</td>\n",
       "      <td>Technology</td>\n",
       "      <td>Semiconductors</td>\n",
       "      <td>822.79</td>\n",
       "      <td>2056974893056</td>\n",
       "      <td>3.448000e+10</td>\n",
       "      <td>2.653</td>\n",
       "      <td>Santa Clara</td>\n",
       "      <td>CA</td>\n",
       "      <td>United States</td>\n",
       "      <td>29600.0</td>\n",
       "      <td>NVIDIA Corporation provides graphics, and comp...</td>\n",
       "      <td>0.043276</td>\n",
       "    </tr>\n",
       "    <tr>\n",
       "      <th>3</th>\n",
       "      <td>NMS</td>\n",
       "      <td>AMZN</td>\n",
       "      <td>Amazon.com, Inc.</td>\n",
       "      <td>Amazon.com, Inc.</td>\n",
       "      <td>Consumer Cyclical</td>\n",
       "      <td>Internet Retail</td>\n",
       "      <td>178.22</td>\n",
       "      <td>1851242446848</td>\n",
       "      <td>8.551500e+10</td>\n",
       "      <td>0.139</td>\n",
       "      <td>Seattle</td>\n",
       "      <td>WA</td>\n",
       "      <td>United States</td>\n",
       "      <td>1525000.0</td>\n",
       "      <td>Amazon.com, Inc. engages in the retail sale of...</td>\n",
       "      <td>0.038947</td>\n",
       "    </tr>\n",
       "    <tr>\n",
       "      <th>4</th>\n",
       "      <td>NMS</td>\n",
       "      <td>GOOG</td>\n",
       "      <td>Alphabet Inc.</td>\n",
       "      <td>Alphabet Inc.</td>\n",
       "      <td>Communication Services</td>\n",
       "      <td>Internet Content &amp; Information</td>\n",
       "      <td>138.08</td>\n",
       "      <td>1710397063168</td>\n",
       "      <td>1.001720e+11</td>\n",
       "      <td>0.135</td>\n",
       "      <td>Mountain View</td>\n",
       "      <td>CA</td>\n",
       "      <td>United States</td>\n",
       "      <td>182502.0</td>\n",
       "      <td>Alphabet Inc. offers various products and plat...</td>\n",
       "      <td>0.035984</td>\n",
       "    </tr>\n",
       "    <tr>\n",
       "      <th>...</th>\n",
       "      <td>...</td>\n",
       "      <td>...</td>\n",
       "      <td>...</td>\n",
       "      <td>...</td>\n",
       "      <td>...</td>\n",
       "      <td>...</td>\n",
       "      <td>...</td>\n",
       "      <td>...</td>\n",
       "      <td>...</td>\n",
       "      <td>...</td>\n",
       "      <td>...</td>\n",
       "      <td>...</td>\n",
       "      <td>...</td>\n",
       "      <td>...</td>\n",
       "      <td>...</td>\n",
       "      <td>...</td>\n",
       "    </tr>\n",
       "    <tr>\n",
       "      <th>497</th>\n",
       "      <td>NYQ</td>\n",
       "      <td>GNRC</td>\n",
       "      <td>Generac Holdlings Inc.</td>\n",
       "      <td>Generac Holdings Inc.</td>\n",
       "      <td>Industrials</td>\n",
       "      <td>Specialty Industrial Machinery</td>\n",
       "      <td>114.18</td>\n",
       "      <td>6881548800</td>\n",
       "      <td>5.532610e+08</td>\n",
       "      <td>0.014</td>\n",
       "      <td>Waukesha</td>\n",
       "      <td>WI</td>\n",
       "      <td>United States</td>\n",
       "      <td>8315.0</td>\n",
       "      <td>Generac Holdings Inc. designs, manufactures, a...</td>\n",
       "      <td>0.000145</td>\n",
       "    </tr>\n",
       "    <tr>\n",
       "      <th>498</th>\n",
       "      <td>NYQ</td>\n",
       "      <td>CMA</td>\n",
       "      <td>Comerica Incorporated</td>\n",
       "      <td>Comerica Incorporated</td>\n",
       "      <td>Financial Services</td>\n",
       "      <td>Banks - Regional</td>\n",
       "      <td>49.59</td>\n",
       "      <td>6540822016</td>\n",
       "      <td>NaN</td>\n",
       "      <td>-0.220</td>\n",
       "      <td>Dallas</td>\n",
       "      <td>TX</td>\n",
       "      <td>United States</td>\n",
       "      <td>7701.0</td>\n",
       "      <td>Comerica Incorporated, through its subsidiarie...</td>\n",
       "      <td>0.000138</td>\n",
       "    </tr>\n",
       "    <tr>\n",
       "      <th>499</th>\n",
       "      <td>NYQ</td>\n",
       "      <td>VFC</td>\n",
       "      <td>V.F. Corporation</td>\n",
       "      <td>V.F. Corporation</td>\n",
       "      <td>Consumer Cyclical</td>\n",
       "      <td>Apparel Manufacturing</td>\n",
       "      <td>16.24</td>\n",
       "      <td>6314371584</td>\n",
       "      <td>1.068373e+09</td>\n",
       "      <td>-0.162</td>\n",
       "      <td>Denver</td>\n",
       "      <td>CO</td>\n",
       "      <td>United States</td>\n",
       "      <td>19800.0</td>\n",
       "      <td>V.F. Corporation, together with its subsidiari...</td>\n",
       "      <td>0.000133</td>\n",
       "    </tr>\n",
       "    <tr>\n",
       "      <th>500</th>\n",
       "      <td>NYQ</td>\n",
       "      <td>WHR</td>\n",
       "      <td>Whirlpool Corporation</td>\n",
       "      <td>Whirlpool Corporation</td>\n",
       "      <td>Consumer Cyclical</td>\n",
       "      <td>Furnishings, Fixtures &amp; Appliances</td>\n",
       "      <td>106.81</td>\n",
       "      <td>5836504064</td>\n",
       "      <td>1.477000e+09</td>\n",
       "      <td>0.034</td>\n",
       "      <td>Benton Harbor</td>\n",
       "      <td>MI</td>\n",
       "      <td>United States</td>\n",
       "      <td>59000.0</td>\n",
       "      <td>Whirlpool Corporation manufactures and markets...</td>\n",
       "      <td>0.000123</td>\n",
       "    </tr>\n",
       "    <tr>\n",
       "      <th>501</th>\n",
       "      <td>NMS</td>\n",
       "      <td>ZION</td>\n",
       "      <td>Zions Bancorporation N.A.</td>\n",
       "      <td>Zions Bancorporation, National Association</td>\n",
       "      <td>Financial Services</td>\n",
       "      <td>Banks - Regional</td>\n",
       "      <td>38.77</td>\n",
       "      <td>5743969792</td>\n",
       "      <td>NaN</td>\n",
       "      <td>-0.119</td>\n",
       "      <td>Salt Lake City</td>\n",
       "      <td>UT</td>\n",
       "      <td>United States</td>\n",
       "      <td>9679.0</td>\n",
       "      <td>Zions Bancorporation, National Association pro...</td>\n",
       "      <td>0.000121</td>\n",
       "    </tr>\n",
       "  </tbody>\n",
       "</table>\n",
       "<p>502 rows × 16 columns</p>\n",
       "</div>"
      ],
      "text/plain": [
       "    Exchange Symbol                  Shortname  \\\n",
       "0        NMS   MSFT      Microsoft Corporation   \n",
       "1        NMS   AAPL                 Apple Inc.   \n",
       "2        NMS   NVDA         NVIDIA Corporation   \n",
       "3        NMS   AMZN           Amazon.com, Inc.   \n",
       "4        NMS   GOOG              Alphabet Inc.   \n",
       "..       ...    ...                        ...   \n",
       "497      NYQ   GNRC     Generac Holdlings Inc.   \n",
       "498      NYQ    CMA      Comerica Incorporated   \n",
       "499      NYQ    VFC           V.F. Corporation   \n",
       "500      NYQ    WHR      Whirlpool Corporation   \n",
       "501      NMS   ZION  Zions Bancorporation N.A.   \n",
       "\n",
       "                                       Longname                  Sector  \\\n",
       "0                         Microsoft Corporation              Technology   \n",
       "1                                    Apple Inc.              Technology   \n",
       "2                            NVIDIA Corporation              Technology   \n",
       "3                              Amazon.com, Inc.       Consumer Cyclical   \n",
       "4                                 Alphabet Inc.  Communication Services   \n",
       "..                                          ...                     ...   \n",
       "497                       Generac Holdings Inc.             Industrials   \n",
       "498                       Comerica Incorporated      Financial Services   \n",
       "499                            V.F. Corporation       Consumer Cyclical   \n",
       "500                       Whirlpool Corporation       Consumer Cyclical   \n",
       "501  Zions Bancorporation, National Association      Financial Services   \n",
       "\n",
       "                               Industry  Currentprice      Marketcap  \\\n",
       "0             Software - Infrastructure        415.50  3087347744768   \n",
       "1                  Consumer Electronics        179.66  2774291709952   \n",
       "2                        Semiconductors        822.79  2056974893056   \n",
       "3                       Internet Retail        178.22  1851242446848   \n",
       "4        Internet Content & Information        138.08  1710397063168   \n",
       "..                                  ...           ...            ...   \n",
       "497      Specialty Industrial Machinery        114.18     6881548800   \n",
       "498                    Banks - Regional         49.59     6540822016   \n",
       "499               Apparel Manufacturing         16.24     6314371584   \n",
       "500  Furnishings, Fixtures & Appliances        106.81     5836504064   \n",
       "501                    Banks - Regional         38.77     5743969792   \n",
       "\n",
       "           Ebitda  Revenuegrowth            City State        Country  \\\n",
       "0    1.184270e+11          0.176         Redmond    WA  United States   \n",
       "1    1.301090e+11          0.021       Cupertino    CA  United States   \n",
       "2    3.448000e+10          2.653     Santa Clara    CA  United States   \n",
       "3    8.551500e+10          0.139         Seattle    WA  United States   \n",
       "4    1.001720e+11          0.135   Mountain View    CA  United States   \n",
       "..            ...            ...             ...   ...            ...   \n",
       "497  5.532610e+08          0.014        Waukesha    WI  United States   \n",
       "498           NaN         -0.220          Dallas    TX  United States   \n",
       "499  1.068373e+09         -0.162          Denver    CO  United States   \n",
       "500  1.477000e+09          0.034   Benton Harbor    MI  United States   \n",
       "501           NaN         -0.119  Salt Lake City    UT  United States   \n",
       "\n",
       "     Fulltimeemployees                                Longbusinesssummary  \\\n",
       "0             221000.0  Microsoft Corporation develops and supports so...   \n",
       "1             161000.0  Apple Inc. designs, manufactures, and markets ...   \n",
       "2              29600.0  NVIDIA Corporation provides graphics, and comp...   \n",
       "3            1525000.0  Amazon.com, Inc. engages in the retail sale of...   \n",
       "4             182502.0  Alphabet Inc. offers various products and plat...   \n",
       "..                 ...                                                ...   \n",
       "497             8315.0  Generac Holdings Inc. designs, manufactures, a...   \n",
       "498             7701.0  Comerica Incorporated, through its subsidiarie...   \n",
       "499            19800.0  V.F. Corporation, together with its subsidiari...   \n",
       "500            59000.0  Whirlpool Corporation manufactures and markets...   \n",
       "501             9679.0  Zions Bancorporation, National Association pro...   \n",
       "\n",
       "       Weight  \n",
       "0    0.064953  \n",
       "1    0.058367  \n",
       "2    0.043276  \n",
       "3    0.038947  \n",
       "4    0.035984  \n",
       "..        ...  \n",
       "497  0.000145  \n",
       "498  0.000138  \n",
       "499  0.000133  \n",
       "500  0.000123  \n",
       "501  0.000121  \n",
       "\n",
       "[502 rows x 16 columns]"
      ]
     },
     "execution_count": 10,
     "metadata": {},
     "output_type": "execute_result"
    }
   ],
   "source": [
    "company_df"
   ]
  },
  {
   "cell_type": "markdown",
   "id": "4e48c76b-237b-4493-8534-6008918d85e6",
   "metadata": {},
   "source": [
    "The company_df contains fundamental information of the companies in the S&P500. Its categories are: `Exchange`,`Symbol`,`Shortname`,`Longname`, `Sector`, `Industry`,`Currentprice`, `Marketcap`, `Ebitda`, `Revenuegrowth`, `City`, `State`, `Country`, `Fulltimeemployees`, `Longbusinesssummary` and `Weight`."
   ]
  },
  {
   "cell_type": "code",
   "execution_count": 11,
   "id": "87f84f1d-c569-4cc3-b8c6-16b737288ca1",
   "metadata": {},
   "outputs": [],
   "source": [
    "stocks_df = dfs[2].copy()"
   ]
  },
  {
   "cell_type": "code",
   "execution_count": 12,
   "id": "b87095a4-dc33-44b5-880f-a5a20c24ed87",
   "metadata": {
    "scrolled": true
   },
   "outputs": [
    {
     "data": {
      "text/html": [
       "<div>\n",
       "<style scoped>\n",
       "    .dataframe tbody tr th:only-of-type {\n",
       "        vertical-align: middle;\n",
       "    }\n",
       "\n",
       "    .dataframe tbody tr th {\n",
       "        vertical-align: top;\n",
       "    }\n",
       "\n",
       "    .dataframe thead th {\n",
       "        text-align: right;\n",
       "    }\n",
       "</style>\n",
       "<table border=\"1\" class=\"dataframe\">\n",
       "  <thead>\n",
       "    <tr style=\"text-align: right;\">\n",
       "      <th></th>\n",
       "      <th>Date</th>\n",
       "      <th>Symbol</th>\n",
       "      <th>Adj Close</th>\n",
       "      <th>Close</th>\n",
       "      <th>High</th>\n",
       "      <th>Low</th>\n",
       "      <th>Open</th>\n",
       "      <th>Volume</th>\n",
       "    </tr>\n",
       "  </thead>\n",
       "  <tbody>\n",
       "    <tr>\n",
       "      <th>0</th>\n",
       "      <td>2010-01-04</td>\n",
       "      <td>MMM</td>\n",
       "      <td>53.295380</td>\n",
       "      <td>83.019997</td>\n",
       "      <td>83.449997</td>\n",
       "      <td>82.669998</td>\n",
       "      <td>83.089996</td>\n",
       "      <td>3043700.0</td>\n",
       "    </tr>\n",
       "    <tr>\n",
       "      <th>1</th>\n",
       "      <td>2010-01-05</td>\n",
       "      <td>MMM</td>\n",
       "      <td>52.961567</td>\n",
       "      <td>82.500000</td>\n",
       "      <td>83.230003</td>\n",
       "      <td>81.699997</td>\n",
       "      <td>82.800003</td>\n",
       "      <td>2847000.0</td>\n",
       "    </tr>\n",
       "    <tr>\n",
       "      <th>2</th>\n",
       "      <td>2010-01-06</td>\n",
       "      <td>MMM</td>\n",
       "      <td>53.712662</td>\n",
       "      <td>83.669998</td>\n",
       "      <td>84.599998</td>\n",
       "      <td>83.510002</td>\n",
       "      <td>83.879997</td>\n",
       "      <td>5268500.0</td>\n",
       "    </tr>\n",
       "    <tr>\n",
       "      <th>3</th>\n",
       "      <td>2010-01-07</td>\n",
       "      <td>MMM</td>\n",
       "      <td>53.751194</td>\n",
       "      <td>83.730003</td>\n",
       "      <td>83.760002</td>\n",
       "      <td>82.120003</td>\n",
       "      <td>83.320000</td>\n",
       "      <td>4470100.0</td>\n",
       "    </tr>\n",
       "    <tr>\n",
       "      <th>4</th>\n",
       "      <td>2010-01-08</td>\n",
       "      <td>MMM</td>\n",
       "      <td>54.129951</td>\n",
       "      <td>84.320000</td>\n",
       "      <td>84.320000</td>\n",
       "      <td>83.300003</td>\n",
       "      <td>83.690002</td>\n",
       "      <td>3405800.0</td>\n",
       "    </tr>\n",
       "    <tr>\n",
       "      <th>...</th>\n",
       "      <td>...</td>\n",
       "      <td>...</td>\n",
       "      <td>...</td>\n",
       "      <td>...</td>\n",
       "      <td>...</td>\n",
       "      <td>...</td>\n",
       "      <td>...</td>\n",
       "      <td>...</td>\n",
       "    </tr>\n",
       "    <tr>\n",
       "      <th>1792687</th>\n",
       "      <td>2024-02-26</td>\n",
       "      <td>ZTS</td>\n",
       "      <td>197.039993</td>\n",
       "      <td>197.039993</td>\n",
       "      <td>197.990005</td>\n",
       "      <td>195.460007</td>\n",
       "      <td>196.899994</td>\n",
       "      <td>2098500.0</td>\n",
       "    </tr>\n",
       "    <tr>\n",
       "      <th>1792688</th>\n",
       "      <td>2024-02-27</td>\n",
       "      <td>ZTS</td>\n",
       "      <td>199.000000</td>\n",
       "      <td>199.000000</td>\n",
       "      <td>199.250000</td>\n",
       "      <td>194.039993</td>\n",
       "      <td>197.649994</td>\n",
       "      <td>1982500.0</td>\n",
       "    </tr>\n",
       "    <tr>\n",
       "      <th>1792689</th>\n",
       "      <td>2024-02-28</td>\n",
       "      <td>ZTS</td>\n",
       "      <td>199.940002</td>\n",
       "      <td>199.940002</td>\n",
       "      <td>200.500000</td>\n",
       "      <td>197.100006</td>\n",
       "      <td>199.300003</td>\n",
       "      <td>2003300.0</td>\n",
       "    </tr>\n",
       "    <tr>\n",
       "      <th>1792690</th>\n",
       "      <td>2024-02-29</td>\n",
       "      <td>ZTS</td>\n",
       "      <td>198.330002</td>\n",
       "      <td>198.330002</td>\n",
       "      <td>200.529999</td>\n",
       "      <td>198.190002</td>\n",
       "      <td>200.500000</td>\n",
       "      <td>2849200.0</td>\n",
       "    </tr>\n",
       "    <tr>\n",
       "      <th>1792691</th>\n",
       "      <td>2024-03-01</td>\n",
       "      <td>ZTS</td>\n",
       "      <td>190.820007</td>\n",
       "      <td>190.820007</td>\n",
       "      <td>196.229996</td>\n",
       "      <td>188.490005</td>\n",
       "      <td>196.000000</td>\n",
       "      <td>3724300.0</td>\n",
       "    </tr>\n",
       "  </tbody>\n",
       "</table>\n",
       "<p>1792692 rows × 8 columns</p>\n",
       "</div>"
      ],
      "text/plain": [
       "               Date Symbol   Adj Close       Close        High         Low  \\\n",
       "0        2010-01-04    MMM   53.295380   83.019997   83.449997   82.669998   \n",
       "1        2010-01-05    MMM   52.961567   82.500000   83.230003   81.699997   \n",
       "2        2010-01-06    MMM   53.712662   83.669998   84.599998   83.510002   \n",
       "3        2010-01-07    MMM   53.751194   83.730003   83.760002   82.120003   \n",
       "4        2010-01-08    MMM   54.129951   84.320000   84.320000   83.300003   \n",
       "...             ...    ...         ...         ...         ...         ...   \n",
       "1792687  2024-02-26    ZTS  197.039993  197.039993  197.990005  195.460007   \n",
       "1792688  2024-02-27    ZTS  199.000000  199.000000  199.250000  194.039993   \n",
       "1792689  2024-02-28    ZTS  199.940002  199.940002  200.500000  197.100006   \n",
       "1792690  2024-02-29    ZTS  198.330002  198.330002  200.529999  198.190002   \n",
       "1792691  2024-03-01    ZTS  190.820007  190.820007  196.229996  188.490005   \n",
       "\n",
       "               Open     Volume  \n",
       "0         83.089996  3043700.0  \n",
       "1         82.800003  2847000.0  \n",
       "2         83.879997  5268500.0  \n",
       "3         83.320000  4470100.0  \n",
       "4         83.690002  3405800.0  \n",
       "...             ...        ...  \n",
       "1792687  196.899994  2098500.0  \n",
       "1792688  197.649994  1982500.0  \n",
       "1792689  199.300003  2003300.0  \n",
       "1792690  200.500000  2849200.0  \n",
       "1792691  196.000000  3724300.0  \n",
       "\n",
       "[1792692 rows x 8 columns]"
      ]
     },
     "execution_count": 12,
     "metadata": {},
     "output_type": "execute_result"
    }
   ],
   "source": [
    "stocks_df"
   ]
  },
  {
   "cell_type": "markdown",
   "id": "8a6c0e50-de2f-4bc8-a727-fb101e531c51",
   "metadata": {},
   "source": [
    "The stocks_df has `Date`, `Symbol`, `Adj Close`, `Close`, `High`, `Low` , `Open`, and `Volume` "
   ]
  },
  {
   "cell_type": "markdown",
   "id": "3e114b0b-2722-4813-99b5-8765aa947828",
   "metadata": {},
   "source": [
    "**Checking the datatypes in each dataframe.**"
   ]
  },
  {
   "cell_type": "code",
   "execution_count": 13,
   "id": "a7f684d8-4cf3-49bf-99b4-dbecfaac2e42",
   "metadata": {},
   "outputs": [
    {
     "name": "stdout",
     "output_type": "stream",
     "text": [
      "<class 'pandas.core.frame.DataFrame'>\n",
      "RangeIndex: 1792692 entries, 0 to 1792691\n",
      "Data columns (total 8 columns):\n",
      " #   Column     Dtype  \n",
      "---  ------     -----  \n",
      " 0   Date       object \n",
      " 1   Symbol     object \n",
      " 2   Adj Close  float64\n",
      " 3   Close      float64\n",
      " 4   High       float64\n",
      " 5   Low        float64\n",
      " 6   Open       float64\n",
      " 7   Volume     float64\n",
      "dtypes: float64(6), object(2)\n",
      "memory usage: 109.4+ MB\n"
     ]
    }
   ],
   "source": [
    "stocks_df.info()"
   ]
  },
  {
   "cell_type": "code",
   "execution_count": 14,
   "id": "0b69a7fb-4671-4569-8366-1b7fee386996",
   "metadata": {},
   "outputs": [
    {
     "name": "stdout",
     "output_type": "stream",
     "text": [
      "<class 'pandas.core.frame.DataFrame'>\n",
      "RangeIndex: 502 entries, 0 to 501\n",
      "Data columns (total 16 columns):\n",
      " #   Column               Non-Null Count  Dtype  \n",
      "---  ------               --------------  -----  \n",
      " 0   Exchange             502 non-null    object \n",
      " 1   Symbol               502 non-null    object \n",
      " 2   Shortname            502 non-null    object \n",
      " 3   Longname             502 non-null    object \n",
      " 4   Sector               502 non-null    object \n",
      " 5   Industry             502 non-null    object \n",
      " 6   Currentprice         502 non-null    float64\n",
      " 7   Marketcap            502 non-null    int64  \n",
      " 8   Ebitda               473 non-null    float64\n",
      " 9   Revenuegrowth        501 non-null    float64\n",
      " 10  City                 502 non-null    object \n",
      " 11  State                482 non-null    object \n",
      " 12  Country              502 non-null    object \n",
      " 13  Fulltimeemployees    470 non-null    float64\n",
      " 14  Longbusinesssummary  502 non-null    object \n",
      " 15  Weight               502 non-null    float64\n",
      "dtypes: float64(5), int64(1), object(10)\n",
      "memory usage: 62.9+ KB\n"
     ]
    }
   ],
   "source": [
    "company_df.info()"
   ]
  },
  {
   "cell_type": "code",
   "execution_count": 15,
   "id": "d038d08f-cb01-4115-b9ba-9daaeda60a54",
   "metadata": {},
   "outputs": [
    {
     "name": "stdout",
     "output_type": "stream",
     "text": [
      "<class 'pandas.core.frame.DataFrame'>\n",
      "RangeIndex: 2518 entries, 0 to 2517\n",
      "Data columns (total 2 columns):\n",
      " #   Column  Non-Null Count  Dtype  \n",
      "---  ------  --------------  -----  \n",
      " 0   Date    2518 non-null   object \n",
      " 1   S&P500  2518 non-null   float64\n",
      "dtypes: float64(1), object(1)\n",
      "memory usage: 39.5+ KB\n"
     ]
    }
   ],
   "source": [
    "sp500_df.info()"
   ]
  },
  {
   "cell_type": "markdown",
   "id": "d4b82eae-3412-4ea3-a204-bd7878080a11",
   "metadata": {},
   "source": [
    "## Data Cleaning "
   ]
  },
  {
   "cell_type": "code",
   "execution_count": 16,
   "id": "6050b5b4-2bfe-4e9c-ba14-c54d422e89b9",
   "metadata": {
    "scrolled": true
   },
   "outputs": [
    {
     "name": "stdout",
     "output_type": "stream",
     "text": [
      "Date             0\n",
      "Symbol           0\n",
      "Adj Close    79913\n",
      "Close        79913\n",
      "High         79913\n",
      "Low          79913\n",
      "Open         79913\n",
      "Volume       79913\n",
      "dtype: int64\n"
     ]
    }
   ],
   "source": [
    "print(stocks_df.isna().sum())"
   ]
  },
  {
   "cell_type": "code",
   "execution_count": 17,
   "id": "5f3aba58-1bf5-47b7-aaa5-3cee20343ea3",
   "metadata": {},
   "outputs": [
    {
     "name": "stdout",
     "output_type": "stream",
     "text": [
      "Date      0\n",
      "S&P500    0\n",
      "dtype: int64\n"
     ]
    }
   ],
   "source": [
    "print(sp500_df.isna().sum())"
   ]
  },
  {
   "cell_type": "code",
   "execution_count": 18,
   "id": "1fbcb5f9-0bff-489f-8049-93312847eaa0",
   "metadata": {},
   "outputs": [
    {
     "name": "stdout",
     "output_type": "stream",
     "text": [
      "Exchange                0\n",
      "Symbol                  0\n",
      "Shortname               0\n",
      "Longname                0\n",
      "Sector                  0\n",
      "Industry                0\n",
      "Currentprice            0\n",
      "Marketcap               0\n",
      "Ebitda                 29\n",
      "Revenuegrowth           1\n",
      "City                    0\n",
      "State                  20\n",
      "Country                 0\n",
      "Fulltimeemployees      32\n",
      "Longbusinesssummary     0\n",
      "Weight                  0\n",
      "dtype: int64\n"
     ]
    }
   ],
   "source": [
    "print(company_df.isna().sum())"
   ]
  },
  {
   "cell_type": "markdown",
   "id": "1ea875e3-011a-4f8c-8c15-40ed53add6ab",
   "metadata": {},
   "source": [
    "We can see that there are 79,913 null values in the stocks_df.\n",
    "There are no null values in the sp500_df.\n",
    "There are some null values for the company_df."
   ]
  },
  {
   "cell_type": "markdown",
   "id": "7850efa3-4744-4f79-8ff1-d95e8031feb6",
   "metadata": {},
   "source": [
    "Let's first look at the null values for the stocks_df."
   ]
  },
  {
   "cell_type": "code",
   "execution_count": 19,
   "id": "8d6c1260-ea90-44ed-97df-325fb280c56d",
   "metadata": {},
   "outputs": [
    {
     "name": "stdout",
     "output_type": "stream",
     "text": [
      "               Date Symbol  Adj Close  Close  High  Low  Open  Volume\n",
      "10692    2010-01-04   ABBV        NaN    NaN   NaN  NaN   NaN     NaN\n",
      "10693    2010-01-05   ABBV        NaN    NaN   NaN  NaN   NaN     NaN\n",
      "10694    2010-01-06   ABBV        NaN    NaN   NaN  NaN   NaN     NaN\n",
      "10695    2010-01-07   ABBV        NaN    NaN   NaN  NaN   NaN     NaN\n",
      "10696    2010-01-08   ABBV        NaN    NaN   NaN  NaN   NaN     NaN\n",
      "...             ...    ...        ...    ...   ...  ...   ...     ...\n",
      "1789898  2013-01-25    ZTS        NaN    NaN   NaN  NaN   NaN     NaN\n",
      "1789899  2013-01-28    ZTS        NaN    NaN   NaN  NaN   NaN     NaN\n",
      "1789900  2013-01-29    ZTS        NaN    NaN   NaN  NaN   NaN     NaN\n",
      "1789901  2013-01-30    ZTS        NaN    NaN   NaN  NaN   NaN     NaN\n",
      "1789902  2013-01-31    ZTS        NaN    NaN   NaN  NaN   NaN     NaN\n",
      "\n",
      "[79913 rows x 8 columns]\n"
     ]
    }
   ],
   "source": [
    "stocks_null = stocks_df.isna().any(axis=1)\n",
    "stocks_null_rows = stocks_df[stocks_null]\n",
    "print(stocks_null_rows)"
   ]
  },
  {
   "cell_type": "markdown",
   "id": "911fac15-131b-4695-a5fa-10cd5de827c8",
   "metadata": {},
   "source": [
    "The null values look like they are the same across each row and column. As these null values are present in records that we will not be using for modelling, we will not be filling in the null values with averages or filling them in with the assistance of APIs. The stock that we are interested in modelling is GOOG and it does not contain any null values. (Created a GOOG dataframe below and checked for null values)"
   ]
  },
  {
   "cell_type": "code",
   "execution_count": 20,
   "id": "3852015f-cf8c-42b6-a8cc-16977552cb61",
   "metadata": {
    "scrolled": true
   },
   "outputs": [
    {
     "name": "stdout",
     "output_type": "stream",
     "text": [
      "    Exchange Symbol                        Shortname  \\\n",
      "11       NYQ      V                        Visa Inc.   \n",
      "12       NYQ    JPM            JP Morgan Chase & Co.   \n",
      "14       NYQ    UNH  UnitedHealth Group Incorporated   \n",
      "16       NYQ    XOM          Exxon Mobil Corporation   \n",
      "17       NYQ    JNJ                Johnson & Johnson   \n",
      "..       ...    ...                              ...   \n",
      "463      NYQ   ALLE                     Allegion plc   \n",
      "471      NYQ   BBWI          Bath & Body Works, Inc.   \n",
      "494      NMS   XRAY             DENTSPLY SIRONA Inc.   \n",
      "498      NYQ    CMA            Comerica Incorporated   \n",
      "501      NMS   ZION        Zions Bancorporation N.A.   \n",
      "\n",
      "                                       Longname              Sector  \\\n",
      "11                                    Visa Inc.  Financial Services   \n",
      "12                         JPMorgan Chase & Co.  Financial Services   \n",
      "14              UnitedHealth Group Incorporated          Healthcare   \n",
      "16                      Exxon Mobil Corporation              Energy   \n",
      "17                            Johnson & Johnson          Healthcare   \n",
      "..                                          ...                 ...   \n",
      "463                                Allegion plc         Industrials   \n",
      "471                     Bath & Body Works, Inc.   Consumer Cyclical   \n",
      "494                        DENTSPLY SIRONA Inc.          Healthcare   \n",
      "498                       Comerica Incorporated  Financial Services   \n",
      "501  Zions Bancorporation, National Association  Financial Services   \n",
      "\n",
      "                           Industry  Currentprice     Marketcap        Ebitda  \\\n",
      "11                  Credit Services        283.16  581630492672  2.342200e+10   \n",
      "12              Banks - Diversified        185.29  533703720960           NaN   \n",
      "14                 Healthcare Plans        489.53  452778524672  3.513000e+10   \n",
      "16             Oil & Gas Integrated        105.84  420290625536  7.179700e+10   \n",
      "17     Drug Manufacturers - General        162.12  390509789184  3.076700e+10   \n",
      "..                              ...           ...           ...           ...   \n",
      "463  Security & Protection Services        126.80   11101897728  8.346000e+08   \n",
      "471                Specialty Retail         45.68   10320985088  1.554000e+09   \n",
      "494  Medical Instruments & Supplies         33.27    7048582144  6.320000e+08   \n",
      "498                Banks - Regional         49.59    6540822016           NaN   \n",
      "501                Banks - Regional         38.77    5743969792           NaN   \n",
      "\n",
      "     Revenuegrowth            City State        Country  Fulltimeemployees  \\\n",
      "11           0.088   San Francisco    CA  United States                NaN   \n",
      "12           0.111        New York    NY  United States           309926.0   \n",
      "14           0.141      Minnetonka    MN  United States                NaN   \n",
      "16          -0.122          Spring    TX  United States                NaN   \n",
      "17           0.073   New Brunswick    NJ  United States                NaN   \n",
      "..             ...             ...   ...            ...                ...   \n",
      "463          0.042          Dublin   NaN        Ireland            12200.0   \n",
      "471          0.008        Columbus    OH  United States                NaN   \n",
      "494          0.030       Charlotte    NC  United States                NaN   \n",
      "498         -0.220          Dallas    TX  United States             7701.0   \n",
      "501         -0.119  Salt Lake City    UT  United States             9679.0   \n",
      "\n",
      "                                   Longbusinesssummary    Weight  \n",
      "11   Visa Inc. operates as a payment technology com...  0.012237  \n",
      "12   JPMorgan Chase & Co. operates as a financial s...  0.011228  \n",
      "14   UnitedHealth Group Incorporated operates as a ...  0.009526  \n",
      "16   Exxon Mobil Corporation engages in the explora...  0.008842  \n",
      "17   Johnson & Johnson, together with its subsidiar...  0.008216  \n",
      "..                                                 ...       ...  \n",
      "463  Allegion plc manufactures and sells mechanical...  0.000234  \n",
      "471  Bath & Body Works, Inc. operates a specialty r...  0.000217  \n",
      "494  DENTSPLY SIRONA Inc. manufactures and sells va...  0.000148  \n",
      "498  Comerica Incorporated, through its subsidiarie...  0.000138  \n",
      "501  Zions Bancorporation, National Association pro...  0.000121  \n",
      "\n",
      "[80 rows x 16 columns]\n"
     ]
    }
   ],
   "source": [
    "company_null = company_df.isna().any(axis=1)\n",
    "company_null_rows = company_df[company_null]\n",
    "print(company_null_rows)"
   ]
  },
  {
   "cell_type": "markdown",
   "id": "29a95313-ad57-4070-b3d1-5e55a8139624",
   "metadata": {},
   "source": [
    "This dataframe shows us all the fundamental data for all the different companies that were listed on the S&P 500 index over the years. As we are dealing with a regression problem, we will not be using this dataframe for modelling. Although, we may be able to use it in the future if we were to do a classification project."
   ]
  },
  {
   "cell_type": "markdown",
   "id": "33d6e5fd-18ac-4588-8f6b-c780474272f0",
   "metadata": {},
   "source": [
    "## S&P 500 Index Time Series Graph"
   ]
  },
  {
   "cell_type": "markdown",
   "id": "9e1955e9-be1d-4c35-b669-42a8d028ad62",
   "metadata": {},
   "source": [
    "We will be using the `sp500_df` to create a time-series graph to see how the price changed over the years. We will then compare the price line to the GOOG time series graph."
   ]
  },
  {
   "cell_type": "code",
   "execution_count": 29,
   "id": "ff03d7fe-01ce-471a-a8ff-8e996197cfd2",
   "metadata": {
    "scrolled": true
   },
   "outputs": [
    {
     "data": {
      "text/html": [
       "<div>\n",
       "<style scoped>\n",
       "    .dataframe tbody tr th:only-of-type {\n",
       "        vertical-align: middle;\n",
       "    }\n",
       "\n",
       "    .dataframe tbody tr th {\n",
       "        vertical-align: top;\n",
       "    }\n",
       "\n",
       "    .dataframe thead th {\n",
       "        text-align: right;\n",
       "    }\n",
       "</style>\n",
       "<table border=\"1\" class=\"dataframe\">\n",
       "  <thead>\n",
       "    <tr style=\"text-align: right;\">\n",
       "      <th></th>\n",
       "      <th>Date</th>\n",
       "      <th>S&amp;P500</th>\n",
       "    </tr>\n",
       "  </thead>\n",
       "  <tbody>\n",
       "    <tr>\n",
       "      <th>0</th>\n",
       "      <td>2014-03-03</td>\n",
       "      <td>1845.73</td>\n",
       "    </tr>\n",
       "    <tr>\n",
       "      <th>1</th>\n",
       "      <td>2014-03-04</td>\n",
       "      <td>1873.91</td>\n",
       "    </tr>\n",
       "    <tr>\n",
       "      <th>2</th>\n",
       "      <td>2014-03-05</td>\n",
       "      <td>1873.81</td>\n",
       "    </tr>\n",
       "    <tr>\n",
       "      <th>3</th>\n",
       "      <td>2014-03-06</td>\n",
       "      <td>1877.03</td>\n",
       "    </tr>\n",
       "    <tr>\n",
       "      <th>4</th>\n",
       "      <td>2014-03-07</td>\n",
       "      <td>1878.04</td>\n",
       "    </tr>\n",
       "  </tbody>\n",
       "</table>\n",
       "</div>"
      ],
      "text/plain": [
       "        Date   S&P500\n",
       "0 2014-03-03  1845.73\n",
       "1 2014-03-04  1873.91\n",
       "2 2014-03-05  1873.81\n",
       "3 2014-03-06  1877.03\n",
       "4 2014-03-07  1878.04"
      ]
     },
     "execution_count": 29,
     "metadata": {},
     "output_type": "execute_result"
    }
   ],
   "source": [
    "sp500_df.head() #reference "
   ]
  },
  {
   "cell_type": "code",
   "execution_count": 30,
   "id": "1cceb399-4f84-423a-90a9-ae1669847652",
   "metadata": {
    "scrolled": true
   },
   "outputs": [
    {
     "name": "stdout",
     "output_type": "stream",
     "text": [
      "<class 'pandas.core.frame.DataFrame'>\n",
      "RangeIndex: 2518 entries, 0 to 2517\n",
      "Data columns (total 2 columns):\n",
      " #   Column  Non-Null Count  Dtype         \n",
      "---  ------  --------------  -----         \n",
      " 0   Date    2518 non-null   datetime64[ns]\n",
      " 1   S&P500  2518 non-null   float64       \n",
      "dtypes: datetime64[ns](1), float64(1)\n",
      "memory usage: 39.5 KB\n"
     ]
    }
   ],
   "source": [
    "sp500_df.info() #checking the datatypes for each column"
   ]
  },
  {
   "cell_type": "markdown",
   "id": "b32f2fd6-cac4-4aee-907e-fd8ab857b303",
   "metadata": {},
   "source": [
    "We can see that the `Date` column is an object datatype. We want to change it to a pandas datetime object. "
   ]
  },
  {
   "cell_type": "code",
   "execution_count": 31,
   "id": "9050bfeb-3d2f-46ba-ab47-5631ba700081",
   "metadata": {
    "scrolled": true
   },
   "outputs": [],
   "source": [
    "date_new =pd.to_datetime(sp500_df['Date']) #Changing the column to pandas datetime and storing it "
   ]
  },
  {
   "cell_type": "code",
   "execution_count": 32,
   "id": "afd3db0b-2ac6-4775-804b-b7b9dea06b93",
   "metadata": {},
   "outputs": [
    {
     "data": {
      "text/plain": [
       "pandas.core.series.Series"
      ]
     },
     "execution_count": 32,
     "metadata": {},
     "output_type": "execute_result"
    }
   ],
   "source": [
    "type(date_new)"
   ]
  },
  {
   "cell_type": "code",
   "execution_count": 33,
   "id": "46cce7ac-d3e1-4f27-ba2f-5ccb02a164d1",
   "metadata": {},
   "outputs": [
    {
     "name": "stdout",
     "output_type": "stream",
     "text": [
      "<class 'pandas.core.series.Series'>\n",
      "RangeIndex: 2518 entries, 0 to 2517\n",
      "Series name: Date\n",
      "Non-Null Count  Dtype         \n",
      "--------------  -----         \n",
      "2518 non-null   datetime64[ns]\n",
      "dtypes: datetime64[ns](1)\n",
      "memory usage: 19.8 KB\n"
     ]
    }
   ],
   "source": [
    "date_new.info() #Check"
   ]
  },
  {
   "cell_type": "code",
   "execution_count": 34,
   "id": "e0443aff-f753-4ab1-8348-afa75080a808",
   "metadata": {},
   "outputs": [],
   "source": [
    "sp500_df['Date'] = date_new #Changing the data types to datetime values"
   ]
  },
  {
   "cell_type": "code",
   "execution_count": 35,
   "id": "c596b1c1-562c-4f49-a69c-1003540d87a3",
   "metadata": {
    "scrolled": true
   },
   "outputs": [
    {
     "name": "stdout",
     "output_type": "stream",
     "text": [
      "<class 'pandas.core.frame.DataFrame'>\n",
      "RangeIndex: 2518 entries, 0 to 2517\n",
      "Data columns (total 2 columns):\n",
      " #   Column  Non-Null Count  Dtype         \n",
      "---  ------  --------------  -----         \n",
      " 0   Date    2518 non-null   datetime64[ns]\n",
      " 1   S&P500  2518 non-null   float64       \n",
      "dtypes: datetime64[ns](1), float64(1)\n",
      "memory usage: 39.5 KB\n"
     ]
    }
   ],
   "source": [
    "sp500_df.info() #Checking if it changed"
   ]
  },
  {
   "cell_type": "code",
   "execution_count": 36,
   "id": "a5b4a2dd-0645-4d72-b0a2-dd18164f25fc",
   "metadata": {},
   "outputs": [
    {
     "data": {
      "image/png": "[encoded data removed]",
      "text/plain": [
       "<Figure size 640x480 with 1 Axes>"
      ]
     },
     "metadata": {},
     "output_type": "display_data"
    }
   ],
   "source": [
    "#Plotting the price changes for the S&P 500 index over 10 years\n",
    "plt.plot(sp500_df['Date'],sp500_df['S&P500'])\n",
    "plt.title(\"S&P 500 Index Price Change Over Time\")\n",
    "plt.xlabel(\"Date\")\n",
    "plt.ylabel(\"Price\")\n",
    "plt.show()"
   ]
  },
  {
   "cell_type": "markdown",
   "id": "5dd1682f-4e45-41f6-895f-47e4786d5d0a",
   "metadata": {},
   "source": [
    "## Google Analysis and Graphing"
   ]
  },
  {
   "cell_type": "markdown",
   "id": "82d149aa-171c-4260-8caa-25758caeb1e6",
   "metadata": {},
   "source": [
    "We will narrow down our analysis and focus on the 'GOOG' stock and its price performance over the years. We will also be running our models on the 'GOOG' stock dataset. "
   ]
  },
  {
   "cell_type": "code",
   "execution_count": 37,
   "id": "89b203b2-1ee1-4934-b720-8f17e7d3c987",
   "metadata": {},
   "outputs": [
    {
     "data": {
      "text/plain": [
       "pandas.core.frame.DataFrame"
      ]
     },
     "execution_count": 37,
     "metadata": {},
     "output_type": "execute_result"
    }
   ],
   "source": [
    "#Selecting only the rows with the Symbol \"GOOG\"\n",
    "goog_df = stocks_df[stocks_df[\"Symbol\"]== 'GOOG'].copy()\n",
    "type(goog_df)"
   ]
  },
  {
   "cell_type": "code",
   "execution_count": 38,
   "id": "401b15e2-c8a0-4f25-82b8-adc54f8b0c67",
   "metadata": {},
   "outputs": [
    {
     "data": {
      "text/plain": [
       "Date         0\n",
       "Symbol       0\n",
       "Adj Close    0\n",
       "Close        0\n",
       "High         0\n",
       "Low          0\n",
       "Open         0\n",
       "Volume       0\n",
       "dtype: int64"
      ]
     },
     "execution_count": 38,
     "metadata": {},
     "output_type": "execute_result"
    }
   ],
   "source": [
    "goog_df.isna().sum() #checking if the goog dataframe has any nullvalues."
   ]
  },
  {
   "cell_type": "code",
   "execution_count": 39,
   "id": "4684e275-7eeb-46d8-be31-98ae517122ac",
   "metadata": {
    "scrolled": true
   },
   "outputs": [
    {
     "data": {
      "text/html": [
       "<div>\n",
       "<style scoped>\n",
       "    .dataframe tbody tr th:only-of-type {\n",
       "        vertical-align: middle;\n",
       "    }\n",
       "\n",
       "    .dataframe tbody tr th {\n",
       "        vertical-align: top;\n",
       "    }\n",
       "\n",
       "    .dataframe thead th {\n",
       "        text-align: right;\n",
       "    }\n",
       "</style>\n",
       "<table border=\"1\" class=\"dataframe\">\n",
       "  <thead>\n",
       "    <tr style=\"text-align: right;\">\n",
       "      <th></th>\n",
       "      <th>Date</th>\n",
       "      <th>Symbol</th>\n",
       "      <th>Adj Close</th>\n",
       "      <th>Close</th>\n",
       "      <th>High</th>\n",
       "      <th>Low</th>\n",
       "      <th>Open</th>\n",
       "      <th>Volume</th>\n",
       "    </tr>\n",
       "  </thead>\n",
       "  <tbody>\n",
       "    <tr>\n",
       "      <th>71280</th>\n",
       "      <td>2010-01-04</td>\n",
       "      <td>GOOG</td>\n",
       "      <td>15.610239</td>\n",
       "      <td>15.610239</td>\n",
       "      <td>15.678981</td>\n",
       "      <td>15.547723</td>\n",
       "      <td>15.615220</td>\n",
       "      <td>78541293.0</td>\n",
       "    </tr>\n",
       "    <tr>\n",
       "      <th>71281</th>\n",
       "      <td>2010-01-05</td>\n",
       "      <td>GOOG</td>\n",
       "      <td>15.541497</td>\n",
       "      <td>15.541497</td>\n",
       "      <td>15.637387</td>\n",
       "      <td>15.480475</td>\n",
       "      <td>15.620949</td>\n",
       "      <td>120638494.0</td>\n",
       "    </tr>\n",
       "    <tr>\n",
       "      <th>71282</th>\n",
       "      <td>2010-01-06</td>\n",
       "      <td>GOOG</td>\n",
       "      <td>15.149715</td>\n",
       "      <td>15.149715</td>\n",
       "      <td>15.588072</td>\n",
       "      <td>15.102393</td>\n",
       "      <td>15.588072</td>\n",
       "      <td>159744526.0</td>\n",
       "    </tr>\n",
       "    <tr>\n",
       "      <th>71283</th>\n",
       "      <td>2010-01-07</td>\n",
       "      <td>GOOG</td>\n",
       "      <td>14.797037</td>\n",
       "      <td>14.797037</td>\n",
       "      <td>15.193053</td>\n",
       "      <td>14.760922</td>\n",
       "      <td>15.178109</td>\n",
       "      <td>257533695.0</td>\n",
       "    </tr>\n",
       "    <tr>\n",
       "      <th>71284</th>\n",
       "      <td>2010-01-08</td>\n",
       "      <td>GOOG</td>\n",
       "      <td>14.994298</td>\n",
       "      <td>14.994298</td>\n",
       "      <td>15.024933</td>\n",
       "      <td>14.672753</td>\n",
       "      <td>14.744733</td>\n",
       "      <td>189680313.0</td>\n",
       "    </tr>\n",
       "    <tr>\n",
       "      <th>...</th>\n",
       "      <td>...</td>\n",
       "      <td>...</td>\n",
       "      <td>...</td>\n",
       "      <td>...</td>\n",
       "      <td>...</td>\n",
       "      <td>...</td>\n",
       "      <td>...</td>\n",
       "      <td>...</td>\n",
       "    </tr>\n",
       "    <tr>\n",
       "      <th>74839</th>\n",
       "      <td>2024-02-26</td>\n",
       "      <td>GOOG</td>\n",
       "      <td>138.750000</td>\n",
       "      <td>138.750000</td>\n",
       "      <td>143.839996</td>\n",
       "      <td>138.740005</td>\n",
       "      <td>143.449997</td>\n",
       "      <td>33513000.0</td>\n",
       "    </tr>\n",
       "    <tr>\n",
       "      <th>74840</th>\n",
       "      <td>2024-02-27</td>\n",
       "      <td>GOOG</td>\n",
       "      <td>140.100006</td>\n",
       "      <td>140.100006</td>\n",
       "      <td>140.490005</td>\n",
       "      <td>138.500000</td>\n",
       "      <td>139.410004</td>\n",
       "      <td>22364000.0</td>\n",
       "    </tr>\n",
       "    <tr>\n",
       "      <th>74841</th>\n",
       "      <td>2024-02-28</td>\n",
       "      <td>GOOG</td>\n",
       "      <td>137.429993</td>\n",
       "      <td>137.429993</td>\n",
       "      <td>139.279999</td>\n",
       "      <td>136.639999</td>\n",
       "      <td>139.100006</td>\n",
       "      <td>30628700.0</td>\n",
       "    </tr>\n",
       "    <tr>\n",
       "      <th>74842</th>\n",
       "      <td>2024-02-29</td>\n",
       "      <td>GOOG</td>\n",
       "      <td>139.779999</td>\n",
       "      <td>139.779999</td>\n",
       "      <td>139.949997</td>\n",
       "      <td>137.570007</td>\n",
       "      <td>138.350006</td>\n",
       "      <td>35485000.0</td>\n",
       "    </tr>\n",
       "    <tr>\n",
       "      <th>74843</th>\n",
       "      <td>2024-03-01</td>\n",
       "      <td>GOOG</td>\n",
       "      <td>138.080002</td>\n",
       "      <td>138.080002</td>\n",
       "      <td>140.000000</td>\n",
       "      <td>137.975006</td>\n",
       "      <td>139.610001</td>\n",
       "      <td>28522000.0</td>\n",
       "    </tr>\n",
       "  </tbody>\n",
       "</table>\n",
       "<p>3564 rows × 8 columns</p>\n",
       "</div>"
      ],
      "text/plain": [
       "             Date Symbol   Adj Close       Close        High         Low  \\\n",
       "71280  2010-01-04   GOOG   15.610239   15.610239   15.678981   15.547723   \n",
       "71281  2010-01-05   GOOG   15.541497   15.541497   15.637387   15.480475   \n",
       "71282  2010-01-06   GOOG   15.149715   15.149715   15.588072   15.102393   \n",
       "71283  2010-01-07   GOOG   14.797037   14.797037   15.193053   14.760922   \n",
       "71284  2010-01-08   GOOG   14.994298   14.994298   15.024933   14.672753   \n",
       "...           ...    ...         ...         ...         ...         ...   \n",
       "74839  2024-02-26   GOOG  138.750000  138.750000  143.839996  138.740005   \n",
       "74840  2024-02-27   GOOG  140.100006  140.100006  140.490005  138.500000   \n",
       "74841  2024-02-28   GOOG  137.429993  137.429993  139.279999  136.639999   \n",
       "74842  2024-02-29   GOOG  139.779999  139.779999  139.949997  137.570007   \n",
       "74843  2024-03-01   GOOG  138.080002  138.080002  140.000000  137.975006   \n",
       "\n",
       "             Open       Volume  \n",
       "71280   15.615220   78541293.0  \n",
       "71281   15.620949  120638494.0  \n",
       "71282   15.588072  159744526.0  \n",
       "71283   15.178109  257533695.0  \n",
       "71284   14.744733  189680313.0  \n",
       "...           ...          ...  \n",
       "74839  143.449997   33513000.0  \n",
       "74840  139.410004   22364000.0  \n",
       "74841  139.100006   30628700.0  \n",
       "74842  138.350006   35485000.0  \n",
       "74843  139.610001   28522000.0  \n",
       "\n",
       "[3564 rows x 8 columns]"
      ]
     },
     "execution_count": 39,
     "metadata": {},
     "output_type": "execute_result"
    }
   ],
   "source": [
    "goog_df"
   ]
  },
  {
   "cell_type": "code",
   "execution_count": 40,
   "id": "b1b68b39-7577-437b-829e-a1fa9ccd15b1",
   "metadata": {
    "scrolled": true
   },
   "outputs": [
    {
     "name": "stdout",
     "output_type": "stream",
     "text": [
      "<class 'pandas.core.frame.DataFrame'>\n",
      "Index: 3564 entries, 71280 to 74843\n",
      "Data columns (total 8 columns):\n",
      " #   Column     Non-Null Count  Dtype  \n",
      "---  ------     --------------  -----  \n",
      " 0   Date       3564 non-null   object \n",
      " 1   Symbol     3564 non-null   object \n",
      " 2   Adj Close  3564 non-null   float64\n",
      " 3   Close      3564 non-null   float64\n",
      " 4   High       3564 non-null   float64\n",
      " 5   Low        3564 non-null   float64\n",
      " 6   Open       3564 non-null   float64\n",
      " 7   Volume     3564 non-null   float64\n",
      "dtypes: float64(6), object(2)\n",
      "memory usage: 250.6+ KB\n"
     ]
    }
   ],
   "source": [
    "goog_df.info() # Checking the datatypes to make sure I am able to easily manipulate them later"
   ]
  },
  {
   "cell_type": "markdown",
   "id": "7bb62837-51a1-436a-adcf-081c702e6d50",
   "metadata": {},
   "source": [
    "The `Date` column is still an object type so we will be changing it to a panadas datatime object for easier feature manipulation."
   ]
  },
  {
   "cell_type": "code",
   "execution_count": 35,
   "id": "b2a4d0ff-7723-43fc-8794-8d555b575b31",
   "metadata": {},
   "outputs": [],
   "source": [
    "goog_date =pd.to_datetime(goog_df['Date']) #Creating the conversion to datetime object and storing it in a variable "
   ]
  },
  {
   "cell_type": "code",
   "execution_count": 36,
   "id": "96125afa-388c-42f2-aea0-db3374cca631",
   "metadata": {},
   "outputs": [],
   "source": [
    "goog_df['Date'] = goog_date # Apply the conversion to the original dataframe and the related column"
   ]
  },
  {
   "cell_type": "code",
   "execution_count": 37,
   "id": "c277faee-9596-48bd-b05e-f14febf3dbfb",
   "metadata": {},
   "outputs": [
    {
     "name": "stdout",
     "output_type": "stream",
     "text": [
      "<class 'pandas.core.frame.DataFrame'>\n",
      "Index: 3564 entries, 71280 to 74843\n",
      "Data columns (total 8 columns):\n",
      " #   Column     Non-Null Count  Dtype         \n",
      "---  ------     --------------  -----         \n",
      " 0   Date       3564 non-null   datetime64[ns]\n",
      " 1   Symbol     3564 non-null   object        \n",
      " 2   Adj Close  3564 non-null   float64       \n",
      " 3   Close      3564 non-null   float64       \n",
      " 4   High       3564 non-null   float64       \n",
      " 5   Low        3564 non-null   float64       \n",
      " 6   Open       3564 non-null   float64       \n",
      " 7   Volume     3564 non-null   float64       \n",
      "dtypes: datetime64[ns](1), float64(6), object(1)\n",
      "memory usage: 250.6+ KB\n"
     ]
    }
   ],
   "source": [
    "goog_df.info() # Checking if the change was made "
   ]
  },
  {
   "cell_type": "markdown",
   "id": "96e3a7c2-d2a6-4d49-ad20-6ce88d3c0e8f",
   "metadata": {},
   "source": [
    "### Basic Graphing for GOOG Dataframe"
   ]
  },
  {
   "cell_type": "code",
   "execution_count": 38,
   "id": "e821951b-39e2-46fc-ae19-0640fc9ff3e2",
   "metadata": {},
   "outputs": [
    {
     "data": {
      "image/png": "[encoded data removed]",
      "text/plain": [
       "<Figure size 640x480 with 1 Axes>"
      ]
     },
     "metadata": {},
     "output_type": "display_data"
    }
   ],
   "source": [
    "#Plotting the price changes for GOOG stock over 10 years. We will be using the end of day close price to plot the graph \n",
    "plt.plot(goog_df['Date'],goog_df['Close'])\n",
    "plt.title(\"Google Stock Price Change Over Time\")\n",
    "plt.xlabel(\"Date\")\n",
    "plt.ylabel(\"Close Price\")\n",
    "plt.show()\n"
   ]
  },
  {
   "cell_type": "markdown",
   "id": "3f32a5ca-fd8c-4291-90e2-38bb6fdd8da7",
   "metadata": {},
   "source": [
    "### Comparison to the S&P 500 Index"
   ]
  },
  {
   "cell_type": "code",
   "execution_count": 39,
   "id": "8f997a19-2e98-412b-a552-e5ffeccb43a8",
   "metadata": {},
   "outputs": [
    {
     "data": {
      "image/png": "[encoded data removed]",
      "text/plain": [
       "<Figure size 640x480 with 1 Axes>"
      ]
     },
     "metadata": {},
     "output_type": "display_data"
    },
    {
     "data": {
      "image/png": "[encoded data removed]",
      "text/plain": [
       "<Figure size 640x480 with 1 Axes>"
      ]
     },
     "metadata": {},
     "output_type": "display_data"
    }
   ],
   "source": [
    "#Subplot one with the Google stock \n",
    "plt.figure(1)\n",
    "plt.subplot(211)\n",
    "plt.plot(goog_df['Date'],goog_df['Close'])\n",
    "plt.title(\"Google Stock Price Change Over Time\")\n",
    "plt.xlabel(\"Date\")\n",
    "plt.ylabel(\"Close Price\")\n",
    "plt.show()\n",
    "\n",
    "#Subplot two with the S&P500 index \n",
    "plt.subplot(212)\n",
    "plt.plot(sp500_df['Date'],sp500_df['S&P500'])\n",
    "plt.title(\"S&P 500 Index Price Change Over Time\")\n",
    "plt.xlabel(\"Date\")\n",
    "plt.ylabel(\"Price\")\n",
    "plt.show()"
   ]
  },
  {
   "cell_type": "markdown",
   "id": "996a8ae7-f73f-452c-9495-ae63cc40eaeb",
   "metadata": {},
   "source": [
    "As we can see, the graphs are very similar in terms of the trend of the price. This is because Google is part of the S&P 500 so there is a high correlation between the two in terms of price movements. For instance, in the year 2020, they both dropped in price as the economy slowed down due the COVID-19 pandemic. After the pandemic, we can see that both financial instruments increased sharply as the governments had given its citizens a monthly fixed financial benefit(Eg. Canadian Emergency Response Benefit) thus driving spending in the economy."
   ]
  },
  {
   "cell_type": "code",
   "execution_count": 41,
   "id": "5cd12245-1900-42b6-b62d-507238e340ab",
   "metadata": {},
   "outputs": [
    {
     "ename": "ModuleNotFoundError",
     "evalue": "No module named 'yfinance'",
     "output_type": "error",
     "traceback": [
      "\u001b[1;31m---------------------------------------------------------------------------\u001b[0m",
      "\u001b[1;31mModuleNotFoundError\u001b[0m                       Traceback (most recent call last)",
      "Cell \u001b[1;32mIn[41], line 1\u001b[0m\n\u001b[1;32m----> 1\u001b[0m \u001b[38;5;28;01mimport\u001b[39;00m \u001b[38;5;21;01myfinance\u001b[39;00m\n",
      "\u001b[1;31mModuleNotFoundError\u001b[0m: No module named 'yfinance'"
     ]
    }
   ],
   "source": []
  },
  {
   "cell_type": "code",
   "execution_count": null,
   "id": "04b7b3fa-0f59-4e26-a0b4-7fecdb5176e4",
   "metadata": {},
   "outputs": [],
   "source": []
  }
 ],
 "metadata": {
  "kernelspec": {
   "display_name": "stockproject",
   "language": "python",
   "name": "stockproject"
  },
  "language_info": {
   "codemirror_mode": {
    "name": "ipython",
    "version": 3
   },
   "file_extension": ".py",
   "mimetype": "text/x-python",
   "name": "python",
   "nbconvert_exporter": "python",
   "pygments_lexer": "ipython3",
   "version": "3.11.5"
  }
 },
 "nbformat": 4,
 "nbformat_minor": 5
}
