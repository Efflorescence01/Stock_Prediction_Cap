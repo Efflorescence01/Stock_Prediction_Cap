{
 "cells": [
  {
   "cell_type": "markdown",
   "id": "a59c618a-8783-4c76-acd7-d33ba72c8456",
   "metadata": {},
   "source": [
    "# Stock Data, Machine Learning, and Neural Networks"
   ]
  },
  {
   "cell_type": "markdown",
   "id": "3003b993-13cf-4a30-99a5-464b14fb701b",
   "metadata": {},
   "source": [
    "In this notebook, we will be using the cleaned csv file that you obtained from the Stock_api.ipynb notebook to model the data. In this case, we will be using the GOOG.csv file to run machine learning models on. "
   ]
  },
  {
   "cell_type": "code",
   "execution_count": 129,
   "id": "2dc74443-329f-476d-9272-f92a74ca4f3b",
   "metadata": {},
   "outputs": [],
   "source": [
    "#Importing the basic modules.\n",
    "import pandas as pd \n",
    "import numpy as np\n"
   ]
  },
  {
   "cell_type": "code",
   "execution_count": 130,
   "id": "83f96794-9242-4762-b699-319a3a25c6a8",
   "metadata": {},
   "outputs": [],
   "source": [
    "#Import the cleaned dataset from our Stock_api notebook and using the date as the index\n",
    "data = pd.read_csv('C:/Users/linwi/Documents/Stock_test/Cleaned_Dataset/GOOG.csv',index_col = 0)"
   ]
  },
  {
   "cell_type": "code",
   "execution_count": 131,
   "id": "0bf8d600-ca6b-4dbf-b39c-fc2d45364552",
   "metadata": {
    "scrolled": true
   },
   "outputs": [
    {
     "data": {
      "text/html": [
       "<div>\n",
       "<style scoped>\n",
       "    .dataframe tbody tr th:only-of-type {\n",
       "        vertical-align: middle;\n",
       "    }\n",
       "\n",
       "    .dataframe tbody tr th {\n",
       "        vertical-align: top;\n",
       "    }\n",
       "\n",
       "    .dataframe thead th {\n",
       "        text-align: right;\n",
       "    }\n",
       "</style>\n",
       "<table border=\"1\" class=\"dataframe\">\n",
       "  <thead>\n",
       "    <tr style=\"text-align: right;\">\n",
       "      <th></th>\n",
       "      <th>open</th>\n",
       "      <th>high</th>\n",
       "      <th>low</th>\n",
       "      <th>close</th>\n",
       "      <th>adjusted close</th>\n",
       "      <th>volume</th>\n",
       "    </tr>\n",
       "  </thead>\n",
       "  <tbody>\n",
       "    <tr>\n",
       "      <th>2024-04-01</th>\n",
       "      <td>151.650</td>\n",
       "      <td>156.990</td>\n",
       "      <td>151.65</td>\n",
       "      <td>156.50</td>\n",
       "      <td>156.50</td>\n",
       "      <td>24413368</td>\n",
       "    </tr>\n",
       "    <tr>\n",
       "      <th>2024-03-28</th>\n",
       "      <td>152.000</td>\n",
       "      <td>152.670</td>\n",
       "      <td>151.33</td>\n",
       "      <td>152.26</td>\n",
       "      <td>152.26</td>\n",
       "      <td>21105628</td>\n",
       "    </tr>\n",
       "    <tr>\n",
       "      <th>2024-03-27</th>\n",
       "      <td>152.145</td>\n",
       "      <td>152.690</td>\n",
       "      <td>150.13</td>\n",
       "      <td>151.94</td>\n",
       "      <td>151.94</td>\n",
       "      <td>16621964</td>\n",
       "    </tr>\n",
       "    <tr>\n",
       "      <th>2024-03-26</th>\n",
       "      <td>151.240</td>\n",
       "      <td>153.200</td>\n",
       "      <td>151.03</td>\n",
       "      <td>151.70</td>\n",
       "      <td>151.70</td>\n",
       "      <td>19312694</td>\n",
       "    </tr>\n",
       "    <tr>\n",
       "      <th>2024-03-25</th>\n",
       "      <td>150.950</td>\n",
       "      <td>151.456</td>\n",
       "      <td>148.80</td>\n",
       "      <td>151.15</td>\n",
       "      <td>151.15</td>\n",
       "      <td>15114728</td>\n",
       "    </tr>\n",
       "  </tbody>\n",
       "</table>\n",
       "</div>"
      ],
      "text/plain": [
       "               open     high     low   close  adjusted close    volume\n",
       "2024-04-01  151.650  156.990  151.65  156.50          156.50  24413368\n",
       "2024-03-28  152.000  152.670  151.33  152.26          152.26  21105628\n",
       "2024-03-27  152.145  152.690  150.13  151.94          151.94  16621964\n",
       "2024-03-26  151.240  153.200  151.03  151.70          151.70  19312694\n",
       "2024-03-25  150.950  151.456  148.80  151.15          151.15  15114728"
      ]
     },
     "execution_count": 131,
     "metadata": {},
     "output_type": "execute_result"
    }
   ],
   "source": [
    "#Check\n",
    "data.head()"
   ]
  },
  {
   "cell_type": "code",
   "execution_count": 132,
   "id": "9f8091b1-937a-43cc-b8dc-5f210acae588",
   "metadata": {},
   "outputs": [
    {
     "name": "stdout",
     "output_type": "stream",
     "text": [
      "<class 'pandas.core.frame.DataFrame'>\n",
      "Index: 2520 entries, 2024-04-01 to 2014-03-27\n",
      "Data columns (total 6 columns):\n",
      " #   Column          Non-Null Count  Dtype  \n",
      "---  ------          --------------  -----  \n",
      " 0   open            2520 non-null   float64\n",
      " 1   high            2520 non-null   float64\n",
      " 2   low             2520 non-null   float64\n",
      " 3   close           2520 non-null   float64\n",
      " 4   adjusted close  2520 non-null   float64\n",
      " 5   volume          2520 non-null   int64  \n",
      "dtypes: float64(5), int64(1)\n",
      "memory usage: 137.8+ KB\n"
     ]
    }
   ],
   "source": [
    "#Check the information of the dataframe\n",
    "data.info()"
   ]
  },
  {
   "cell_type": "code",
   "execution_count": 133,
   "id": "ef68fcf8-b294-4173-9ef6-1b0eccd1b66e",
   "metadata": {},
   "outputs": [],
   "source": [
    "#Changng the datatype of the index to date time.\n",
    "data.index = pd.to_datetime(data.index)"
   ]
  },
  {
   "cell_type": "code",
   "execution_count": 134,
   "id": "c7d20b34-1497-41fb-bf3e-f9903a12f741",
   "metadata": {},
   "outputs": [
    {
     "name": "stdout",
     "output_type": "stream",
     "text": [
      "<class 'pandas.core.frame.DataFrame'>\n",
      "DatetimeIndex: 2520 entries, 2024-04-01 to 2014-03-27\n",
      "Data columns (total 6 columns):\n",
      " #   Column          Non-Null Count  Dtype  \n",
      "---  ------          --------------  -----  \n",
      " 0   open            2520 non-null   float64\n",
      " 1   high            2520 non-null   float64\n",
      " 2   low             2520 non-null   float64\n",
      " 3   close           2520 non-null   float64\n",
      " 4   adjusted close  2520 non-null   float64\n",
      " 5   volume          2520 non-null   int64  \n",
      "dtypes: float64(5), int64(1)\n",
      "memory usage: 137.8 KB\n"
     ]
    }
   ],
   "source": [
    "#check \n",
    "data.info()"
   ]
  },
  {
   "cell_type": "markdown",
   "id": "ac0438d0-6ea0-49f3-9ccf-2dc79eaf02fd",
   "metadata": {},
   "source": [
    "## Modeling,Visualizations, and Evaluations"
   ]
  },
  {
   "cell_type": "markdown",
   "id": "3b88f100-b8c8-41b1-8485-4973d0b88d72",
   "metadata": {},
   "source": [
    "### Preprocessing and Feature Engineering"
   ]
  },
  {
   "cell_type": "markdown",
   "id": "0f9e805b-b006-4276-9be3-df91861baa16",
   "metadata": {},
   "source": [
    "Our target will be the next day's price of the stock. We will be creating new columns to help with the modeling."
   ]
  },
  {
   "cell_type": "code",
   "execution_count": 135,
   "id": "8bbee3d4-4dcf-41bc-aae6-652a6f20ad0c",
   "metadata": {},
   "outputs": [],
   "source": [
    "#Create a new column for called tomorrow. This gives us the adjusted close price for the next day.\n",
    "data['Tomorrow_Adj_close'] = data[\"adjusted close\"].shift(1)"
   ]
  },
  {
   "cell_type": "code",
   "execution_count": 136,
   "id": "1e09cffd-1cde-4895-97f7-b043dc29ae6c",
   "metadata": {},
   "outputs": [
    {
     "data": {
      "text/html": [
       "<div>\n",
       "<style scoped>\n",
       "    .dataframe tbody tr th:only-of-type {\n",
       "        vertical-align: middle;\n",
       "    }\n",
       "\n",
       "    .dataframe tbody tr th {\n",
       "        vertical-align: top;\n",
       "    }\n",
       "\n",
       "    .dataframe thead th {\n",
       "        text-align: right;\n",
       "    }\n",
       "</style>\n",
       "<table border=\"1\" class=\"dataframe\">\n",
       "  <thead>\n",
       "    <tr style=\"text-align: right;\">\n",
       "      <th></th>\n",
       "      <th>open</th>\n",
       "      <th>high</th>\n",
       "      <th>low</th>\n",
       "      <th>close</th>\n",
       "      <th>adjusted close</th>\n",
       "      <th>volume</th>\n",
       "      <th>Tomorrow_Adj_close</th>\n",
       "    </tr>\n",
       "  </thead>\n",
       "  <tbody>\n",
       "    <tr>\n",
       "      <th>2024-04-01</th>\n",
       "      <td>151.650</td>\n",
       "      <td>156.990</td>\n",
       "      <td>151.65</td>\n",
       "      <td>156.50</td>\n",
       "      <td>156.5000</td>\n",
       "      <td>24413368</td>\n",
       "      <td>NaN</td>\n",
       "    </tr>\n",
       "    <tr>\n",
       "      <th>2024-03-28</th>\n",
       "      <td>152.000</td>\n",
       "      <td>152.670</td>\n",
       "      <td>151.33</td>\n",
       "      <td>152.26</td>\n",
       "      <td>152.2600</td>\n",
       "      <td>21105628</td>\n",
       "      <td>156.5000</td>\n",
       "    </tr>\n",
       "    <tr>\n",
       "      <th>2024-03-27</th>\n",
       "      <td>152.145</td>\n",
       "      <td>152.690</td>\n",
       "      <td>150.13</td>\n",
       "      <td>151.94</td>\n",
       "      <td>151.9400</td>\n",
       "      <td>16621964</td>\n",
       "      <td>152.2600</td>\n",
       "    </tr>\n",
       "    <tr>\n",
       "      <th>2024-03-26</th>\n",
       "      <td>151.240</td>\n",
       "      <td>153.200</td>\n",
       "      <td>151.03</td>\n",
       "      <td>151.70</td>\n",
       "      <td>151.7000</td>\n",
       "      <td>19312694</td>\n",
       "      <td>151.9400</td>\n",
       "    </tr>\n",
       "    <tr>\n",
       "      <th>2024-03-25</th>\n",
       "      <td>150.950</td>\n",
       "      <td>151.456</td>\n",
       "      <td>148.80</td>\n",
       "      <td>151.15</td>\n",
       "      <td>151.1500</td>\n",
       "      <td>15114728</td>\n",
       "      <td>151.7000</td>\n",
       "    </tr>\n",
       "    <tr>\n",
       "      <th>...</th>\n",
       "      <td>...</td>\n",
       "      <td>...</td>\n",
       "      <td>...</td>\n",
       "      <td>...</td>\n",
       "      <td>...</td>\n",
       "      <td>...</td>\n",
       "      <td>...</td>\n",
       "    </tr>\n",
       "    <tr>\n",
       "      <th>2014-04-02</th>\n",
       "      <td>565.106</td>\n",
       "      <td>604.830</td>\n",
       "      <td>562.19</td>\n",
       "      <td>567.00</td>\n",
       "      <td>28.3500</td>\n",
       "      <td>146700</td>\n",
       "      <td>28.4870</td>\n",
       "    </tr>\n",
       "    <tr>\n",
       "      <th>2014-04-01</th>\n",
       "      <td>558.710</td>\n",
       "      <td>568.450</td>\n",
       "      <td>558.71</td>\n",
       "      <td>567.16</td>\n",
       "      <td>28.3580</td>\n",
       "      <td>7900</td>\n",
       "      <td>28.3500</td>\n",
       "    </tr>\n",
       "    <tr>\n",
       "      <th>2014-03-31</th>\n",
       "      <td>566.890</td>\n",
       "      <td>567.000</td>\n",
       "      <td>556.93</td>\n",
       "      <td>556.97</td>\n",
       "      <td>27.8485</td>\n",
       "      <td>10800</td>\n",
       "      <td>28.3580</td>\n",
       "    </tr>\n",
       "    <tr>\n",
       "      <th>2014-03-28</th>\n",
       "      <td>561.200</td>\n",
       "      <td>566.430</td>\n",
       "      <td>558.67</td>\n",
       "      <td>559.99</td>\n",
       "      <td>27.9995</td>\n",
       "      <td>41100</td>\n",
       "      <td>27.8485</td>\n",
       "    </tr>\n",
       "    <tr>\n",
       "      <th>2014-03-27</th>\n",
       "      <td>568.000</td>\n",
       "      <td>568.000</td>\n",
       "      <td>552.92</td>\n",
       "      <td>558.46</td>\n",
       "      <td>27.9230</td>\n",
       "      <td>13100</td>\n",
       "      <td>27.9995</td>\n",
       "    </tr>\n",
       "  </tbody>\n",
       "</table>\n",
       "<p>2520 rows × 7 columns</p>\n",
       "</div>"
      ],
      "text/plain": [
       "               open     high     low   close  adjusted close    volume  \\\n",
       "2024-04-01  151.650  156.990  151.65  156.50        156.5000  24413368   \n",
       "2024-03-28  152.000  152.670  151.33  152.26        152.2600  21105628   \n",
       "2024-03-27  152.145  152.690  150.13  151.94        151.9400  16621964   \n",
       "2024-03-26  151.240  153.200  151.03  151.70        151.7000  19312694   \n",
       "2024-03-25  150.950  151.456  148.80  151.15        151.1500  15114728   \n",
       "...             ...      ...     ...     ...             ...       ...   \n",
       "2014-04-02  565.106  604.830  562.19  567.00         28.3500    146700   \n",
       "2014-04-01  558.710  568.450  558.71  567.16         28.3580      7900   \n",
       "2014-03-31  566.890  567.000  556.93  556.97         27.8485     10800   \n",
       "2014-03-28  561.200  566.430  558.67  559.99         27.9995     41100   \n",
       "2014-03-27  568.000  568.000  552.92  558.46         27.9230     13100   \n",
       "\n",
       "            Tomorrow_Adj_close  \n",
       "2024-04-01                 NaN  \n",
       "2024-03-28            156.5000  \n",
       "2024-03-27            152.2600  \n",
       "2024-03-26            151.9400  \n",
       "2024-03-25            151.7000  \n",
       "...                        ...  \n",
       "2014-04-02             28.4870  \n",
       "2014-04-01             28.3500  \n",
       "2014-03-31             28.3580  \n",
       "2014-03-28             27.8485  \n",
       "2014-03-27             27.9995  \n",
       "\n",
       "[2520 rows x 7 columns]"
      ]
     },
     "execution_count": 136,
     "metadata": {},
     "output_type": "execute_result"
    }
   ],
   "source": [
    "#Check\n",
    "data"
   ]
  },
  {
   "cell_type": "markdown",
   "id": "917c50ba-514c-47b9-bf4c-6143003abfa2",
   "metadata": {},
   "source": [
    "We will be getting rid of the `close` column as it doesn't adjust for stock splits."
   ]
  },
  {
   "cell_type": "code",
   "execution_count": 137,
   "id": "48268781-addf-4bdf-86f2-06b3b05c237b",
   "metadata": {},
   "outputs": [],
   "source": [
    "del data['close']"
   ]
  },
  {
   "cell_type": "markdown",
   "id": "17151cf3-1df6-465b-933c-ea18146cf0e9",
   "metadata": {},
   "source": [
    "Create another column called `Target` to see if `Tomorrow_Adj_close` price is greater than present day's `Close` price. We may use the target column later to predict the direction that the stock will go. But for now, we will be focused on predicting the future price of the stock."
   ]
  },
  {
   "cell_type": "code",
   "execution_count": 138,
   "id": "9feb6558-b5f2-478b-beea-e97b5da5cf78",
   "metadata": {},
   "outputs": [],
   "source": [
    "#Create a new column called Target of 1(True) and 0(False) to see if tomorrow's adjusted close price is greater than today's close price.\n",
    "data[\"Target\"] = (data['Tomorrow_Adj_close'] > data[\"adjusted close\"]).astype(int)"
   ]
  },
  {
   "cell_type": "code",
   "execution_count": 139,
   "id": "498b1668-2d2d-46bb-a809-0e324f1c22e1",
   "metadata": {
    "scrolled": true
   },
   "outputs": [
    {
     "data": {
      "text/html": [
       "<div>\n",
       "<style scoped>\n",
       "    .dataframe tbody tr th:only-of-type {\n",
       "        vertical-align: middle;\n",
       "    }\n",
       "\n",
       "    .dataframe tbody tr th {\n",
       "        vertical-align: top;\n",
       "    }\n",
       "\n",
       "    .dataframe thead th {\n",
       "        text-align: right;\n",
       "    }\n",
       "</style>\n",
       "<table border=\"1\" class=\"dataframe\">\n",
       "  <thead>\n",
       "    <tr style=\"text-align: right;\">\n",
       "      <th></th>\n",
       "      <th>open</th>\n",
       "      <th>high</th>\n",
       "      <th>low</th>\n",
       "      <th>adjusted close</th>\n",
       "      <th>volume</th>\n",
       "      <th>Tomorrow_Adj_close</th>\n",
       "      <th>Target</th>\n",
       "    </tr>\n",
       "  </thead>\n",
       "  <tbody>\n",
       "    <tr>\n",
       "      <th>2024-04-01</th>\n",
       "      <td>151.650</td>\n",
       "      <td>156.990</td>\n",
       "      <td>151.65</td>\n",
       "      <td>156.5000</td>\n",
       "      <td>24413368</td>\n",
       "      <td>NaN</td>\n",
       "      <td>0</td>\n",
       "    </tr>\n",
       "    <tr>\n",
       "      <th>2024-03-28</th>\n",
       "      <td>152.000</td>\n",
       "      <td>152.670</td>\n",
       "      <td>151.33</td>\n",
       "      <td>152.2600</td>\n",
       "      <td>21105628</td>\n",
       "      <td>156.5000</td>\n",
       "      <td>1</td>\n",
       "    </tr>\n",
       "    <tr>\n",
       "      <th>2024-03-27</th>\n",
       "      <td>152.145</td>\n",
       "      <td>152.690</td>\n",
       "      <td>150.13</td>\n",
       "      <td>151.9400</td>\n",
       "      <td>16621964</td>\n",
       "      <td>152.2600</td>\n",
       "      <td>1</td>\n",
       "    </tr>\n",
       "    <tr>\n",
       "      <th>2024-03-26</th>\n",
       "      <td>151.240</td>\n",
       "      <td>153.200</td>\n",
       "      <td>151.03</td>\n",
       "      <td>151.7000</td>\n",
       "      <td>19312694</td>\n",
       "      <td>151.9400</td>\n",
       "      <td>1</td>\n",
       "    </tr>\n",
       "    <tr>\n",
       "      <th>2024-03-25</th>\n",
       "      <td>150.950</td>\n",
       "      <td>151.456</td>\n",
       "      <td>148.80</td>\n",
       "      <td>151.1500</td>\n",
       "      <td>15114728</td>\n",
       "      <td>151.7000</td>\n",
       "      <td>1</td>\n",
       "    </tr>\n",
       "    <tr>\n",
       "      <th>...</th>\n",
       "      <td>...</td>\n",
       "      <td>...</td>\n",
       "      <td>...</td>\n",
       "      <td>...</td>\n",
       "      <td>...</td>\n",
       "      <td>...</td>\n",
       "      <td>...</td>\n",
       "    </tr>\n",
       "    <tr>\n",
       "      <th>2014-04-02</th>\n",
       "      <td>565.106</td>\n",
       "      <td>604.830</td>\n",
       "      <td>562.19</td>\n",
       "      <td>28.3500</td>\n",
       "      <td>146700</td>\n",
       "      <td>28.4870</td>\n",
       "      <td>1</td>\n",
       "    </tr>\n",
       "    <tr>\n",
       "      <th>2014-04-01</th>\n",
       "      <td>558.710</td>\n",
       "      <td>568.450</td>\n",
       "      <td>558.71</td>\n",
       "      <td>28.3580</td>\n",
       "      <td>7900</td>\n",
       "      <td>28.3500</td>\n",
       "      <td>0</td>\n",
       "    </tr>\n",
       "    <tr>\n",
       "      <th>2014-03-31</th>\n",
       "      <td>566.890</td>\n",
       "      <td>567.000</td>\n",
       "      <td>556.93</td>\n",
       "      <td>27.8485</td>\n",
       "      <td>10800</td>\n",
       "      <td>28.3580</td>\n",
       "      <td>1</td>\n",
       "    </tr>\n",
       "    <tr>\n",
       "      <th>2014-03-28</th>\n",
       "      <td>561.200</td>\n",
       "      <td>566.430</td>\n",
       "      <td>558.67</td>\n",
       "      <td>27.9995</td>\n",
       "      <td>41100</td>\n",
       "      <td>27.8485</td>\n",
       "      <td>0</td>\n",
       "    </tr>\n",
       "    <tr>\n",
       "      <th>2014-03-27</th>\n",
       "      <td>568.000</td>\n",
       "      <td>568.000</td>\n",
       "      <td>552.92</td>\n",
       "      <td>27.9230</td>\n",
       "      <td>13100</td>\n",
       "      <td>27.9995</td>\n",
       "      <td>1</td>\n",
       "    </tr>\n",
       "  </tbody>\n",
       "</table>\n",
       "<p>2520 rows × 7 columns</p>\n",
       "</div>"
      ],
      "text/plain": [
       "               open     high     low  adjusted close    volume  \\\n",
       "2024-04-01  151.650  156.990  151.65        156.5000  24413368   \n",
       "2024-03-28  152.000  152.670  151.33        152.2600  21105628   \n",
       "2024-03-27  152.145  152.690  150.13        151.9400  16621964   \n",
       "2024-03-26  151.240  153.200  151.03        151.7000  19312694   \n",
       "2024-03-25  150.950  151.456  148.80        151.1500  15114728   \n",
       "...             ...      ...     ...             ...       ...   \n",
       "2014-04-02  565.106  604.830  562.19         28.3500    146700   \n",
       "2014-04-01  558.710  568.450  558.71         28.3580      7900   \n",
       "2014-03-31  566.890  567.000  556.93         27.8485     10800   \n",
       "2014-03-28  561.200  566.430  558.67         27.9995     41100   \n",
       "2014-03-27  568.000  568.000  552.92         27.9230     13100   \n",
       "\n",
       "            Tomorrow_Adj_close  Target  \n",
       "2024-04-01                 NaN       0  \n",
       "2024-03-28            156.5000       1  \n",
       "2024-03-27            152.2600       1  \n",
       "2024-03-26            151.9400       1  \n",
       "2024-03-25            151.7000       1  \n",
       "...                        ...     ...  \n",
       "2014-04-02             28.4870       1  \n",
       "2014-04-01             28.3500       0  \n",
       "2014-03-31             28.3580       1  \n",
       "2014-03-28             27.8485       0  \n",
       "2014-03-27             27.9995       1  \n",
       "\n",
       "[2520 rows x 7 columns]"
      ]
     },
     "execution_count": 139,
     "metadata": {},
     "output_type": "execute_result"
    }
   ],
   "source": [
    "data"
   ]
  },
  {
   "cell_type": "code",
   "execution_count": 140,
   "id": "2f8d7beb-9856-4395-9c24-e6afb73e101e",
   "metadata": {},
   "outputs": [],
   "source": [
    "#Dropping null values\n",
    "data.dropna(inplace = True)"
   ]
  },
  {
   "cell_type": "markdown",
   "id": "455731b2-710b-4bd2-939c-accfce937a18",
   "metadata": {},
   "source": [
    "Now that we have set up our data and did some feature engineering, we will start with modeling."
   ]
  },
  {
   "cell_type": "markdown",
   "id": "feacc7eb-1c95-4327-a52b-08d48e5adebe",
   "metadata": {},
   "source": [
    "### Modeling"
   ]
  },
  {
   "cell_type": "code",
   "execution_count": 141,
   "id": "80f68351-3b29-44e5-be78-6ba48ab706ec",
   "metadata": {},
   "outputs": [],
   "source": [
    "#Importing the Linear Regression Model\n",
    "from sklearn.linear_model import LinearRegression #Importing the baseline linear regression model"
   ]
  },
  {
   "cell_type": "markdown",
   "id": "5032449a-defd-4e8a-a7ca-e24643a53a04",
   "metadata": {},
   "source": [
    "We will be using the linear regression model as our baseline model to predict the `Tomorrow_Adj_Close` price."
   ]
  },
  {
   "cell_type": "code",
   "execution_count": 142,
   "id": "13d37d64-2b61-4ebe-9a7e-c95c2ec16769",
   "metadata": {},
   "outputs": [],
   "source": [
    "model = LinearRegression()"
   ]
  },
  {
   "cell_type": "markdown",
   "id": "904daf3a-f90b-4c00-9461-151f1adb8a2a",
   "metadata": {},
   "source": [
    "#### Splitting the Data"
   ]
  },
  {
   "cell_type": "code",
   "execution_count": 143,
   "id": "314bd971-1465-415f-9fe2-84881ee1b3da",
   "metadata": {},
   "outputs": [],
   "source": [
    "train = data.iloc[100:]\n",
    "test = data.iloc[:100] \n",
    "\n",
    "predictors = [\"adjusted close\", \"open\", \"high\", \"volume\", \"low\"]"
   ]
  },
  {
   "cell_type": "markdown",
   "id": "63bdd63e-e0de-4aaa-86fe-0b8547ad390f",
   "metadata": {},
   "source": [
    "The predictors are the columns that we will be using to predict the future price and target direction of the stock. Thus, we are excluding `target` and `Tomorrow_adj_close` since it has data of the future records."
   ]
  },
  {
   "cell_type": "markdown",
   "id": "d1faed16-ce42-4e7d-a8ce-3dca33c5e8bc",
   "metadata": {},
   "source": [
    "#### Linear Regression"
   ]
  },
  {
   "cell_type": "code",
   "execution_count": 144,
   "id": "2739aa80-133d-4126-8328-50c713079de6",
   "metadata": {},
   "outputs": [],
   "source": [
    "regression_results = model.fit(train[predictors],train[\"Tomorrow_Adj_close\"])"
   ]
  },
  {
   "cell_type": "code",
   "execution_count": 145,
   "id": "0a237c34-5547-4006-ab63-ad18543a2480",
   "metadata": {},
   "outputs": [],
   "source": [
    "from sklearn.metrics import mean_absolute_error, mean_squared_error,mean_absolute_percentage_error\n",
    "#Getting the predictions of the model\n",
    "predictions = model.predict(test[predictors])"
   ]
  },
  {
   "cell_type": "code",
   "execution_count": 146,
   "id": "b04ef319-18b5-43ac-8ed0-38a323a7488b",
   "metadata": {},
   "outputs": [
    {
     "data": {
      "text/plain": [
       "2024-03-28    152.236946\n",
       "2024-03-27    151.899434\n",
       "2024-03-26    151.669163\n",
       "2024-03-25    151.104323\n",
       "2024-03-22    151.738446\n",
       "                 ...    \n",
       "2023-11-09    131.678151\n",
       "2023-11-08    133.234224\n",
       "2023-11-07    132.391606\n",
       "2023-11-06    131.427195\n",
       "2023-11-03    130.364835\n",
       "Length: 100, dtype: float64"
      ]
     },
     "execution_count": 146,
     "metadata": {},
     "output_type": "execute_result"
    }
   ],
   "source": [
    "#Turning the predictions into a series for easier readability\n",
    "predictions = pd.Series(predictions, index = test.index)\n",
    "predictions"
   ]
  },
  {
   "cell_type": "code",
   "execution_count": 147,
   "id": "46a3e8fd-15be-4697-8aea-ff74d3fb27f0",
   "metadata": {
    "scrolled": true
   },
   "outputs": [
    {
     "name": "stdout",
     "output_type": "stream",
     "text": [
      "The mean absolute error is 1.686761814453429,the mean squared error is 5.440945326220078 and the mean absolute percentage error is 0.0119381744604786.\n"
     ]
    }
   ],
   "source": [
    "#Getting the mean absolute error and mean squared error \n",
    "linear_mae = mean_absolute_error(test['Tomorrow_Adj_close'], predictions)\n",
    "linear_mse = mean_squared_error(test['Tomorrow_Adj_close'],predictions)\n",
    "linear_mape = mean_absolute_percentage_error(test['Tomorrow_Adj_close'],predictions)\n",
    "print(f\"The mean absolute error is {linear_mae},the mean squared error is {linear_mse} and the mean absolute percentage error is {linear_mape}.\")\n"
   ]
  },
  {
   "cell_type": "code",
   "execution_count": 148,
   "id": "161cb65a-352a-49c1-80c4-2eedac7ae55e",
   "metadata": {},
   "outputs": [
    {
     "data": {
      "text/html": [
       "<div>\n",
       "<style scoped>\n",
       "    .dataframe tbody tr th:only-of-type {\n",
       "        vertical-align: middle;\n",
       "    }\n",
       "\n",
       "    .dataframe tbody tr th {\n",
       "        vertical-align: top;\n",
       "    }\n",
       "\n",
       "    .dataframe thead th {\n",
       "        text-align: right;\n",
       "    }\n",
       "</style>\n",
       "<table border=\"1\" class=\"dataframe\">\n",
       "  <thead>\n",
       "    <tr style=\"text-align: right;\">\n",
       "      <th></th>\n",
       "      <th>Model</th>\n",
       "      <th>Metrics</th>\n",
       "      <th>Result</th>\n",
       "    </tr>\n",
       "  </thead>\n",
       "  <tbody>\n",
       "    <tr>\n",
       "      <th>0</th>\n",
       "      <td>Linear Regression</td>\n",
       "      <td>MAE</td>\n",
       "      <td>1.686762</td>\n",
       "    </tr>\n",
       "    <tr>\n",
       "      <th>1</th>\n",
       "      <td>Linear Regression</td>\n",
       "      <td>MSE</td>\n",
       "      <td>5.440945</td>\n",
       "    </tr>\n",
       "    <tr>\n",
       "      <th>2</th>\n",
       "      <td>Linear Regression</td>\n",
       "      <td>MAPE</td>\n",
       "      <td>0.011938</td>\n",
       "    </tr>\n",
       "  </tbody>\n",
       "</table>\n",
       "</div>"
      ],
      "text/plain": [
       "               Model Metrics    Result\n",
       "0  Linear Regression     MAE  1.686762\n",
       "1  Linear Regression     MSE  5.440945\n",
       "2  Linear Regression    MAPE  0.011938"
      ]
     },
     "execution_count": 148,
     "metadata": {},
     "output_type": "execute_result"
    }
   ],
   "source": [
    "Report = {\"Model\": \"Linear Regression\",\n",
    "          \"Metrics\":[\"MAE\", \"MSE\", \"MAPE\"],\n",
    "          \"Result\": [linear_mae,linear_mse,linear_mape]}\n",
    "Report_df = pd.DataFrame(Report)\n",
    "Report_df"
   ]
  },
  {
   "cell_type": "markdown",
   "id": "f8316cff-e835-401a-8227-6a325a3d89f6",
   "metadata": {},
   "source": [
    "Interpretation of Metrics\n",
    "\n",
    "We can see that the errors for the linear regression model are pretty small."
   ]
  },
  {
   "cell_type": "code",
   "execution_count": 149,
   "id": "4630c28a-4561-4a8b-a1dc-704c63b559e8",
   "metadata": {},
   "outputs": [
    {
     "data": {
      "image/png": "[encoded data removed]",
      "text/plain": [
       "<Figure size 640x480 with 1 Axes>"
      ]
     },
     "metadata": {},
     "output_type": "display_data"
    }
   ],
   "source": [
    "import matplotlib.pyplot as plt\n",
    "plt.figure()\n",
    "plt.scatter(x=test.index,y=test['Tomorrow_Adj_close'])\n",
    "plt.scatter(x=test.index,y=predictions)\n",
    "plt.legend(['Tomorrow_Adj_close',' Predictions'])\n",
    "plt.show()"
   ]
  },
  {
   "cell_type": "markdown",
   "id": "35a848a1-9b32-44f0-b3ed-d170b7157387",
   "metadata": {},
   "source": [
    "#### Random Forests"
   ]
  },
  {
   "cell_type": "markdown",
   "id": "38b0b78c-d501-482d-a6d8-8f024ee3b851",
   "metadata": {},
   "source": [
    "We will be using a random forest regressor model to help us predict the future close price for the next day."
   ]
  },
  {
   "cell_type": "code",
   "execution_count": 150,
   "id": "5c23bd0e-4746-4073-8f04-e599f8afd62b",
   "metadata": {},
   "outputs": [],
   "source": [
    "from sklearn.ensemble import RandomForestRegressor\n",
    "#Instantiating the model\n",
    "forest_model = RandomForestRegressor(n_estimators = 100, min_samples_split = 100, random_state = 1)"
   ]
  },
  {
   "cell_type": "code",
   "execution_count": 151,
   "id": "c7534e11-766f-4d0a-8221-5499eb59522a",
   "metadata": {},
   "outputs": [
    {
     "data": {
      "text/html": [
       "<style>#sk-container-id-3 {color: black;background-color: white;}#sk-container-id-3 pre{padding: 0;}#sk-container-id-3 div.sk-toggleable {background-color: white;}#sk-container-id-3 label.sk-toggleable__label {cursor: pointer;display: block;width: 100%;margin-bottom: 0;padding: 0.3em;box-sizing: border-box;text-align: center;}#sk-container-id-3 label.sk-toggleable__label-arrow:before {content: \"▸\";float: left;margin-right: 0.25em;color: #696969;}#sk-container-id-3 label.sk-toggleable__label-arrow:hover:before {color: black;}#sk-container-id-3 div.sk-estimator:hover label.sk-toggleable__label-arrow:before {color: black;}#sk-container-id-3 div.sk-toggleable__content {max-height: 0;max-width: 0;overflow: hidden;text-align: left;background-color: #f0f8ff;}#sk-container-id-3 div.sk-toggleable__content pre {margin: 0.2em;color: black;border-radius: 0.25em;background-color: #f0f8ff;}#sk-container-id-3 input.sk-toggleable__control:checked~div.sk-toggleable__content {max-height: 200px;max-width: 100%;overflow: auto;}#sk-container-id-3 input.sk-toggleable__control:checked~label.sk-toggleable__label-arrow:before {content: \"▾\";}#sk-container-id-3 div.sk-estimator input.sk-toggleable__control:checked~label.sk-toggleable__label {background-color: #d4ebff;}#sk-container-id-3 div.sk-label input.sk-toggleable__control:checked~label.sk-toggleable__label {background-color: #d4ebff;}#sk-container-id-3 input.sk-hidden--visually {border: 0;clip: rect(1px 1px 1px 1px);clip: rect(1px, 1px, 1px, 1px);height: 1px;margin: -1px;overflow: hidden;padding: 0;position: absolute;width: 1px;}#sk-container-id-3 div.sk-estimator {font-family: monospace;background-color: #f0f8ff;border: 1px dotted black;border-radius: 0.25em;box-sizing: border-box;margin-bottom: 0.5em;}#sk-container-id-3 div.sk-estimator:hover {background-color: #d4ebff;}#sk-container-id-3 div.sk-parallel-item::after {content: \"\";width: 100%;border-bottom: 1px solid gray;flex-grow: 1;}#sk-container-id-3 div.sk-label:hover label.sk-toggleable__label {background-color: #d4ebff;}#sk-container-id-3 div.sk-serial::before {content: \"\";position: absolute;border-left: 1px solid gray;box-sizing: border-box;top: 0;bottom: 0;left: 50%;z-index: 0;}#sk-container-id-3 div.sk-serial {display: flex;flex-direction: column;align-items: center;background-color: white;padding-right: 0.2em;padding-left: 0.2em;position: relative;}#sk-container-id-3 div.sk-item {position: relative;z-index: 1;}#sk-container-id-3 div.sk-parallel {display: flex;align-items: stretch;justify-content: center;background-color: white;position: relative;}#sk-container-id-3 div.sk-item::before, #sk-container-id-3 div.sk-parallel-item::before {content: \"\";position: absolute;border-left: 1px solid gray;box-sizing: border-box;top: 0;bottom: 0;left: 50%;z-index: -1;}#sk-container-id-3 div.sk-parallel-item {display: flex;flex-direction: column;z-index: 1;position: relative;background-color: white;}#sk-container-id-3 div.sk-parallel-item:first-child::after {align-self: flex-end;width: 50%;}#sk-container-id-3 div.sk-parallel-item:last-child::after {align-self: flex-start;width: 50%;}#sk-container-id-3 div.sk-parallel-item:only-child::after {width: 0;}#sk-container-id-3 div.sk-dashed-wrapped {border: 1px dashed gray;margin: 0 0.4em 0.5em 0.4em;box-sizing: border-box;padding-bottom: 0.4em;background-color: white;}#sk-container-id-3 div.sk-label label {font-family: monospace;font-weight: bold;display: inline-block;line-height: 1.2em;}#sk-container-id-3 div.sk-label-container {text-align: center;}#sk-container-id-3 div.sk-container {/* jupyter's `normalize.less` sets `[hidden] { display: none; }` but bootstrap.min.css set `[hidden] { display: none !important; }` so we also need the `!important` here to be able to override the default hidden behavior on the sphinx rendered scikit-learn.org. See: https://github.com/scikit-learn/scikit-learn/issues/21755 */display: inline-block !important;position: relative;}#sk-container-id-3 div.sk-text-repr-fallback {display: none;}</style><div id=\"sk-container-id-3\" class=\"sk-top-container\"><div class=\"sk-text-repr-fallback\"><pre>RandomForestRegressor(min_samples_split=100, random_state=1)</pre><b>In a Jupyter environment, please rerun this cell to show the HTML representation or trust the notebook. <br />On GitHub, the HTML representation is unable to render, please try loading this page with nbviewer.org.</b></div><div class=\"sk-container\" hidden><div class=\"sk-item\"><div class=\"sk-estimator sk-toggleable\"><input class=\"sk-toggleable__control sk-hidden--visually\" id=\"sk-estimator-id-3\" type=\"checkbox\" checked><label for=\"sk-estimator-id-3\" class=\"sk-toggleable__label sk-toggleable__label-arrow\">RandomForestRegressor</label><div class=\"sk-toggleable__content\"><pre>RandomForestRegressor(min_samples_split=100, random_state=1)</pre></div></div></div></div></div>"
      ],
      "text/plain": [
       "RandomForestRegressor(min_samples_split=100, random_state=1)"
      ]
     },
     "execution_count": 151,
     "metadata": {},
     "output_type": "execute_result"
    }
   ],
   "source": [
    "forest_model.fit(train[predictors], train[\"Tomorrow_Adj_close\"])"
   ]
  },
  {
   "cell_type": "code",
   "execution_count": 152,
   "id": "0dadbc17-006d-42a8-96a0-40393609603e",
   "metadata": {},
   "outputs": [],
   "source": [
    "#Getting the predictions from the forest model\n",
    "forest_predictions = forest_model.predict(test[predictors])"
   ]
  },
  {
   "cell_type": "code",
   "execution_count": 153,
   "id": "70824ff2-d2c4-4529-8f4d-c3d25c33d82f",
   "metadata": {},
   "outputs": [
    {
     "data": {
      "text/plain": [
       "2024-03-28    142.425916\n",
       "2024-03-27    142.425916\n",
       "2024-03-26    142.425916\n",
       "2024-03-25    142.425916\n",
       "2024-03-22    142.425916\n",
       "                 ...    \n",
       "2023-11-09    129.522622\n",
       "2023-11-08    136.561967\n",
       "2023-11-07    129.751596\n",
       "2023-11-06    129.522622\n",
       "2023-11-03    129.397174\n",
       "Length: 100, dtype: float64"
      ]
     },
     "execution_count": 153,
     "metadata": {},
     "output_type": "execute_result"
    }
   ],
   "source": [
    "#Turning the predictions into a series with the date index for easier interpretation\n",
    "forest_predictions = pd.Series(forest_predictions,index = test.index)\n",
    "forest_predictions"
   ]
  },
  {
   "cell_type": "code",
   "execution_count": 154,
   "id": "504fe6e3-ae51-435c-9493-faf57af648fe",
   "metadata": {},
   "outputs": [
    {
     "data": {
      "image/png": "[encoded data removed]",
      "text/plain": [
       "<Figure size 640x480 with 1 Axes>"
      ]
     },
     "metadata": {},
     "output_type": "display_data"
    }
   ],
   "source": [
    "#Plotting the predictions and actual price values\n",
    "plt.figure()\n",
    "forest_predictions.plot(label = 'Predictions')\n",
    "test['Tomorrow_Adj_close'].plot(label = 'Tomorrow_Adj_close')\n",
    "plt.legend()\n",
    "plt.xlabel('Date')\n",
    "plt.ylabel('Price')\n",
    "plt.title('Predictions vs Tomorrow_Adj_Close')\n",
    "plt.show()"
   ]
  },
  {
   "cell_type": "markdown",
   "id": "139f1983-092f-4c66-89a6-01ec6d5f2e93",
   "metadata": {},
   "source": [
    "Obtaining the evaluation metrics for Random Forest. We will continue to use Mean Absolute Error,Mean Squared Error and Mean Absolute Percentage Error."
   ]
  },
  {
   "cell_type": "code",
   "execution_count": 155,
   "id": "bc70642a-145c-49a2-bd94-857da2dacb95",
   "metadata": {},
   "outputs": [
    {
     "name": "stdout",
     "output_type": "stream",
     "text": [
      "The mean absolute error is 3.55063505940767,the mean squared error is 22.188249155137537 and the mean absolute percentage error is 0.02455485422172408.\n"
     ]
    }
   ],
   "source": [
    "#Getting the mean absolute error and mean squared error \n",
    "forest_mae = mean_absolute_error(test['Tomorrow_Adj_close'], forest_predictions)\n",
    "forest_mse = mean_squared_error(test['Tomorrow_Adj_close'],forest_predictions)\n",
    "forest_mape = mean_absolute_percentage_error(test['Tomorrow_Adj_close'],forest_predictions)\n",
    "print(f\"The mean absolute error is {forest_mae},the mean squared error is {forest_mse} and the mean absolute percentage error is {forest_mape}.\")"
   ]
  },
  {
   "cell_type": "markdown",
   "id": "19ce824e-b015-4617-b147-ae93991f90a7",
   "metadata": {},
   "source": [
    "We will add the results to the report table and do a comparison for the evaulation metrics."
   ]
  },
  {
   "cell_type": "code",
   "execution_count": 156,
   "id": "8b3068ed-3709-4e19-9212-a42006f6016b",
   "metadata": {},
   "outputs": [],
   "source": [
    "Report_df.loc[len(Report_df.index)] = ['Random Forest Regressor', 'MAE', forest_mae]\n",
    "Report_df.loc[len(Report_df.index)] = ['Random Forest Regressor', 'MSE', forest_mse]\n",
    "Report_df.loc[len(Report_df.index)] = ['Random Forest Regressor', 'MAPE', forest_mape]"
   ]
  },
  {
   "cell_type": "code",
   "execution_count": 157,
   "id": "c0bc65f1-97da-47e4-90e7-7b5c0493fe24",
   "metadata": {},
   "outputs": [
    {
     "data": {
      "text/html": [
       "<div>\n",
       "<style scoped>\n",
       "    .dataframe tbody tr th:only-of-type {\n",
       "        vertical-align: middle;\n",
       "    }\n",
       "\n",
       "    .dataframe tbody tr th {\n",
       "        vertical-align: top;\n",
       "    }\n",
       "\n",
       "    .dataframe thead th {\n",
       "        text-align: right;\n",
       "    }\n",
       "</style>\n",
       "<table border=\"1\" class=\"dataframe\">\n",
       "  <thead>\n",
       "    <tr style=\"text-align: right;\">\n",
       "      <th></th>\n",
       "      <th>Model</th>\n",
       "      <th>Metrics</th>\n",
       "      <th>Result</th>\n",
       "    </tr>\n",
       "  </thead>\n",
       "  <tbody>\n",
       "    <tr>\n",
       "      <th>0</th>\n",
       "      <td>Linear Regression</td>\n",
       "      <td>MAE</td>\n",
       "      <td>1.686762</td>\n",
       "    </tr>\n",
       "    <tr>\n",
       "      <th>1</th>\n",
       "      <td>Linear Regression</td>\n",
       "      <td>MSE</td>\n",
       "      <td>5.440945</td>\n",
       "    </tr>\n",
       "    <tr>\n",
       "      <th>2</th>\n",
       "      <td>Linear Regression</td>\n",
       "      <td>MAPE</td>\n",
       "      <td>0.011938</td>\n",
       "    </tr>\n",
       "    <tr>\n",
       "      <th>3</th>\n",
       "      <td>Random Forest Regressor</td>\n",
       "      <td>MAE</td>\n",
       "      <td>3.550635</td>\n",
       "    </tr>\n",
       "    <tr>\n",
       "      <th>4</th>\n",
       "      <td>Random Forest Regressor</td>\n",
       "      <td>MSE</td>\n",
       "      <td>22.188249</td>\n",
       "    </tr>\n",
       "    <tr>\n",
       "      <th>5</th>\n",
       "      <td>Random Forest Regressor</td>\n",
       "      <td>MAPE</td>\n",
       "      <td>0.024555</td>\n",
       "    </tr>\n",
       "  </tbody>\n",
       "</table>\n",
       "</div>"
      ],
      "text/plain": [
       "                     Model Metrics     Result\n",
       "0        Linear Regression     MAE   1.686762\n",
       "1        Linear Regression     MSE   5.440945\n",
       "2        Linear Regression    MAPE   0.011938\n",
       "3  Random Forest Regressor     MAE   3.550635\n",
       "4  Random Forest Regressor     MSE  22.188249\n",
       "5  Random Forest Regressor    MAPE   0.024555"
      ]
     },
     "execution_count": 157,
     "metadata": {},
     "output_type": "execute_result"
    }
   ],
   "source": [
    "Report_df"
   ]
  },
  {
   "cell_type": "markdown",
   "id": "814afad6-dfc8-472d-a74c-78eb20df1f21",
   "metadata": {},
   "source": [
    "We can see that the Random Forest Regressor is worse than the linear regression model. We may add more features improve the prediction capabilities of the model in the future."
   ]
  },
  {
   "cell_type": "markdown",
   "id": "e9eb11ad-7926-4188-b4d7-fc48f92de03e",
   "metadata": {},
   "source": [
    "#### LSTM - Neural Network"
   ]
  },
  {
   "cell_type": "markdown",
   "id": "e6499279-4bbf-4570-8232-c7a06c1cf136",
   "metadata": {},
   "source": [
    "We will be using the Long Short term memory neural network to help us predict the next day's close price."
   ]
  },
  {
   "cell_type": "markdown",
   "id": "43fe069e-2f05-489b-a554-c5e7d0b1ad8e",
   "metadata": {},
   "source": [
    "First, lets review what our dataset looks like."
   ]
  },
  {
   "cell_type": "code",
   "execution_count": 158,
   "id": "16b4d77c-c57a-417a-a032-cd1321678fdc",
   "metadata": {},
   "outputs": [
    {
     "data": {
      "text/html": [
       "<div>\n",
       "<style scoped>\n",
       "    .dataframe tbody tr th:only-of-type {\n",
       "        vertical-align: middle;\n",
       "    }\n",
       "\n",
       "    .dataframe tbody tr th {\n",
       "        vertical-align: top;\n",
       "    }\n",
       "\n",
       "    .dataframe thead th {\n",
       "        text-align: right;\n",
       "    }\n",
       "</style>\n",
       "<table border=\"1\" class=\"dataframe\">\n",
       "  <thead>\n",
       "    <tr style=\"text-align: right;\">\n",
       "      <th></th>\n",
       "      <th>open</th>\n",
       "      <th>high</th>\n",
       "      <th>low</th>\n",
       "      <th>adjusted close</th>\n",
       "      <th>volume</th>\n",
       "      <th>Tomorrow_Adj_close</th>\n",
       "      <th>Target</th>\n",
       "    </tr>\n",
       "  </thead>\n",
       "  <tbody>\n",
       "    <tr>\n",
       "      <th>2024-03-28</th>\n",
       "      <td>152.000</td>\n",
       "      <td>152.670</td>\n",
       "      <td>151.33</td>\n",
       "      <td>152.26</td>\n",
       "      <td>21105628</td>\n",
       "      <td>156.50</td>\n",
       "      <td>1</td>\n",
       "    </tr>\n",
       "    <tr>\n",
       "      <th>2024-03-27</th>\n",
       "      <td>152.145</td>\n",
       "      <td>152.690</td>\n",
       "      <td>150.13</td>\n",
       "      <td>151.94</td>\n",
       "      <td>16621964</td>\n",
       "      <td>152.26</td>\n",
       "      <td>1</td>\n",
       "    </tr>\n",
       "    <tr>\n",
       "      <th>2024-03-26</th>\n",
       "      <td>151.240</td>\n",
       "      <td>153.200</td>\n",
       "      <td>151.03</td>\n",
       "      <td>151.70</td>\n",
       "      <td>19312694</td>\n",
       "      <td>151.94</td>\n",
       "      <td>1</td>\n",
       "    </tr>\n",
       "    <tr>\n",
       "      <th>2024-03-25</th>\n",
       "      <td>150.950</td>\n",
       "      <td>151.456</td>\n",
       "      <td>148.80</td>\n",
       "      <td>151.15</td>\n",
       "      <td>15114728</td>\n",
       "      <td>151.70</td>\n",
       "      <td>1</td>\n",
       "    </tr>\n",
       "    <tr>\n",
       "      <th>2024-03-22</th>\n",
       "      <td>150.240</td>\n",
       "      <td>152.560</td>\n",
       "      <td>150.09</td>\n",
       "      <td>151.77</td>\n",
       "      <td>19252925</td>\n",
       "      <td>151.15</td>\n",
       "      <td>0</td>\n",
       "    </tr>\n",
       "  </tbody>\n",
       "</table>\n",
       "</div>"
      ],
      "text/plain": [
       "               open     high     low  adjusted close    volume  \\\n",
       "2024-03-28  152.000  152.670  151.33          152.26  21105628   \n",
       "2024-03-27  152.145  152.690  150.13          151.94  16621964   \n",
       "2024-03-26  151.240  153.200  151.03          151.70  19312694   \n",
       "2024-03-25  150.950  151.456  148.80          151.15  15114728   \n",
       "2024-03-22  150.240  152.560  150.09          151.77  19252925   \n",
       "\n",
       "            Tomorrow_Adj_close  Target  \n",
       "2024-03-28              156.50       1  \n",
       "2024-03-27              152.26       1  \n",
       "2024-03-26              151.94       1  \n",
       "2024-03-25              151.70       1  \n",
       "2024-03-22              151.15       0  "
      ]
     },
     "execution_count": 158,
     "metadata": {},
     "output_type": "execute_result"
    }
   ],
   "source": [
    "data.head()"
   ]
  },
  {
   "cell_type": "markdown",
   "id": "115b888b-4c21-4f39-930c-55c9214591c0",
   "metadata": {},
   "source": [
    "With the dataframe above, we will be creating a new dataframe to help us create a better LSTM model. "
   ]
  },
  {
   "cell_type": "code",
   "execution_count": 159,
   "id": "86a4f3e4-97af-4f9e-8702-0a6bcc4f2762",
   "metadata": {},
   "outputs": [],
   "source": [
    "#Creating a new copy of the dataframe\n",
    "LSTM_data = data.copy()"
   ]
  },
  {
   "cell_type": "code",
   "execution_count": 160,
   "id": "321f9e86-84c2-442b-86d2-36cd1a0e6ca2",
   "metadata": {},
   "outputs": [
    {
     "data": {
      "text/html": [
       "<div>\n",
       "<style scoped>\n",
       "    .dataframe tbody tr th:only-of-type {\n",
       "        vertical-align: middle;\n",
       "    }\n",
       "\n",
       "    .dataframe tbody tr th {\n",
       "        vertical-align: top;\n",
       "    }\n",
       "\n",
       "    .dataframe thead th {\n",
       "        text-align: right;\n",
       "    }\n",
       "</style>\n",
       "<table border=\"1\" class=\"dataframe\">\n",
       "  <thead>\n",
       "    <tr style=\"text-align: right;\">\n",
       "      <th></th>\n",
       "      <th>open</th>\n",
       "      <th>high</th>\n",
       "      <th>low</th>\n",
       "      <th>adjusted close</th>\n",
       "      <th>volume</th>\n",
       "      <th>Tomorrow_Adj_close</th>\n",
       "      <th>Target</th>\n",
       "    </tr>\n",
       "  </thead>\n",
       "  <tbody>\n",
       "    <tr>\n",
       "      <th>2024-03-28</th>\n",
       "      <td>152.000</td>\n",
       "      <td>152.670</td>\n",
       "      <td>151.3300</td>\n",
       "      <td>152.26</td>\n",
       "      <td>21105628</td>\n",
       "      <td>156.50</td>\n",
       "      <td>1</td>\n",
       "    </tr>\n",
       "    <tr>\n",
       "      <th>2024-03-27</th>\n",
       "      <td>152.145</td>\n",
       "      <td>152.690</td>\n",
       "      <td>150.1300</td>\n",
       "      <td>151.94</td>\n",
       "      <td>16621964</td>\n",
       "      <td>152.26</td>\n",
       "      <td>1</td>\n",
       "    </tr>\n",
       "    <tr>\n",
       "      <th>2024-03-26</th>\n",
       "      <td>151.240</td>\n",
       "      <td>153.200</td>\n",
       "      <td>151.0300</td>\n",
       "      <td>151.70</td>\n",
       "      <td>19312694</td>\n",
       "      <td>151.94</td>\n",
       "      <td>1</td>\n",
       "    </tr>\n",
       "    <tr>\n",
       "      <th>2024-03-25</th>\n",
       "      <td>150.950</td>\n",
       "      <td>151.456</td>\n",
       "      <td>148.8000</td>\n",
       "      <td>151.15</td>\n",
       "      <td>15114728</td>\n",
       "      <td>151.70</td>\n",
       "      <td>1</td>\n",
       "    </tr>\n",
       "    <tr>\n",
       "      <th>2024-03-22</th>\n",
       "      <td>150.240</td>\n",
       "      <td>152.560</td>\n",
       "      <td>150.0900</td>\n",
       "      <td>151.77</td>\n",
       "      <td>19252925</td>\n",
       "      <td>151.15</td>\n",
       "      <td>0</td>\n",
       "    </tr>\n",
       "    <tr>\n",
       "      <th>2024-03-21</th>\n",
       "      <td>150.320</td>\n",
       "      <td>151.305</td>\n",
       "      <td>148.0101</td>\n",
       "      <td>148.74</td>\n",
       "      <td>19843915</td>\n",
       "      <td>151.77</td>\n",
       "      <td>1</td>\n",
       "    </tr>\n",
       "    <tr>\n",
       "      <th>2024-03-20</th>\n",
       "      <td>148.790</td>\n",
       "      <td>149.760</td>\n",
       "      <td>147.6650</td>\n",
       "      <td>149.68</td>\n",
       "      <td>17729996</td>\n",
       "      <td>148.74</td>\n",
       "      <td>0</td>\n",
       "    </tr>\n",
       "    <tr>\n",
       "      <th>2024-03-19</th>\n",
       "      <td>148.980</td>\n",
       "      <td>149.620</td>\n",
       "      <td>147.0100</td>\n",
       "      <td>147.92</td>\n",
       "      <td>17748367</td>\n",
       "      <td>149.68</td>\n",
       "      <td>1</td>\n",
       "    </tr>\n",
       "    <tr>\n",
       "      <th>2024-03-18</th>\n",
       "      <td>149.370</td>\n",
       "      <td>152.930</td>\n",
       "      <td>148.1400</td>\n",
       "      <td>148.48</td>\n",
       "      <td>47676689</td>\n",
       "      <td>147.92</td>\n",
       "      <td>0</td>\n",
       "    </tr>\n",
       "    <tr>\n",
       "      <th>2024-03-15</th>\n",
       "      <td>143.410</td>\n",
       "      <td>144.340</td>\n",
       "      <td>141.1301</td>\n",
       "      <td>142.17</td>\n",
       "      <td>41039494</td>\n",
       "      <td>148.48</td>\n",
       "      <td>1</td>\n",
       "    </tr>\n",
       "  </tbody>\n",
       "</table>\n",
       "</div>"
      ],
      "text/plain": [
       "               open     high       low  adjusted close    volume  \\\n",
       "2024-03-28  152.000  152.670  151.3300          152.26  21105628   \n",
       "2024-03-27  152.145  152.690  150.1300          151.94  16621964   \n",
       "2024-03-26  151.240  153.200  151.0300          151.70  19312694   \n",
       "2024-03-25  150.950  151.456  148.8000          151.15  15114728   \n",
       "2024-03-22  150.240  152.560  150.0900          151.77  19252925   \n",
       "2024-03-21  150.320  151.305  148.0101          148.74  19843915   \n",
       "2024-03-20  148.790  149.760  147.6650          149.68  17729996   \n",
       "2024-03-19  148.980  149.620  147.0100          147.92  17748367   \n",
       "2024-03-18  149.370  152.930  148.1400          148.48  47676689   \n",
       "2024-03-15  143.410  144.340  141.1301          142.17  41039494   \n",
       "\n",
       "            Tomorrow_Adj_close  Target  \n",
       "2024-03-28              156.50       1  \n",
       "2024-03-27              152.26       1  \n",
       "2024-03-26              151.94       1  \n",
       "2024-03-25              151.70       1  \n",
       "2024-03-22              151.15       0  \n",
       "2024-03-21              151.77       1  \n",
       "2024-03-20              148.74       0  \n",
       "2024-03-19              149.68       1  \n",
       "2024-03-18              147.92       0  \n",
       "2024-03-15              148.48       1  "
      ]
     },
     "execution_count": 160,
     "metadata": {},
     "output_type": "execute_result"
    }
   ],
   "source": [
    "#Check\n",
    "LSTM_data.head(10)"
   ]
  },
  {
   "cell_type": "code",
   "execution_count": 161,
   "id": "028d976d-5071-4ca6-84bd-3930d4b67f7a",
   "metadata": {},
   "outputs": [
    {
     "data": {
      "text/html": [
       "<div>\n",
       "<style scoped>\n",
       "    .dataframe tbody tr th:only-of-type {\n",
       "        vertical-align: middle;\n",
       "    }\n",
       "\n",
       "    .dataframe tbody tr th {\n",
       "        vertical-align: top;\n",
       "    }\n",
       "\n",
       "    .dataframe thead th {\n",
       "        text-align: right;\n",
       "    }\n",
       "</style>\n",
       "<table border=\"1\" class=\"dataframe\">\n",
       "  <thead>\n",
       "    <tr style=\"text-align: right;\">\n",
       "      <th></th>\n",
       "      <th>open</th>\n",
       "      <th>high</th>\n",
       "      <th>low</th>\n",
       "      <th>adjusted close</th>\n",
       "      <th>volume</th>\n",
       "      <th>Tomorrow_Adj_close</th>\n",
       "      <th>Target</th>\n",
       "    </tr>\n",
       "  </thead>\n",
       "  <tbody>\n",
       "    <tr>\n",
       "      <th>2014-03-27</th>\n",
       "      <td>568.000</td>\n",
       "      <td>568.00</td>\n",
       "      <td>552.92</td>\n",
       "      <td>27.9230</td>\n",
       "      <td>13100</td>\n",
       "      <td>27.9995</td>\n",
       "      <td>1</td>\n",
       "    </tr>\n",
       "    <tr>\n",
       "      <th>2014-03-28</th>\n",
       "      <td>561.200</td>\n",
       "      <td>566.43</td>\n",
       "      <td>558.67</td>\n",
       "      <td>27.9995</td>\n",
       "      <td>41100</td>\n",
       "      <td>27.8485</td>\n",
       "      <td>0</td>\n",
       "    </tr>\n",
       "    <tr>\n",
       "      <th>2014-03-31</th>\n",
       "      <td>566.890</td>\n",
       "      <td>567.00</td>\n",
       "      <td>556.93</td>\n",
       "      <td>27.8485</td>\n",
       "      <td>10800</td>\n",
       "      <td>28.3580</td>\n",
       "      <td>1</td>\n",
       "    </tr>\n",
       "    <tr>\n",
       "      <th>2014-04-01</th>\n",
       "      <td>558.710</td>\n",
       "      <td>568.45</td>\n",
       "      <td>558.71</td>\n",
       "      <td>28.3580</td>\n",
       "      <td>7900</td>\n",
       "      <td>28.3500</td>\n",
       "      <td>0</td>\n",
       "    </tr>\n",
       "    <tr>\n",
       "      <th>2014-04-02</th>\n",
       "      <td>565.106</td>\n",
       "      <td>604.83</td>\n",
       "      <td>562.19</td>\n",
       "      <td>28.3500</td>\n",
       "      <td>146700</td>\n",
       "      <td>28.4870</td>\n",
       "      <td>1</td>\n",
       "    </tr>\n",
       "  </tbody>\n",
       "</table>\n",
       "</div>"
      ],
      "text/plain": [
       "               open    high     low  adjusted close  volume  \\\n",
       "2014-03-27  568.000  568.00  552.92         27.9230   13100   \n",
       "2014-03-28  561.200  566.43  558.67         27.9995   41100   \n",
       "2014-03-31  566.890  567.00  556.93         27.8485   10800   \n",
       "2014-04-01  558.710  568.45  558.71         28.3580    7900   \n",
       "2014-04-02  565.106  604.83  562.19         28.3500  146700   \n",
       "\n",
       "            Tomorrow_Adj_close  Target  \n",
       "2014-03-27             27.9995       1  \n",
       "2014-03-28             27.8485       0  \n",
       "2014-03-31             28.3580       1  \n",
       "2014-04-01             28.3500       0  \n",
       "2014-04-02             28.4870       1  "
      ]
     },
     "execution_count": 161,
     "metadata": {},
     "output_type": "execute_result"
    }
   ],
   "source": [
    "#Changing the datetime index so the most recent dates appear at the end\n",
    "LSTM_data.sort_index(inplace = True, ascending = True)\n",
    "LSTM_data.head()"
   ]
  },
  {
   "cell_type": "markdown",
   "id": "45f9b023-8eab-4a27-8c6e-536dc55a6569",
   "metadata": {},
   "source": [
    "Now that we finished creating and adjusting our dataframe, we can scale our data using the MinMaxScaler. All the values will be between 0 and 1."
   ]
  },
  {
   "cell_type": "code",
   "execution_count": 162,
   "id": "b2663533-113c-4bed-a6ba-9dc8d58a71fe",
   "metadata": {},
   "outputs": [],
   "source": [
    "#Only retrieving the adjusted close values and creating a dataframe and turning the values into a float\n",
    "data1 = LSTM_data.filter(['adjusted close']).values\n",
    "dataset = data1.astype('float32')"
   ]
  },
  {
   "cell_type": "code",
   "execution_count": 163,
   "id": "5d2705f1-95b0-4d32-85f9-fd0308c61f11",
   "metadata": {
    "scrolled": true
   },
   "outputs": [
    {
     "name": "stdout",
     "output_type": "stream",
     "text": [
      "[[0.02530864]\n",
      " [0.02589613]\n",
      " [0.02473648]\n",
      " ...\n",
      " [0.9758855 ]\n",
      " [0.9777287 ]\n",
      " [0.9801862 ]]\n"
     ]
    }
   ],
   "source": [
    "#Importing the Scaler\n",
    "from sklearn.preprocessing import MinMaxScaler\n",
    "mm_scaler = MinMaxScaler(feature_range=(0,1))\n",
    "scaled_dataset = mm_scaler.fit_transform(dataset)\n",
    "print(scaled_dataset)"
   ]
  },
  {
   "cell_type": "markdown",
   "id": "42c1fba4-def9-44c1-a9dd-85514fc0adfc",
   "metadata": {},
   "source": [
    "**Creating our X and y for train and test splits.**"
   ]
  },
  {
   "cell_type": "code",
   "execution_count": 164,
   "id": "e9e06b15-9350-4614-bb1b-2a5218838731",
   "metadata": {},
   "outputs": [],
   "source": [
    "# Create the scaled training dataset\n",
    "sequence_length = 60\n",
    "\n",
    "train_data = scaled_dataset[:int(len(scaled_dataset)*0.8), :]\n",
    "x_train = []\n",
    "y_train = []\n",
    "\n",
    "for i in range(sequence_length, len(train_data)):\n",
    "    x_train.append(train_data[i-sequence_length:i, 0])\n",
    "    y_train.append(train_data[i, 0])\n",
    "\n",
    "x_train, y_train = np.array(x_train), np.array(y_train)"
   ]
  },
  {
   "cell_type": "code",
   "execution_count": 165,
   "id": "4f6f86b9-09bb-4380-8762-9c44157a68ca",
   "metadata": {},
   "outputs": [],
   "source": [
    "#Reshaping for LSTM \n",
    "\n",
    "x_train = np.reshape(x_train, (x_train.shape[0], x_train.shape[1], 1))"
   ]
  },
  {
   "cell_type": "code",
   "execution_count": 166,
   "id": "bcb1bae0-5665-442e-b2a4-9ecdf5220fb3",
   "metadata": {},
   "outputs": [
    {
     "name": "stderr",
     "output_type": "stream",
     "text": [
      "C:\\Users\\linwi\\anaconda3\\envs\\timeseries\\Lib\\site-packages\\keras\\src\\layers\\rnn\\rnn.py:204: UserWarning: Do not pass an `input_shape`/`input_dim` argument to a layer. When using Sequential models, prefer using an `Input(shape)` object as the first layer in the model instead.\n",
      "  super().__init__(**kwargs)\n"
     ]
    }
   ],
   "source": [
    "#Importing the NN models from tensorflow.keras\n",
    "from tensorflow.keras.models import Sequential\n",
    "from tensorflow.keras.layers import LSTM, Dense, Dropout\n",
    "\n",
    "# Build the LSTM model\n",
    "model = Sequential()\n",
    "model.add(LSTM(units=50, return_sequences=True, input_shape=(x_train.shape[1], 1)))\n",
    "model.add(Dropout(0.2))\n",
    "model.add(LSTM(units=50, return_sequences=False))\n",
    "model.add(Dropout(0.2))\n",
    "model.add(Dense(units=1))\n",
    "\n",
    "# Compile the model\n",
    "model.compile(optimizer='adam', loss='mean_squared_error')"
   ]
  },
  {
   "cell_type": "code",
   "execution_count": 167,
   "id": "87e6352f-41bc-4e33-83e9-549c037260b0",
   "metadata": {},
   "outputs": [
    {
     "name": "stdout",
     "output_type": "stream",
     "text": [
      "Epoch 1/100\n",
      "\u001b[1m62/62\u001b[0m \u001b[32m━━━━━━━━━━━━━━━━━━━━\u001b[0m\u001b[37m\u001b[0m \u001b[1m12s\u001b[0m 94ms/step - loss: 0.0282\n",
      "Epoch 2/100\n",
      "\u001b[1m62/62\u001b[0m \u001b[32m━━━━━━━━━━━━━━━━━━━━\u001b[0m\u001b[37m\u001b[0m \u001b[1m2s\u001b[0m 31ms/step - loss: 0.0024\n",
      "Epoch 3/100\n",
      "\u001b[1m62/62\u001b[0m \u001b[32m━━━━━━━━━━━━━━━━━━━━\u001b[0m\u001b[37m\u001b[0m \u001b[1m2s\u001b[0m 30ms/step - loss: 0.0015\n",
      "Epoch 4/100\n",
      "\u001b[1m62/62\u001b[0m \u001b[32m━━━━━━━━━━━━━━━━━━━━\u001b[0m\u001b[37m\u001b[0m \u001b[1m2s\u001b[0m 30ms/step - loss: 0.0015\n",
      "Epoch 5/100\n",
      "\u001b[1m62/62\u001b[0m \u001b[32m━━━━━━━━━━━━━━━━━━━━\u001b[0m\u001b[37m\u001b[0m \u001b[1m2s\u001b[0m 28ms/step - loss: 0.0016\n",
      "Epoch 6/100\n",
      "\u001b[1m62/62\u001b[0m \u001b[32m━━━━━━━━━━━━━━━━━━━━\u001b[0m\u001b[37m\u001b[0m \u001b[1m2s\u001b[0m 31ms/step - loss: 0.0018\n",
      "Epoch 7/100\n",
      "\u001b[1m62/62\u001b[0m \u001b[32m━━━━━━━━━━━━━━━━━━━━\u001b[0m\u001b[37m\u001b[0m \u001b[1m2s\u001b[0m 29ms/step - loss: 0.0014\n",
      "Epoch 8/100\n",
      "\u001b[1m62/62\u001b[0m \u001b[32m━━━━━━━━━━━━━━━━━━━━\u001b[0m\u001b[37m\u001b[0m \u001b[1m2s\u001b[0m 31ms/step - loss: 0.0015\n",
      "Epoch 9/100\n",
      "\u001b[1m62/62\u001b[0m \u001b[32m━━━━━━━━━━━━━━━━━━━━\u001b[0m\u001b[37m\u001b[0m \u001b[1m6s\u001b[0m 96ms/step - loss: 0.0014\n",
      "Epoch 10/100\n",
      "\u001b[1m62/62\u001b[0m \u001b[32m━━━━━━━━━━━━━━━━━━━━\u001b[0m\u001b[37m\u001b[0m \u001b[1m2s\u001b[0m 29ms/step - loss: 0.0014\n",
      "Epoch 11/100\n",
      "\u001b[1m62/62\u001b[0m \u001b[32m━━━━━━━━━━━━━━━━━━━━\u001b[0m\u001b[37m\u001b[0m \u001b[1m2s\u001b[0m 31ms/step - loss: 0.0012\n",
      "Epoch 12/100\n",
      "\u001b[1m62/62\u001b[0m \u001b[32m━━━━━━━━━━━━━━━━━━━━\u001b[0m\u001b[37m\u001b[0m \u001b[1m2s\u001b[0m 29ms/step - loss: 0.0011\n",
      "Epoch 13/100\n",
      "\u001b[1m62/62\u001b[0m \u001b[32m━━━━━━━━━━━━━━━━━━━━\u001b[0m\u001b[37m\u001b[0m \u001b[1m2s\u001b[0m 31ms/step - loss: 0.0010\n",
      "Epoch 14/100\n",
      "\u001b[1m62/62\u001b[0m \u001b[32m━━━━━━━━━━━━━━━━━━━━\u001b[0m\u001b[37m\u001b[0m \u001b[1m2s\u001b[0m 30ms/step - loss: 9.4078e-04\n",
      "Epoch 15/100\n",
      "\u001b[1m62/62\u001b[0m \u001b[32m━━━━━━━━━━━━━━━━━━━━\u001b[0m\u001b[37m\u001b[0m \u001b[1m4s\u001b[0m 72ms/step - loss: 0.0011\n",
      "Epoch 16/100\n",
      "\u001b[1m62/62\u001b[0m \u001b[32m━━━━━━━━━━━━━━━━━━━━\u001b[0m\u001b[37m\u001b[0m \u001b[1m2s\u001b[0m 38ms/step - loss: 0.0011\n",
      "Epoch 17/100\n",
      "\u001b[1m62/62\u001b[0m \u001b[32m━━━━━━━━━━━━━━━━━━━━\u001b[0m\u001b[37m\u001b[0m \u001b[1m2s\u001b[0m 31ms/step - loss: 0.0013\n",
      "Epoch 18/100\n",
      "\u001b[1m62/62\u001b[0m \u001b[32m━━━━━━━━━━━━━━━━━━━━\u001b[0m\u001b[37m\u001b[0m \u001b[1m2s\u001b[0m 29ms/step - loss: 0.0011\n",
      "Epoch 19/100\n",
      "\u001b[1m62/62\u001b[0m \u001b[32m━━━━━━━━━━━━━━━━━━━━\u001b[0m\u001b[37m\u001b[0m \u001b[1m2s\u001b[0m 28ms/step - loss: 0.0010\n",
      "Epoch 20/100\n",
      "\u001b[1m62/62\u001b[0m \u001b[32m━━━━━━━━━━━━━━━━━━━━\u001b[0m\u001b[37m\u001b[0m \u001b[1m2s\u001b[0m 29ms/step - loss: 7.5740e-04\n",
      "Epoch 21/100\n",
      "\u001b[1m62/62\u001b[0m \u001b[32m━━━━━━━━━━━━━━━━━━━━\u001b[0m\u001b[37m\u001b[0m \u001b[1m2s\u001b[0m 29ms/step - loss: 0.0011\n",
      "Epoch 22/100\n",
      "\u001b[1m62/62\u001b[0m \u001b[32m━━━━━━━━━━━━━━━━━━━━\u001b[0m\u001b[37m\u001b[0m \u001b[1m4s\u001b[0m 60ms/step - loss: 0.0012\n",
      "Epoch 23/100\n",
      "\u001b[1m62/62\u001b[0m \u001b[32m━━━━━━━━━━━━━━━━━━━━\u001b[0m\u001b[37m\u001b[0m \u001b[1m2s\u001b[0m 31ms/step - loss: 0.0012\n",
      "Epoch 24/100\n",
      "\u001b[1m62/62\u001b[0m \u001b[32m━━━━━━━━━━━━━━━━━━━━\u001b[0m\u001b[37m\u001b[0m \u001b[1m2s\u001b[0m 29ms/step - loss: 8.1957e-04\n",
      "Epoch 25/100\n",
      "\u001b[1m62/62\u001b[0m \u001b[32m━━━━━━━━━━━━━━━━━━━━\u001b[0m\u001b[37m\u001b[0m \u001b[1m2s\u001b[0m 31ms/step - loss: 0.0012\n",
      "Epoch 26/100\n",
      "\u001b[1m62/62\u001b[0m \u001b[32m━━━━━━━━━━━━━━━━━━━━\u001b[0m\u001b[37m\u001b[0m \u001b[1m2s\u001b[0m 28ms/step - loss: 8.1228e-04\n",
      "Epoch 27/100\n",
      "\u001b[1m62/62\u001b[0m \u001b[32m━━━━━━━━━━━━━━━━━━━━\u001b[0m\u001b[37m\u001b[0m \u001b[1m2s\u001b[0m 29ms/step - loss: 9.5713e-04\n",
      "Epoch 28/100\n",
      "\u001b[1m62/62\u001b[0m \u001b[32m━━━━━━━━━━━━━━━━━━━━\u001b[0m\u001b[37m\u001b[0m \u001b[1m2s\u001b[0m 29ms/step - loss: 8.5445e-04\n",
      "Epoch 29/100\n",
      "\u001b[1m62/62\u001b[0m \u001b[32m━━━━━━━━━━━━━━━━━━━━\u001b[0m\u001b[37m\u001b[0m \u001b[1m2s\u001b[0m 34ms/step - loss: 8.0636e-04\n",
      "Epoch 30/100\n",
      "\u001b[1m62/62\u001b[0m \u001b[32m━━━━━━━━━━━━━━━━━━━━\u001b[0m\u001b[37m\u001b[0m \u001b[1m5s\u001b[0m 81ms/step - loss: 9.4242e-04\n",
      "Epoch 31/100\n",
      "\u001b[1m62/62\u001b[0m \u001b[32m━━━━━━━━━━━━━━━━━━━━\u001b[0m\u001b[37m\u001b[0m \u001b[1m5s\u001b[0m 78ms/step - loss: 7.4549e-04\n",
      "Epoch 32/100\n",
      "\u001b[1m62/62\u001b[0m \u001b[32m━━━━━━━━━━━━━━━━━━━━\u001b[0m\u001b[37m\u001b[0m \u001b[1m3s\u001b[0m 46ms/step - loss: 9.5027e-04\n",
      "Epoch 33/100\n",
      "\u001b[1m62/62\u001b[0m \u001b[32m━━━━━━━━━━━━━━━━━━━━\u001b[0m\u001b[37m\u001b[0m \u001b[1m4s\u001b[0m 66ms/step - loss: 8.4386e-04\n",
      "Epoch 34/100\n",
      "\u001b[1m62/62\u001b[0m \u001b[32m━━━━━━━━━━━━━━━━━━━━\u001b[0m\u001b[37m\u001b[0m \u001b[1m2s\u001b[0m 36ms/step - loss: 8.9850e-04\n",
      "Epoch 35/100\n",
      "\u001b[1m62/62\u001b[0m \u001b[32m━━━━━━━━━━━━━━━━━━━━\u001b[0m\u001b[37m\u001b[0m \u001b[1m5s\u001b[0m 79ms/step - loss: 8.9626e-04\n",
      "Epoch 36/100\n",
      "\u001b[1m62/62\u001b[0m \u001b[32m━━━━━━━━━━━━━━━━━━━━\u001b[0m\u001b[37m\u001b[0m \u001b[1m2s\u001b[0m 39ms/step - loss: 8.8681e-04\n",
      "Epoch 37/100\n",
      "\u001b[1m62/62\u001b[0m \u001b[32m━━━━━━━━━━━━━━━━━━━━\u001b[0m\u001b[37m\u001b[0m \u001b[1m4s\u001b[0m 62ms/step - loss: 8.3589e-04\n",
      "Epoch 38/100\n",
      "\u001b[1m62/62\u001b[0m \u001b[32m━━━━━━━━━━━━━━━━━━━━\u001b[0m\u001b[37m\u001b[0m \u001b[1m4s\u001b[0m 61ms/step - loss: 6.9876e-04\n",
      "Epoch 39/100\n",
      "\u001b[1m62/62\u001b[0m \u001b[32m━━━━━━━━━━━━━━━━━━━━\u001b[0m\u001b[37m\u001b[0m \u001b[1m2s\u001b[0m 29ms/step - loss: 6.7894e-04\n",
      "Epoch 40/100\n",
      "\u001b[1m62/62\u001b[0m \u001b[32m━━━━━━━━━━━━━━━━━━━━\u001b[0m\u001b[37m\u001b[0m \u001b[1m2s\u001b[0m 30ms/step - loss: 6.4562e-04\n",
      "Epoch 41/100\n",
      "\u001b[1m62/62\u001b[0m \u001b[32m━━━━━━━━━━━━━━━━━━━━\u001b[0m\u001b[37m\u001b[0m \u001b[1m2s\u001b[0m 36ms/step - loss: 8.1337e-04\n",
      "Epoch 42/100\n",
      "\u001b[1m62/62\u001b[0m \u001b[32m━━━━━━━━━━━━━━━━━━━━\u001b[0m\u001b[37m\u001b[0m \u001b[1m4s\u001b[0m 59ms/step - loss: 7.1442e-04\n",
      "Epoch 43/100\n",
      "\u001b[1m62/62\u001b[0m \u001b[32m━━━━━━━━━━━━━━━━━━━━\u001b[0m\u001b[37m\u001b[0m \u001b[1m2s\u001b[0m 33ms/step - loss: 0.0014\n",
      "Epoch 44/100\n",
      "\u001b[1m62/62\u001b[0m \u001b[32m━━━━━━━━━━━━━━━━━━━━\u001b[0m\u001b[37m\u001b[0m \u001b[1m2s\u001b[0m 40ms/step - loss: 7.6358e-04\n",
      "Epoch 45/100\n",
      "\u001b[1m62/62\u001b[0m \u001b[32m━━━━━━━━━━━━━━━━━━━━\u001b[0m\u001b[37m\u001b[0m \u001b[1m3s\u001b[0m 54ms/step - loss: 6.1354e-04\n",
      "Epoch 46/100\n",
      "\u001b[1m62/62\u001b[0m \u001b[32m━━━━━━━━━━━━━━━━━━━━\u001b[0m\u001b[37m\u001b[0m \u001b[1m4s\u001b[0m 67ms/step - loss: 8.4753e-04\n",
      "Epoch 47/100\n",
      "\u001b[1m62/62\u001b[0m \u001b[32m━━━━━━━━━━━━━━━━━━━━\u001b[0m\u001b[37m\u001b[0m \u001b[1m5s\u001b[0m 74ms/step - loss: 9.6465e-04\n",
      "Epoch 48/100\n",
      "\u001b[1m62/62\u001b[0m \u001b[32m━━━━━━━━━━━━━━━━━━━━\u001b[0m\u001b[37m\u001b[0m \u001b[1m4s\u001b[0m 60ms/step - loss: 7.9769e-04\n",
      "Epoch 49/100\n",
      "\u001b[1m62/62\u001b[0m \u001b[32m━━━━━━━━━━━━━━━━━━━━\u001b[0m\u001b[37m\u001b[0m \u001b[1m2s\u001b[0m 34ms/step - loss: 7.5161e-04\n",
      "Epoch 50/100\n",
      "\u001b[1m62/62\u001b[0m \u001b[32m━━━━━━━━━━━━━━━━━━━━\u001b[0m\u001b[37m\u001b[0m \u001b[1m4s\u001b[0m 70ms/step - loss: 7.5563e-04\n",
      "Epoch 51/100\n",
      "\u001b[1m62/62\u001b[0m \u001b[32m━━━━━━━━━━━━━━━━━━━━\u001b[0m\u001b[37m\u001b[0m \u001b[1m3s\u001b[0m 51ms/step - loss: 6.9532e-04\n",
      "Epoch 52/100\n",
      "\u001b[1m62/62\u001b[0m \u001b[32m━━━━━━━━━━━━━━━━━━━━\u001b[0m\u001b[37m\u001b[0m \u001b[1m5s\u001b[0m 74ms/step - loss: 6.6108e-04\n",
      "Epoch 53/100\n",
      "\u001b[1m62/62\u001b[0m \u001b[32m━━━━━━━━━━━━━━━━━━━━\u001b[0m\u001b[37m\u001b[0m \u001b[1m3s\u001b[0m 44ms/step - loss: 6.9587e-04\n",
      "Epoch 54/100\n",
      "\u001b[1m62/62\u001b[0m \u001b[32m━━━━━━━━━━━━━━━━━━━━\u001b[0m\u001b[37m\u001b[0m \u001b[1m2s\u001b[0m 30ms/step - loss: 7.1018e-04\n",
      "Epoch 55/100\n",
      "\u001b[1m62/62\u001b[0m \u001b[32m━━━━━━━━━━━━━━━━━━━━\u001b[0m\u001b[37m\u001b[0m \u001b[1m2s\u001b[0m 29ms/step - loss: 6.4534e-04\n",
      "Epoch 56/100\n",
      "\u001b[1m62/62\u001b[0m \u001b[32m━━━━━━━━━━━━━━━━━━━━\u001b[0m\u001b[37m\u001b[0m \u001b[1m2s\u001b[0m 29ms/step - loss: 6.5649e-04\n",
      "Epoch 57/100\n",
      "\u001b[1m62/62\u001b[0m \u001b[32m━━━━━━━━━━━━━━━━━━━━\u001b[0m\u001b[37m\u001b[0m \u001b[1m2s\u001b[0m 29ms/step - loss: 6.6843e-04\n",
      "Epoch 58/100\n",
      "\u001b[1m62/62\u001b[0m \u001b[32m━━━━━━━━━━━━━━━━━━━━\u001b[0m\u001b[37m\u001b[0m \u001b[1m2s\u001b[0m 30ms/step - loss: 7.3730e-04\n",
      "Epoch 59/100\n",
      "\u001b[1m62/62\u001b[0m \u001b[32m━━━━━━━━━━━━━━━━━━━━\u001b[0m\u001b[37m\u001b[0m \u001b[1m2s\u001b[0m 29ms/step - loss: 5.7960e-04\n",
      "Epoch 60/100\n",
      "\u001b[1m62/62\u001b[0m \u001b[32m━━━━━━━━━━━━━━━━━━━━\u001b[0m\u001b[37m\u001b[0m \u001b[1m2s\u001b[0m 29ms/step - loss: 6.0146e-04\n",
      "Epoch 61/100\n",
      "\u001b[1m62/62\u001b[0m \u001b[32m━━━━━━━━━━━━━━━━━━━━\u001b[0m\u001b[37m\u001b[0m \u001b[1m2s\u001b[0m 37ms/step - loss: 7.2602e-04\n",
      "Epoch 62/100\n",
      "\u001b[1m62/62\u001b[0m \u001b[32m━━━━━━━━━━━━━━━━━━━━\u001b[0m\u001b[37m\u001b[0m \u001b[1m6s\u001b[0m 90ms/step - loss: 6.0592e-04\n",
      "Epoch 63/100\n",
      "\u001b[1m62/62\u001b[0m \u001b[32m━━━━━━━━━━━━━━━━━━━━\u001b[0m\u001b[37m\u001b[0m \u001b[1m6s\u001b[0m 90ms/step - loss: 5.7984e-04\n",
      "Epoch 64/100\n",
      "\u001b[1m62/62\u001b[0m \u001b[32m━━━━━━━━━━━━━━━━━━━━\u001b[0m\u001b[37m\u001b[0m \u001b[1m2s\u001b[0m 31ms/step - loss: 7.7523e-04\n",
      "Epoch 65/100\n",
      "\u001b[1m62/62\u001b[0m \u001b[32m━━━━━━━━━━━━━━━━━━━━\u001b[0m\u001b[37m\u001b[0m \u001b[1m2s\u001b[0m 34ms/step - loss: 6.1379e-04\n",
      "Epoch 66/100\n",
      "\u001b[1m62/62\u001b[0m \u001b[32m━━━━━━━━━━━━━━━━━━━━\u001b[0m\u001b[37m\u001b[0m \u001b[1m3s\u001b[0m 40ms/step - loss: 7.9336e-04\n",
      "Epoch 67/100\n",
      "\u001b[1m62/62\u001b[0m \u001b[32m━━━━━━━━━━━━━━━━━━━━\u001b[0m\u001b[37m\u001b[0m \u001b[1m2s\u001b[0m 29ms/step - loss: 7.1034e-04\n",
      "Epoch 68/100\n",
      "\u001b[1m62/62\u001b[0m \u001b[32m━━━━━━━━━━━━━━━━━━━━\u001b[0m\u001b[37m\u001b[0m \u001b[1m2s\u001b[0m 28ms/step - loss: 6.6700e-04\n",
      "Epoch 69/100\n",
      "\u001b[1m62/62\u001b[0m \u001b[32m━━━━━━━━━━━━━━━━━━━━\u001b[0m\u001b[37m\u001b[0m \u001b[1m5s\u001b[0m 81ms/step - loss: 6.1110e-04\n",
      "Epoch 70/100\n",
      "\u001b[1m62/62\u001b[0m \u001b[32m━━━━━━━━━━━━━━━━━━━━\u001b[0m\u001b[37m\u001b[0m \u001b[1m5s\u001b[0m 81ms/step - loss: 5.4728e-04\n",
      "Epoch 71/100\n",
      "\u001b[1m62/62\u001b[0m \u001b[32m━━━━━━━━━━━━━━━━━━━━\u001b[0m\u001b[37m\u001b[0m \u001b[1m6s\u001b[0m 98ms/step - loss: 5.8528e-04\n",
      "Epoch 72/100\n",
      "\u001b[1m62/62\u001b[0m \u001b[32m━━━━━━━━━━━━━━━━━━━━\u001b[0m\u001b[37m\u001b[0m \u001b[1m4s\u001b[0m 58ms/step - loss: 6.9799e-04\n",
      "Epoch 73/100\n",
      "\u001b[1m62/62\u001b[0m \u001b[32m━━━━━━━━━━━━━━━━━━━━\u001b[0m\u001b[37m\u001b[0m \u001b[1m4s\u001b[0m 64ms/step - loss: 7.6427e-04\n",
      "Epoch 74/100\n",
      "\u001b[1m62/62\u001b[0m \u001b[32m━━━━━━━━━━━━━━━━━━━━\u001b[0m\u001b[37m\u001b[0m \u001b[1m2s\u001b[0m 35ms/step - loss: 5.9553e-04\n",
      "Epoch 75/100\n",
      "\u001b[1m62/62\u001b[0m \u001b[32m━━━━━━━━━━━━━━━━━━━━\u001b[0m\u001b[37m\u001b[0m \u001b[1m6s\u001b[0m 94ms/step - loss: 6.0834e-04\n",
      "Epoch 76/100\n",
      "\u001b[1m62/62\u001b[0m \u001b[32m━━━━━━━━━━━━━━━━━━━━\u001b[0m\u001b[37m\u001b[0m \u001b[1m7s\u001b[0m 105ms/step - loss: 6.8181e-04\n",
      "Epoch 77/100\n",
      "\u001b[1m62/62\u001b[0m \u001b[32m━━━━━━━━━━━━━━━━━━━━\u001b[0m\u001b[37m\u001b[0m \u001b[1m5s\u001b[0m 72ms/step - loss: 6.5830e-04\n",
      "Epoch 78/100\n",
      "\u001b[1m62/62\u001b[0m \u001b[32m━━━━━━━━━━━━━━━━━━━━\u001b[0m\u001b[37m\u001b[0m \u001b[1m6s\u001b[0m 97ms/step - loss: 7.0404e-04\n",
      "Epoch 79/100\n",
      "\u001b[1m62/62\u001b[0m \u001b[32m━━━━━━━━━━━━━━━━━━━━\u001b[0m\u001b[37m\u001b[0m \u001b[1m7s\u001b[0m 118ms/step - loss: 6.1060e-04\n",
      "Epoch 80/100\n",
      "\u001b[1m62/62\u001b[0m \u001b[32m━━━━━━━━━━━━━━━━━━━━\u001b[0m\u001b[37m\u001b[0m \u001b[1m3s\u001b[0m 50ms/step - loss: 6.9312e-04\n",
      "Epoch 81/100\n",
      "\u001b[1m62/62\u001b[0m \u001b[32m━━━━━━━━━━━━━━━━━━━━\u001b[0m\u001b[37m\u001b[0m \u001b[1m6s\u001b[0m 91ms/step - loss: 6.0372e-04\n",
      "Epoch 82/100\n",
      "\u001b[1m62/62\u001b[0m \u001b[32m━━━━━━━━━━━━━━━━━━━━\u001b[0m\u001b[37m\u001b[0m \u001b[1m7s\u001b[0m 103ms/step - loss: 6.1032e-04\n",
      "Epoch 83/100\n",
      "\u001b[1m62/62\u001b[0m \u001b[32m━━━━━━━━━━━━━━━━━━━━\u001b[0m\u001b[37m\u001b[0m \u001b[1m4s\u001b[0m 57ms/step - loss: 5.9136e-04\n",
      "Epoch 84/100\n",
      "\u001b[1m62/62\u001b[0m \u001b[32m━━━━━━━━━━━━━━━━━━━━\u001b[0m\u001b[37m\u001b[0m \u001b[1m2s\u001b[0m 30ms/step - loss: 6.0357e-04\n",
      "Epoch 85/100\n",
      "\u001b[1m62/62\u001b[0m \u001b[32m━━━━━━━━━━━━━━━━━━━━\u001b[0m\u001b[37m\u001b[0m \u001b[1m2s\u001b[0m 32ms/step - loss: 0.0013\n",
      "Epoch 86/100\n",
      "\u001b[1m62/62\u001b[0m \u001b[32m━━━━━━━━━━━━━━━━━━━━\u001b[0m\u001b[37m\u001b[0m \u001b[1m7s\u001b[0m 107ms/step - loss: 6.0943e-04\n",
      "Epoch 87/100\n",
      "\u001b[1m62/62\u001b[0m \u001b[32m━━━━━━━━━━━━━━━━━━━━\u001b[0m\u001b[37m\u001b[0m \u001b[1m4s\u001b[0m 68ms/step - loss: 0.0010\n",
      "Epoch 88/100\n",
      "\u001b[1m62/62\u001b[0m \u001b[32m━━━━━━━━━━━━━━━━━━━━\u001b[0m\u001b[37m\u001b[0m \u001b[1m7s\u001b[0m 106ms/step - loss: 6.4643e-04\n",
      "Epoch 89/100\n",
      "\u001b[1m62/62\u001b[0m \u001b[32m━━━━━━━━━━━━━━━━━━━━\u001b[0m\u001b[37m\u001b[0m \u001b[1m6s\u001b[0m 97ms/step - loss: 6.0600e-04\n",
      "Epoch 90/100\n",
      "\u001b[1m62/62\u001b[0m \u001b[32m━━━━━━━━━━━━━━━━━━━━\u001b[0m\u001b[37m\u001b[0m \u001b[1m4s\u001b[0m 56ms/step - loss: 6.9391e-04\n",
      "Epoch 91/100\n",
      "\u001b[1m62/62\u001b[0m \u001b[32m━━━━━━━━━━━━━━━━━━━━\u001b[0m\u001b[37m\u001b[0m \u001b[1m5s\u001b[0m 74ms/step - loss: 6.5825e-04\n",
      "Epoch 92/100\n",
      "\u001b[1m62/62\u001b[0m \u001b[32m━━━━━━━━━━━━━━━━━━━━\u001b[0m\u001b[37m\u001b[0m \u001b[1m2s\u001b[0m 32ms/step - loss: 6.1435e-04\n",
      "Epoch 93/100\n",
      "\u001b[1m62/62\u001b[0m \u001b[32m━━━━━━━━━━━━━━━━━━━━\u001b[0m\u001b[37m\u001b[0m \u001b[1m7s\u001b[0m 104ms/step - loss: 6.0710e-04\n",
      "Epoch 94/100\n",
      "\u001b[1m62/62\u001b[0m \u001b[32m━━━━━━━━━━━━━━━━━━━━\u001b[0m\u001b[37m\u001b[0m \u001b[1m5s\u001b[0m 83ms/step - loss: 6.8198e-04\n",
      "Epoch 95/100\n",
      "\u001b[1m62/62\u001b[0m \u001b[32m━━━━━━━━━━━━━━━━━━━━\u001b[0m\u001b[37m\u001b[0m \u001b[1m2s\u001b[0m 36ms/step - loss: 4.7554e-04\n",
      "Epoch 96/100\n",
      "\u001b[1m62/62\u001b[0m \u001b[32m━━━━━━━━━━━━━━━━━━━━\u001b[0m\u001b[37m\u001b[0m \u001b[1m5s\u001b[0m 78ms/step - loss: 5.4294e-04\n",
      "Epoch 97/100\n",
      "\u001b[1m62/62\u001b[0m \u001b[32m━━━━━━━━━━━━━━━━━━━━\u001b[0m\u001b[37m\u001b[0m \u001b[1m6s\u001b[0m 100ms/step - loss: 6.0469e-04\n",
      "Epoch 98/100\n",
      "\u001b[1m62/62\u001b[0m \u001b[32m━━━━━━━━━━━━━━━━━━━━\u001b[0m\u001b[37m\u001b[0m \u001b[1m5s\u001b[0m 77ms/step - loss: 5.4568e-04\n",
      "Epoch 99/100\n",
      "\u001b[1m62/62\u001b[0m \u001b[32m━━━━━━━━━━━━━━━━━━━━\u001b[0m\u001b[37m\u001b[0m \u001b[1m4s\u001b[0m 56ms/step - loss: 6.1169e-04\n",
      "Epoch 100/100\n",
      "\u001b[1m62/62\u001b[0m \u001b[32m━━━━━━━━━━━━━━━━━━━━\u001b[0m\u001b[37m\u001b[0m \u001b[1m3s\u001b[0m 53ms/step - loss: 7.1440e-04\n"
     ]
    },
    {
     "data": {
      "text/plain": [
       "<keras.src.callbacks.history.History at 0x21e3ae2eb50>"
      ]
     },
     "execution_count": 167,
     "metadata": {},
     "output_type": "execute_result"
    }
   ],
   "source": [
    "# Train the model\n",
    "model.fit(x_train, y_train, batch_size=32, epochs=100)"
   ]
  },
  {
   "cell_type": "code",
   "execution_count": 168,
   "id": "eed1da98-b06f-4ea5-9a41-21c0438d0449",
   "metadata": {},
   "outputs": [],
   "source": [
    "# Create the testing dataset\n",
    "test_data = scaled_dataset[int(len(scaled_dataset)*0.8)-sequence_length:, :]\n",
    "x_test = []\n",
    "y_test = scaled_dataset[int(len(scaled_dataset)*0.8):, :]\n",
    "\n",
    "for i in range(sequence_length, len(test_data)):\n",
    "    x_test.append(test_data[i-sequence_length:i, 0])\n",
    "\n",
    "x_test = np.array(x_test)\n",
    "x_test = np.reshape(x_test, (x_test.shape[0], x_test.shape[1], 1))"
   ]
  },
  {
   "cell_type": "code",
   "execution_count": 169,
   "id": "865e0677-2116-4005-bce3-370d9a7132e9",
   "metadata": {},
   "outputs": [
    {
     "name": "stdout",
     "output_type": "stream",
     "text": [
      "\u001b[1m16/16\u001b[0m \u001b[32m━━━━━━━━━━━━━━━━━━━━\u001b[0m\u001b[37m\u001b[0m \u001b[1m2s\u001b[0m 97ms/step\n"
     ]
    }
   ],
   "source": [
    "# Get the model's predicted price values\n",
    "predictions = model.predict(x_test)\n",
    "#Transforming them back to their original price values\n",
    "predictions = mm_scaler.inverse_transform(predictions)"
   ]
  },
  {
   "cell_type": "code",
   "execution_count": 170,
   "id": "de8f1814-d712-4f89-a81a-8888489c0274",
   "metadata": {},
   "outputs": [
    {
     "name": "stderr",
     "output_type": "stream",
     "text": [
      "C:\\Users\\linwi\\AppData\\Local\\Temp\\ipykernel_3124\\2336807155.py:4: SettingWithCopyWarning: \n",
      "A value is trying to be set on a copy of a slice from a DataFrame.\n",
      "Try using .loc[row_indexer,col_indexer] = value instead\n",
      "\n",
      "See the caveats in the documentation: https://pandas.pydata.org/pandas-docs/stable/user_guide/indexing.html#returning-a-view-versus-a-copy\n",
      "  valid['Predictions'] = predictions\n"
     ]
    },
    {
     "data": {
      "image/png": "[encoded data removed]",
      "text/plain": [
       "<Figure size 1600x800 with 1 Axes>"
      ]
     },
     "metadata": {},
     "output_type": "display_data"
    }
   ],
   "source": [
    "# Plot the data\n",
    "train = LSTM_data[:int(len(dataset)*0.8)]\n",
    "valid = LSTM_data[int(len(dataset)*0.8):]\n",
    "valid['Predictions'] = predictions\n",
    "\n",
    "plt.figure(figsize=(16,8))\n",
    "plt.title('LSTM Model')\n",
    "plt.xlabel('Date', fontsize=18)\n",
    "plt.ylabel('Close Price USD ($)', fontsize=18)\n",
    "plt.plot(train['adjusted close'])\n",
    "plt.plot(valid[['adjusted close', 'Predictions']])\n",
    "plt.legend(['Train', 'Val', 'Predictions'], loc='lower right')\n",
    "plt.show()"
   ]
  },
  {
   "cell_type": "code",
   "execution_count": 171,
   "id": "76a4c2b0-42b6-4234-8766-579450573491",
   "metadata": {
    "scrolled": true
   },
   "outputs": [
    {
     "name": "stdout",
     "output_type": "stream",
     "text": [
      "The mean absolute error is 2.7268707063462996,the mean squared error is 11.342738912925196 and the mean absolute percentage error is 0.023223018909884062.\n"
     ]
    }
   ],
   "source": [
    "#Getting the errors\n",
    "lstm_mae = mean_absolute_error(valid['adjusted close'], predictions)\n",
    "lstm_mse = mean_squared_error(valid['adjusted close'],predictions)\n",
    "lstm_mape = mean_absolute_percentage_error(valid['adjusted close'],predictions)\n",
    "print(f\"The mean absolute error is {lstm_mae},the mean squared error is {lstm_mse} and the mean absolute percentage error is {lstm_mape}.\")"
   ]
  },
  {
   "cell_type": "code",
   "execution_count": 172,
   "id": "5dc270a3-a04e-474a-b308-2e7f97065567",
   "metadata": {},
   "outputs": [],
   "source": [
    "#Add the errors to the report\n",
    "Report_df.loc[len(Report_df.index)] = ['LSTM', 'MAE', lstm_mae]\n",
    "Report_df.loc[len(Report_df.index)] = ['LSTM', 'MSE', lstm_mse]\n",
    "Report_df.loc[len(Report_df.index)] = ['LSTM', 'MAPE', lstm_mape]"
   ]
  },
  {
   "cell_type": "code",
   "execution_count": 128,
   "id": "c19b1dfd-3c0d-4638-97de-70a5aa242822",
   "metadata": {},
   "outputs": [
    {
     "data": {
      "text/html": [
       "<div>\n",
       "<style scoped>\n",
       "    .dataframe tbody tr th:only-of-type {\n",
       "        vertical-align: middle;\n",
       "    }\n",
       "\n",
       "    .dataframe tbody tr th {\n",
       "        vertical-align: top;\n",
       "    }\n",
       "\n",
       "    .dataframe thead th {\n",
       "        text-align: right;\n",
       "    }\n",
       "</style>\n",
       "<table border=\"1\" class=\"dataframe\">\n",
       "  <thead>\n",
       "    <tr style=\"text-align: right;\">\n",
       "      <th></th>\n",
       "      <th>Model</th>\n",
       "      <th>Metrics</th>\n",
       "      <th>Result</th>\n",
       "    </tr>\n",
       "  </thead>\n",
       "  <tbody>\n",
       "    <tr>\n",
       "      <th>0</th>\n",
       "      <td>Linear Regression</td>\n",
       "      <td>MAE</td>\n",
       "      <td>1.686762</td>\n",
       "    </tr>\n",
       "    <tr>\n",
       "      <th>1</th>\n",
       "      <td>Linear Regression</td>\n",
       "      <td>MSE</td>\n",
       "      <td>5.440945</td>\n",
       "    </tr>\n",
       "    <tr>\n",
       "      <th>2</th>\n",
       "      <td>Linear Regression</td>\n",
       "      <td>MAPE</td>\n",
       "      <td>0.011938</td>\n",
       "    </tr>\n",
       "    <tr>\n",
       "      <th>3</th>\n",
       "      <td>Random Forest Regressor</td>\n",
       "      <td>MAE</td>\n",
       "      <td>3.550635</td>\n",
       "    </tr>\n",
       "    <tr>\n",
       "      <th>4</th>\n",
       "      <td>Random Forest Regressor</td>\n",
       "      <td>MSE</td>\n",
       "      <td>22.188249</td>\n",
       "    </tr>\n",
       "    <tr>\n",
       "      <th>5</th>\n",
       "      <td>Random Forest Regressor</td>\n",
       "      <td>MAPE</td>\n",
       "      <td>0.024555</td>\n",
       "    </tr>\n",
       "    <tr>\n",
       "      <th>6</th>\n",
       "      <td>LSTM</td>\n",
       "      <td>MAE</td>\n",
       "      <td>2.715222</td>\n",
       "    </tr>\n",
       "    <tr>\n",
       "      <th>7</th>\n",
       "      <td>LSTM</td>\n",
       "      <td>MSE</td>\n",
       "      <td>12.009594</td>\n",
       "    </tr>\n",
       "    <tr>\n",
       "      <th>8</th>\n",
       "      <td>LSTM</td>\n",
       "      <td>MAPE</td>\n",
       "      <td>0.023790</td>\n",
       "    </tr>\n",
       "  </tbody>\n",
       "</table>\n",
       "</div>"
      ],
      "text/plain": [
       "                     Model Metrics     Result\n",
       "0        Linear Regression     MAE   1.686762\n",
       "1        Linear Regression     MSE   5.440945\n",
       "2        Linear Regression    MAPE   0.011938\n",
       "3  Random Forest Regressor     MAE   3.550635\n",
       "4  Random Forest Regressor     MSE  22.188249\n",
       "5  Random Forest Regressor    MAPE   0.024555\n",
       "6                     LSTM     MAE   2.715222\n",
       "7                     LSTM     MSE  12.009594\n",
       "8                     LSTM    MAPE   0.023790"
      ]
     },
     "execution_count": 128,
     "metadata": {},
     "output_type": "execute_result"
    }
   ],
   "source": [
    "Report_df"
   ]
  }
 ],
 "metadata": {
  "kernelspec": {
   "display_name": "timeseries",
   "language": "python",
   "name": "timeseries"
  },
  "language_info": {
   "codemirror_mode": {
    "name": "ipython",
    "version": 3
   },
   "file_extension": ".py",
   "mimetype": "text/x-python",
   "name": "python",
   "nbconvert_exporter": "python",
   "pygments_lexer": "ipython3",
   "version": "3.11.4"
  }
 },
 "nbformat": 4,
 "nbformat_minor": 5
}
