{
 "cells": [
  {
   "cell_type": "markdown",
   "id": "a59c618a-8783-4c76-acd7-d33ba72c8456",
   "metadata": {},
   "source": [
    "# Stock Data, Machine Learning, and Neural Networks"
   ]
  },
  {
   "cell_type": "code",
   "execution_count": 1,
   "id": "2dc74443-329f-476d-9272-f92a74ca4f3b",
   "metadata": {},
   "outputs": [],
   "source": [
    "import pandas as pd \n",
    "import numpy as np"
   ]
  },
  {
   "cell_type": "code",
   "execution_count": 12,
   "id": "83f96794-9242-4762-b699-319a3a25c6a8",
   "metadata": {},
   "outputs": [],
   "source": [
    "#Import the cleaned dataset from our Stock_api notebook and using the date as the index\n",
    "data = pd.read_csv('C:/Users/linwi/Documents/Stock_test/Cleaned_Dataset/GOOG.csv',index_col = 0)"
   ]
  },
  {
   "cell_type": "code",
   "execution_count": 13,
   "id": "0bf8d600-ca6b-4dbf-b39c-fc2d45364552",
   "metadata": {},
   "outputs": [
    {
     "data": {
      "text/html": [
       "<div>\n",
       "<style scoped>\n",
       "    .dataframe tbody tr th:only-of-type {\n",
       "        vertical-align: middle;\n",
       "    }\n",
       "\n",
       "    .dataframe tbody tr th {\n",
       "        vertical-align: top;\n",
       "    }\n",
       "\n",
       "    .dataframe thead th {\n",
       "        text-align: right;\n",
       "    }\n",
       "</style>\n",
       "<table border=\"1\" class=\"dataframe\">\n",
       "  <thead>\n",
       "    <tr style=\"text-align: right;\">\n",
       "      <th></th>\n",
       "      <th>open</th>\n",
       "      <th>high</th>\n",
       "      <th>low</th>\n",
       "      <th>close</th>\n",
       "      <th>adjusted close</th>\n",
       "      <th>volume</th>\n",
       "    </tr>\n",
       "  </thead>\n",
       "  <tbody>\n",
       "    <tr>\n",
       "      <th>2024-04-01</th>\n",
       "      <td>151.650</td>\n",
       "      <td>156.990</td>\n",
       "      <td>151.65</td>\n",
       "      <td>156.50</td>\n",
       "      <td>156.50</td>\n",
       "      <td>24413368</td>\n",
       "    </tr>\n",
       "    <tr>\n",
       "      <th>2024-03-28</th>\n",
       "      <td>152.000</td>\n",
       "      <td>152.670</td>\n",
       "      <td>151.33</td>\n",
       "      <td>152.26</td>\n",
       "      <td>152.26</td>\n",
       "      <td>21105628</td>\n",
       "    </tr>\n",
       "    <tr>\n",
       "      <th>2024-03-27</th>\n",
       "      <td>152.145</td>\n",
       "      <td>152.690</td>\n",
       "      <td>150.13</td>\n",
       "      <td>151.94</td>\n",
       "      <td>151.94</td>\n",
       "      <td>16621964</td>\n",
       "    </tr>\n",
       "    <tr>\n",
       "      <th>2024-03-26</th>\n",
       "      <td>151.240</td>\n",
       "      <td>153.200</td>\n",
       "      <td>151.03</td>\n",
       "      <td>151.70</td>\n",
       "      <td>151.70</td>\n",
       "      <td>19312694</td>\n",
       "    </tr>\n",
       "    <tr>\n",
       "      <th>2024-03-25</th>\n",
       "      <td>150.950</td>\n",
       "      <td>151.456</td>\n",
       "      <td>148.80</td>\n",
       "      <td>151.15</td>\n",
       "      <td>151.15</td>\n",
       "      <td>15114728</td>\n",
       "    </tr>\n",
       "  </tbody>\n",
       "</table>\n",
       "</div>"
      ],
      "text/plain": [
       "               open     high     low   close  adjusted close    volume\n",
       "2024-04-01  151.650  156.990  151.65  156.50          156.50  24413368\n",
       "2024-03-28  152.000  152.670  151.33  152.26          152.26  21105628\n",
       "2024-03-27  152.145  152.690  150.13  151.94          151.94  16621964\n",
       "2024-03-26  151.240  153.200  151.03  151.70          151.70  19312694\n",
       "2024-03-25  150.950  151.456  148.80  151.15          151.15  15114728"
      ]
     },
     "execution_count": 13,
     "metadata": {},
     "output_type": "execute_result"
    }
   ],
   "source": [
    "#Check\n",
    "data.head()"
   ]
  },
  {
   "cell_type": "code",
   "execution_count": 14,
   "id": "9f8091b1-937a-43cc-b8dc-5f210acae588",
   "metadata": {},
   "outputs": [
    {
     "name": "stdout",
     "output_type": "stream",
     "text": [
      "<class 'pandas.core.frame.DataFrame'>\n",
      "Index: 2520 entries, 2024-04-01 to 2014-03-27\n",
      "Data columns (total 6 columns):\n",
      " #   Column          Non-Null Count  Dtype  \n",
      "---  ------          --------------  -----  \n",
      " 0   open            2520 non-null   float64\n",
      " 1   high            2520 non-null   float64\n",
      " 2   low             2520 non-null   float64\n",
      " 3   close           2520 non-null   float64\n",
      " 4   adjusted close  2520 non-null   float64\n",
      " 5   volume          2520 non-null   int64  \n",
      "dtypes: float64(5), int64(1)\n",
      "memory usage: 137.8+ KB\n"
     ]
    }
   ],
   "source": [
    "#Check the information of the dataframe\n",
    "data.info()"
   ]
  },
  {
   "cell_type": "code",
   "execution_count": 16,
   "id": "ef68fcf8-b294-4173-9ef6-1b0eccd1b66e",
   "metadata": {},
   "outputs": [],
   "source": [
    "#Changng the datatype of the index to date time.\n",
    "data.index = pd.to_datetime(data.index)"
   ]
  },
  {
   "cell_type": "code",
   "execution_count": 17,
   "id": "c7d20b34-1497-41fb-bf3e-f9903a12f741",
   "metadata": {},
   "outputs": [
    {
     "name": "stdout",
     "output_type": "stream",
     "text": [
      "<class 'pandas.core.frame.DataFrame'>\n",
      "DatetimeIndex: 2520 entries, 2024-04-01 to 2014-03-27\n",
      "Data columns (total 6 columns):\n",
      " #   Column          Non-Null Count  Dtype  \n",
      "---  ------          --------------  -----  \n",
      " 0   open            2520 non-null   float64\n",
      " 1   high            2520 non-null   float64\n",
      " 2   low             2520 non-null   float64\n",
      " 3   close           2520 non-null   float64\n",
      " 4   adjusted close  2520 non-null   float64\n",
      " 5   volume          2520 non-null   int64  \n",
      "dtypes: float64(5), int64(1)\n",
      "memory usage: 137.8 KB\n"
     ]
    }
   ],
   "source": [
    "#check \n",
    "data.info()"
   ]
  },
  {
   "cell_type": "markdown",
   "id": "ac0438d0-6ea0-49f3-9ccf-2dc79eaf02fd",
   "metadata": {},
   "source": [
    "## Modeling,Visualizations, and Evaluations"
   ]
  },
  {
   "cell_type": "markdown",
   "id": "3b88f100-b8c8-41b1-8485-4973d0b88d72",
   "metadata": {},
   "source": [
    "### Preprocessing and Feature Engineering"
   ]
  },
  {
   "cell_type": "markdown",
   "id": "0f9e805b-b006-4276-9be3-df91861baa16",
   "metadata": {},
   "source": [
    "Our target will be whether the stock will go up or down. We will be creating new columns to help with the modeling."
   ]
  },
  {
   "cell_type": "code",
   "execution_count": 36,
   "id": "8bbee3d4-4dcf-41bc-aae6-652a6f20ad0c",
   "metadata": {},
   "outputs": [],
   "source": [
    "#Create a new column for called tomorrow. This gives us the adjusted close price for the next day.\n",
    "data['Tomorrow_Adj_close'] = data[\"adjusted close\"].shift(1)"
   ]
  },
  {
   "cell_type": "code",
   "execution_count": 37,
   "id": "1e09cffd-1cde-4895-97f7-b043dc29ae6c",
   "metadata": {},
   "outputs": [
    {
     "data": {
      "text/html": [
       "<div>\n",
       "<style scoped>\n",
       "    .dataframe tbody tr th:only-of-type {\n",
       "        vertical-align: middle;\n",
       "    }\n",
       "\n",
       "    .dataframe tbody tr th {\n",
       "        vertical-align: top;\n",
       "    }\n",
       "\n",
       "    .dataframe thead th {\n",
       "        text-align: right;\n",
       "    }\n",
       "</style>\n",
       "<table border=\"1\" class=\"dataframe\">\n",
       "  <thead>\n",
       "    <tr style=\"text-align: right;\">\n",
       "      <th></th>\n",
       "      <th>open</th>\n",
       "      <th>high</th>\n",
       "      <th>low</th>\n",
       "      <th>close</th>\n",
       "      <th>adjusted close</th>\n",
       "      <th>volume</th>\n",
       "      <th>Tomorrow_Adj_close</th>\n",
       "    </tr>\n",
       "  </thead>\n",
       "  <tbody>\n",
       "    <tr>\n",
       "      <th>2024-04-01</th>\n",
       "      <td>151.650</td>\n",
       "      <td>156.990</td>\n",
       "      <td>151.65</td>\n",
       "      <td>156.50</td>\n",
       "      <td>156.5000</td>\n",
       "      <td>24413368</td>\n",
       "      <td>NaN</td>\n",
       "    </tr>\n",
       "    <tr>\n",
       "      <th>2024-03-28</th>\n",
       "      <td>152.000</td>\n",
       "      <td>152.670</td>\n",
       "      <td>151.33</td>\n",
       "      <td>152.26</td>\n",
       "      <td>152.2600</td>\n",
       "      <td>21105628</td>\n",
       "      <td>156.5000</td>\n",
       "    </tr>\n",
       "    <tr>\n",
       "      <th>2024-03-27</th>\n",
       "      <td>152.145</td>\n",
       "      <td>152.690</td>\n",
       "      <td>150.13</td>\n",
       "      <td>151.94</td>\n",
       "      <td>151.9400</td>\n",
       "      <td>16621964</td>\n",
       "      <td>152.2600</td>\n",
       "    </tr>\n",
       "    <tr>\n",
       "      <th>2024-03-26</th>\n",
       "      <td>151.240</td>\n",
       "      <td>153.200</td>\n",
       "      <td>151.03</td>\n",
       "      <td>151.70</td>\n",
       "      <td>151.7000</td>\n",
       "      <td>19312694</td>\n",
       "      <td>151.9400</td>\n",
       "    </tr>\n",
       "    <tr>\n",
       "      <th>2024-03-25</th>\n",
       "      <td>150.950</td>\n",
       "      <td>151.456</td>\n",
       "      <td>148.80</td>\n",
       "      <td>151.15</td>\n",
       "      <td>151.1500</td>\n",
       "      <td>15114728</td>\n",
       "      <td>151.7000</td>\n",
       "    </tr>\n",
       "    <tr>\n",
       "      <th>...</th>\n",
       "      <td>...</td>\n",
       "      <td>...</td>\n",
       "      <td>...</td>\n",
       "      <td>...</td>\n",
       "      <td>...</td>\n",
       "      <td>...</td>\n",
       "      <td>...</td>\n",
       "    </tr>\n",
       "    <tr>\n",
       "      <th>2014-04-02</th>\n",
       "      <td>565.106</td>\n",
       "      <td>604.830</td>\n",
       "      <td>562.19</td>\n",
       "      <td>567.00</td>\n",
       "      <td>28.3500</td>\n",
       "      <td>146700</td>\n",
       "      <td>28.4870</td>\n",
       "    </tr>\n",
       "    <tr>\n",
       "      <th>2014-04-01</th>\n",
       "      <td>558.710</td>\n",
       "      <td>568.450</td>\n",
       "      <td>558.71</td>\n",
       "      <td>567.16</td>\n",
       "      <td>28.3580</td>\n",
       "      <td>7900</td>\n",
       "      <td>28.3500</td>\n",
       "    </tr>\n",
       "    <tr>\n",
       "      <th>2014-03-31</th>\n",
       "      <td>566.890</td>\n",
       "      <td>567.000</td>\n",
       "      <td>556.93</td>\n",
       "      <td>556.97</td>\n",
       "      <td>27.8485</td>\n",
       "      <td>10800</td>\n",
       "      <td>28.3580</td>\n",
       "    </tr>\n",
       "    <tr>\n",
       "      <th>2014-03-28</th>\n",
       "      <td>561.200</td>\n",
       "      <td>566.430</td>\n",
       "      <td>558.67</td>\n",
       "      <td>559.99</td>\n",
       "      <td>27.9995</td>\n",
       "      <td>41100</td>\n",
       "      <td>27.8485</td>\n",
       "    </tr>\n",
       "    <tr>\n",
       "      <th>2014-03-27</th>\n",
       "      <td>568.000</td>\n",
       "      <td>568.000</td>\n",
       "      <td>552.92</td>\n",
       "      <td>558.46</td>\n",
       "      <td>27.9230</td>\n",
       "      <td>13100</td>\n",
       "      <td>27.9995</td>\n",
       "    </tr>\n",
       "  </tbody>\n",
       "</table>\n",
       "<p>2520 rows × 7 columns</p>\n",
       "</div>"
      ],
      "text/plain": [
       "               open     high     low   close  adjusted close    volume  \\\n",
       "2024-04-01  151.650  156.990  151.65  156.50        156.5000  24413368   \n",
       "2024-03-28  152.000  152.670  151.33  152.26        152.2600  21105628   \n",
       "2024-03-27  152.145  152.690  150.13  151.94        151.9400  16621964   \n",
       "2024-03-26  151.240  153.200  151.03  151.70        151.7000  19312694   \n",
       "2024-03-25  150.950  151.456  148.80  151.15        151.1500  15114728   \n",
       "...             ...      ...     ...     ...             ...       ...   \n",
       "2014-04-02  565.106  604.830  562.19  567.00         28.3500    146700   \n",
       "2014-04-01  558.710  568.450  558.71  567.16         28.3580      7900   \n",
       "2014-03-31  566.890  567.000  556.93  556.97         27.8485     10800   \n",
       "2014-03-28  561.200  566.430  558.67  559.99         27.9995     41100   \n",
       "2014-03-27  568.000  568.000  552.92  558.46         27.9230     13100   \n",
       "\n",
       "            Tomorrow_Adj_close  \n",
       "2024-04-01                 NaN  \n",
       "2024-03-28            156.5000  \n",
       "2024-03-27            152.2600  \n",
       "2024-03-26            151.9400  \n",
       "2024-03-25            151.7000  \n",
       "...                        ...  \n",
       "2014-04-02             28.4870  \n",
       "2014-04-01             28.3500  \n",
       "2014-03-31             28.3580  \n",
       "2014-03-28             27.8485  \n",
       "2014-03-27             27.9995  \n",
       "\n",
       "[2520 rows x 7 columns]"
      ]
     },
     "execution_count": 37,
     "metadata": {},
     "output_type": "execute_result"
    }
   ],
   "source": [
    "#Check\n",
    "data"
   ]
  },
  {
   "cell_type": "markdown",
   "id": "917c50ba-514c-47b9-bf4c-6143003abfa2",
   "metadata": {},
   "source": [
    "We will be getting rid of the `close` column as it doesn't adjust for stock splits."
   ]
  },
  {
   "cell_type": "code",
   "execution_count": 47,
   "id": "48268781-addf-4bdf-86f2-06b3b05c237b",
   "metadata": {},
   "outputs": [],
   "source": [
    "del data['close']"
   ]
  },
  {
   "cell_type": "markdown",
   "id": "17151cf3-1df6-465b-933c-ea18146cf0e9",
   "metadata": {},
   "source": [
    "Create another column called `Target` to see if `Tomorrow_Adj_close` price is greater than present day's `Close` price."
   ]
  },
  {
   "cell_type": "code",
   "execution_count": 48,
   "id": "9feb6558-b5f2-478b-beea-e97b5da5cf78",
   "metadata": {},
   "outputs": [],
   "source": [
    "#Create a new column called Target of 1(True) and 0(False) to see if tomorrow's adjusted close price is greater than today's close price.\n",
    "data[\"Target\"] = (data['Tomorrow_Adj_close'] > data[\"adjusted close\"]).astype(int)"
   ]
  },
  {
   "cell_type": "code",
   "execution_count": 49,
   "id": "498b1668-2d2d-46bb-a809-0e324f1c22e1",
   "metadata": {},
   "outputs": [
    {
     "data": {
      "text/html": [
       "<div>\n",
       "<style scoped>\n",
       "    .dataframe tbody tr th:only-of-type {\n",
       "        vertical-align: middle;\n",
       "    }\n",
       "\n",
       "    .dataframe tbody tr th {\n",
       "        vertical-align: top;\n",
       "    }\n",
       "\n",
       "    .dataframe thead th {\n",
       "        text-align: right;\n",
       "    }\n",
       "</style>\n",
       "<table border=\"1\" class=\"dataframe\">\n",
       "  <thead>\n",
       "    <tr style=\"text-align: right;\">\n",
       "      <th></th>\n",
       "      <th>open</th>\n",
       "      <th>high</th>\n",
       "      <th>low</th>\n",
       "      <th>adjusted close</th>\n",
       "      <th>volume</th>\n",
       "      <th>Tomorrow_Adj_close</th>\n",
       "      <th>Target</th>\n",
       "    </tr>\n",
       "  </thead>\n",
       "  <tbody>\n",
       "    <tr>\n",
       "      <th>2024-04-01</th>\n",
       "      <td>151.650</td>\n",
       "      <td>156.990</td>\n",
       "      <td>151.65</td>\n",
       "      <td>156.5000</td>\n",
       "      <td>24413368</td>\n",
       "      <td>NaN</td>\n",
       "      <td>0</td>\n",
       "    </tr>\n",
       "    <tr>\n",
       "      <th>2024-03-28</th>\n",
       "      <td>152.000</td>\n",
       "      <td>152.670</td>\n",
       "      <td>151.33</td>\n",
       "      <td>152.2600</td>\n",
       "      <td>21105628</td>\n",
       "      <td>156.5000</td>\n",
       "      <td>1</td>\n",
       "    </tr>\n",
       "    <tr>\n",
       "      <th>2024-03-27</th>\n",
       "      <td>152.145</td>\n",
       "      <td>152.690</td>\n",
       "      <td>150.13</td>\n",
       "      <td>151.9400</td>\n",
       "      <td>16621964</td>\n",
       "      <td>152.2600</td>\n",
       "      <td>1</td>\n",
       "    </tr>\n",
       "    <tr>\n",
       "      <th>2024-03-26</th>\n",
       "      <td>151.240</td>\n",
       "      <td>153.200</td>\n",
       "      <td>151.03</td>\n",
       "      <td>151.7000</td>\n",
       "      <td>19312694</td>\n",
       "      <td>151.9400</td>\n",
       "      <td>1</td>\n",
       "    </tr>\n",
       "    <tr>\n",
       "      <th>2024-03-25</th>\n",
       "      <td>150.950</td>\n",
       "      <td>151.456</td>\n",
       "      <td>148.80</td>\n",
       "      <td>151.1500</td>\n",
       "      <td>15114728</td>\n",
       "      <td>151.7000</td>\n",
       "      <td>1</td>\n",
       "    </tr>\n",
       "    <tr>\n",
       "      <th>...</th>\n",
       "      <td>...</td>\n",
       "      <td>...</td>\n",
       "      <td>...</td>\n",
       "      <td>...</td>\n",
       "      <td>...</td>\n",
       "      <td>...</td>\n",
       "      <td>...</td>\n",
       "    </tr>\n",
       "    <tr>\n",
       "      <th>2014-04-02</th>\n",
       "      <td>565.106</td>\n",
       "      <td>604.830</td>\n",
       "      <td>562.19</td>\n",
       "      <td>28.3500</td>\n",
       "      <td>146700</td>\n",
       "      <td>28.4870</td>\n",
       "      <td>1</td>\n",
       "    </tr>\n",
       "    <tr>\n",
       "      <th>2014-04-01</th>\n",
       "      <td>558.710</td>\n",
       "      <td>568.450</td>\n",
       "      <td>558.71</td>\n",
       "      <td>28.3580</td>\n",
       "      <td>7900</td>\n",
       "      <td>28.3500</td>\n",
       "      <td>0</td>\n",
       "    </tr>\n",
       "    <tr>\n",
       "      <th>2014-03-31</th>\n",
       "      <td>566.890</td>\n",
       "      <td>567.000</td>\n",
       "      <td>556.93</td>\n",
       "      <td>27.8485</td>\n",
       "      <td>10800</td>\n",
       "      <td>28.3580</td>\n",
       "      <td>1</td>\n",
       "    </tr>\n",
       "    <tr>\n",
       "      <th>2014-03-28</th>\n",
       "      <td>561.200</td>\n",
       "      <td>566.430</td>\n",
       "      <td>558.67</td>\n",
       "      <td>27.9995</td>\n",
       "      <td>41100</td>\n",
       "      <td>27.8485</td>\n",
       "      <td>0</td>\n",
       "    </tr>\n",
       "    <tr>\n",
       "      <th>2014-03-27</th>\n",
       "      <td>568.000</td>\n",
       "      <td>568.000</td>\n",
       "      <td>552.92</td>\n",
       "      <td>27.9230</td>\n",
       "      <td>13100</td>\n",
       "      <td>27.9995</td>\n",
       "      <td>1</td>\n",
       "    </tr>\n",
       "  </tbody>\n",
       "</table>\n",
       "<p>2520 rows × 7 columns</p>\n",
       "</div>"
      ],
      "text/plain": [
       "               open     high     low  adjusted close    volume  \\\n",
       "2024-04-01  151.650  156.990  151.65        156.5000  24413368   \n",
       "2024-03-28  152.000  152.670  151.33        152.2600  21105628   \n",
       "2024-03-27  152.145  152.690  150.13        151.9400  16621964   \n",
       "2024-03-26  151.240  153.200  151.03        151.7000  19312694   \n",
       "2024-03-25  150.950  151.456  148.80        151.1500  15114728   \n",
       "...             ...      ...     ...             ...       ...   \n",
       "2014-04-02  565.106  604.830  562.19         28.3500    146700   \n",
       "2014-04-01  558.710  568.450  558.71         28.3580      7900   \n",
       "2014-03-31  566.890  567.000  556.93         27.8485     10800   \n",
       "2014-03-28  561.200  566.430  558.67         27.9995     41100   \n",
       "2014-03-27  568.000  568.000  552.92         27.9230     13100   \n",
       "\n",
       "            Tomorrow_Adj_close  Target  \n",
       "2024-04-01                 NaN       0  \n",
       "2024-03-28            156.5000       1  \n",
       "2024-03-27            152.2600       1  \n",
       "2024-03-26            151.9400       1  \n",
       "2024-03-25            151.7000       1  \n",
       "...                        ...     ...  \n",
       "2014-04-02             28.4870       1  \n",
       "2014-04-01             28.3500       0  \n",
       "2014-03-31             28.3580       1  \n",
       "2014-03-28             27.8485       0  \n",
       "2014-03-27             27.9995       1  \n",
       "\n",
       "[2520 rows x 7 columns]"
      ]
     },
     "execution_count": 49,
     "metadata": {},
     "output_type": "execute_result"
    }
   ],
   "source": [
    "data"
   ]
  },
  {
   "cell_type": "markdown",
   "id": "455731b2-710b-4bd2-939c-accfce937a18",
   "metadata": {},
   "source": [
    "Now that we have set up our data and did some feature engineering, we will start with modeling."
   ]
  },
  {
   "cell_type": "markdown",
   "id": "feacc7eb-1c95-4327-a52b-08d48e5adebe",
   "metadata": {},
   "source": [
    "### Modeling"
   ]
  },
  {
   "cell_type": "code",
   "execution_count": 50,
   "id": "80f68351-3b29-44e5-be78-6ba48ab706ec",
   "metadata": {},
   "outputs": [],
   "source": [
    "#Importing the Linear Regression Model\n",
    "from sklearn.linear_model import LinearRegression #Importing the baseline linear regression model"
   ]
  },
  {
   "cell_type": "markdown",
   "id": "5032449a-defd-4e8a-a7ca-e24643a53a04",
   "metadata": {},
   "source": [
    "We will be using the linear regression model as our baseline model to predict the `Tomorrow_Adj_Close` price."
   ]
  },
  {
   "cell_type": "code",
   "execution_count": 64,
   "id": "13d37d64-2b61-4ebe-9a7e-c95c2ec16769",
   "metadata": {},
   "outputs": [],
   "source": [
    "model = LinearRegression()"
   ]
  },
  {
   "cell_type": "markdown",
   "id": "904daf3a-f90b-4c00-9461-151f1adb8a2a",
   "metadata": {},
   "source": [
    "#### Splitting the Data"
   ]
  },
  {
   "cell_type": "code",
   "execution_count": 109,
   "id": "314bd971-1465-415f-9fe2-84881ee1b3da",
   "metadata": {},
   "outputs": [],
   "source": [
    "train = data.iloc[100:]\n",
    "test = data.iloc[1:100] #Excluding the first record because it has a nan value for the `Tomorrow_Adj_Close` column\n",
    "\n",
    "predictors = [\"adjusted close\", \"open\",\"high\",\"volume\",\"low\"]"
   ]
  },
  {
   "cell_type": "markdown",
   "id": "63bdd63e-e0de-4aaa-86fe-0b8547ad390f",
   "metadata": {},
   "source": [
    "The predictors are the columns that we will be using to predict the future price and target direction of the stock. Thus, we are excluding `target` and `Tomorrow_adj_close` since it has data of the future records."
   ]
  },
  {
   "cell_type": "markdown",
   "id": "d1faed16-ce42-4e7d-a8ce-3dca33c5e8bc",
   "metadata": {},
   "source": [
    "#### Linear Regression"
   ]
  },
  {
   "cell_type": "code",
   "execution_count": 110,
   "id": "2739aa80-133d-4126-8328-50c713079de6",
   "metadata": {},
   "outputs": [],
   "source": [
    "regression_results = model.fit(train[predictors],train[\"Tomorrow_Adj_close\"])"
   ]
  },
  {
   "cell_type": "code",
   "execution_count": 111,
   "id": "0a237c34-5547-4006-ab63-ad18543a2480",
   "metadata": {},
   "outputs": [],
   "source": [
    "from sklearn.metrics import r2_score, mean_squared_error\n",
    "#Getting the predictions of the model\n",
    "predictions = model.predict(test[predictors])"
   ]
  },
  {
   "cell_type": "code",
   "execution_count": 112,
   "id": "b04ef319-18b5-43ac-8ed0-38a323a7488b",
   "metadata": {},
   "outputs": [],
   "source": [
    "#Turning the predictions into a series for easier readability\n",
    "predictions = pd.Series(predictions, index = test.index)"
   ]
  },
  {
   "cell_type": "code",
   "execution_count": 113,
   "id": "46a3e8fd-15be-4697-8aea-ff74d3fb27f0",
   "metadata": {
    "scrolled": true
   },
   "outputs": [
    {
     "name": "stdout",
     "output_type": "stream",
     "text": [
      "The r2 score is 0.8578460297490549 and the mean squared error is 5.481171325830812.\n"
     ]
    }
   ],
   "source": [
    "#Getting the r2 score for the \n",
    "linear_r2 = r2_score(test['Tomorrow_Adj_close'], predictions)\n",
    "linear_mse = mean_squared_error(test['Tomorrow_Adj_close'],predictions)\n",
    "print(f\"The r2 score is {linear_r2} and the mean squared error is {linear_mse}.\")"
   ]
  },
  {
   "cell_type": "markdown",
   "id": "a5c15b15-8bec-4977-bee0-459818cb5d25",
   "metadata": {},
   "source": [
    "We have a r2 score of 0.86 which looks pretty good (R2 score of 1 is the best) and a mean squared error of 5.48. We have to investigate more by using a visualization to see the difference between the actual values and predictions values."
   ]
  },
  {
   "cell_type": "code",
   "execution_count": 114,
   "id": "4630c28a-4561-4a8b-a1dc-704c63b559e8",
   "metadata": {},
   "outputs": [
    {
     "data": {
      "image/png": "[encoded data removed]",
      "text/plain": [
       "<Figure size 640x480 with 1 Axes>"
      ]
     },
     "metadata": {},
     "output_type": "display_data"
    }
   ],
   "source": [
    "import matplotlib.pyplot as plt\n",
    "plt.figure()\n",
    "plt.scatter(x = test.index,y = test['Tomorrow_Adj_close'])\n",
    "plt.scatter(x=test.index, y = predictions)\n",
    "plt.show()"
   ]
  },
  {
   "cell_type": "markdown",
   "id": "35a848a1-9b32-44f0-b3ed-d170b7157387",
   "metadata": {},
   "source": [
    "#### Random Forests"
   ]
  },
  {
   "cell_type": "markdown",
   "id": "38b0b78c-d501-482d-a6d8-8f024ee3b851",
   "metadata": {},
   "source": [
    "With random forests, we will try to predict whether the stock went up. (`Target` column equals 1)"
   ]
  },
  {
   "cell_type": "code",
   "execution_count": 115,
   "id": "5c23bd0e-4746-4073-8f04-e599f8afd62b",
   "metadata": {},
   "outputs": [],
   "source": [
    "from sklearn.ensemble import RandomForestClassifier\n",
    "#Instantiating the model\n",
    "forest_model = RandomForestClassifier(n_estimators = 100, min_samples_split = 100, random_state = 1)"
   ]
  },
  {
   "cell_type": "code",
   "execution_count": 116,
   "id": "c7534e11-766f-4d0a-8221-5499eb59522a",
   "metadata": {},
   "outputs": [
    {
     "data": {
      "text/html": [
       "<style>#sk-container-id-5 {color: black;background-color: white;}#sk-container-id-5 pre{padding: 0;}#sk-container-id-5 div.sk-toggleable {background-color: white;}#sk-container-id-5 label.sk-toggleable__label {cursor: pointer;display: block;width: 100%;margin-bottom: 0;padding: 0.3em;box-sizing: border-box;text-align: center;}#sk-container-id-5 label.sk-toggleable__label-arrow:before {content: \"▸\";float: left;margin-right: 0.25em;color: #696969;}#sk-container-id-5 label.sk-toggleable__label-arrow:hover:before {color: black;}#sk-container-id-5 div.sk-estimator:hover label.sk-toggleable__label-arrow:before {color: black;}#sk-container-id-5 div.sk-toggleable__content {max-height: 0;max-width: 0;overflow: hidden;text-align: left;background-color: #f0f8ff;}#sk-container-id-5 div.sk-toggleable__content pre {margin: 0.2em;color: black;border-radius: 0.25em;background-color: #f0f8ff;}#sk-container-id-5 input.sk-toggleable__control:checked~div.sk-toggleable__content {max-height: 200px;max-width: 100%;overflow: auto;}#sk-container-id-5 input.sk-toggleable__control:checked~label.sk-toggleable__label-arrow:before {content: \"▾\";}#sk-container-id-5 div.sk-estimator input.sk-toggleable__control:checked~label.sk-toggleable__label {background-color: #d4ebff;}#sk-container-id-5 div.sk-label input.sk-toggleable__control:checked~label.sk-toggleable__label {background-color: #d4ebff;}#sk-container-id-5 input.sk-hidden--visually {border: 0;clip: rect(1px 1px 1px 1px);clip: rect(1px, 1px, 1px, 1px);height: 1px;margin: -1px;overflow: hidden;padding: 0;position: absolute;width: 1px;}#sk-container-id-5 div.sk-estimator {font-family: monospace;background-color: #f0f8ff;border: 1px dotted black;border-radius: 0.25em;box-sizing: border-box;margin-bottom: 0.5em;}#sk-container-id-5 div.sk-estimator:hover {background-color: #d4ebff;}#sk-container-id-5 div.sk-parallel-item::after {content: \"\";width: 100%;border-bottom: 1px solid gray;flex-grow: 1;}#sk-container-id-5 div.sk-label:hover label.sk-toggleable__label {background-color: #d4ebff;}#sk-container-id-5 div.sk-serial::before {content: \"\";position: absolute;border-left: 1px solid gray;box-sizing: border-box;top: 0;bottom: 0;left: 50%;z-index: 0;}#sk-container-id-5 div.sk-serial {display: flex;flex-direction: column;align-items: center;background-color: white;padding-right: 0.2em;padding-left: 0.2em;position: relative;}#sk-container-id-5 div.sk-item {position: relative;z-index: 1;}#sk-container-id-5 div.sk-parallel {display: flex;align-items: stretch;justify-content: center;background-color: white;position: relative;}#sk-container-id-5 div.sk-item::before, #sk-container-id-5 div.sk-parallel-item::before {content: \"\";position: absolute;border-left: 1px solid gray;box-sizing: border-box;top: 0;bottom: 0;left: 50%;z-index: -1;}#sk-container-id-5 div.sk-parallel-item {display: flex;flex-direction: column;z-index: 1;position: relative;background-color: white;}#sk-container-id-5 div.sk-parallel-item:first-child::after {align-self: flex-end;width: 50%;}#sk-container-id-5 div.sk-parallel-item:last-child::after {align-self: flex-start;width: 50%;}#sk-container-id-5 div.sk-parallel-item:only-child::after {width: 0;}#sk-container-id-5 div.sk-dashed-wrapped {border: 1px dashed gray;margin: 0 0.4em 0.5em 0.4em;box-sizing: border-box;padding-bottom: 0.4em;background-color: white;}#sk-container-id-5 div.sk-label label {font-family: monospace;font-weight: bold;display: inline-block;line-height: 1.2em;}#sk-container-id-5 div.sk-label-container {text-align: center;}#sk-container-id-5 div.sk-container {/* jupyter's `normalize.less` sets `[hidden] { display: none; }` but bootstrap.min.css set `[hidden] { display: none !important; }` so we also need the `!important` here to be able to override the default hidden behavior on the sphinx rendered scikit-learn.org. See: https://github.com/scikit-learn/scikit-learn/issues/21755 */display: inline-block !important;position: relative;}#sk-container-id-5 div.sk-text-repr-fallback {display: none;}</style><div id=\"sk-container-id-5\" class=\"sk-top-container\"><div class=\"sk-text-repr-fallback\"><pre>RandomForestClassifier(min_samples_split=100, random_state=1)</pre><b>In a Jupyter environment, please rerun this cell to show the HTML representation or trust the notebook. <br />On GitHub, the HTML representation is unable to render, please try loading this page with nbviewer.org.</b></div><div class=\"sk-container\" hidden><div class=\"sk-item\"><div class=\"sk-estimator sk-toggleable\"><input class=\"sk-toggleable__control sk-hidden--visually\" id=\"sk-estimator-id-5\" type=\"checkbox\" checked><label for=\"sk-estimator-id-5\" class=\"sk-toggleable__label sk-toggleable__label-arrow\">RandomForestClassifier</label><div class=\"sk-toggleable__content\"><pre>RandomForestClassifier(min_samples_split=100, random_state=1)</pre></div></div></div></div></div>"
      ],
      "text/plain": [
       "RandomForestClassifier(min_samples_split=100, random_state=1)"
      ]
     },
     "execution_count": 116,
     "metadata": {},
     "output_type": "execute_result"
    }
   ],
   "source": [
    "forest_model.fit(train[predictors], train[\"Target\"])"
   ]
  },
  {
   "cell_type": "code",
   "execution_count": 122,
   "id": "0dadbc17-006d-42a8-96a0-40393609603e",
   "metadata": {},
   "outputs": [],
   "source": [
    "from sklearn.metrics import precision_score\n",
    "#Getting the predictions from the forest model\n",
    "forest_predictions = forest_model.predict(test[predictors])"
   ]
  },
  {
   "cell_type": "code",
   "execution_count": 123,
   "id": "70824ff2-d2c4-4529-8f4d-c3d25c33d82f",
   "metadata": {},
   "outputs": [],
   "source": [
    "#Turning the predictions into a series with the date index for easier interpretation\n",
    "forest_predictions = pd.Series(forest_predictions,index = test.index)"
   ]
  },
  {
   "cell_type": "code",
   "execution_count": 121,
   "id": "e0d64579-ab53-41f5-ad34-3d3e2f8722f3",
   "metadata": {},
   "outputs": [
    {
     "data": {
      "text/plain": [
       "0.5757575757575758"
      ]
     },
     "execution_count": 121,
     "metadata": {},
     "output_type": "execute_result"
    }
   ],
   "source": [
    "\n",
    "precision_score(test[\"Target\"],forest_predictions)"
   ]
  },
  {
   "cell_type": "code",
   "execution_count": null,
   "id": "8f62afb6-c0ef-49f8-83d8-e728df44dd41",
   "metadata": {},
   "outputs": [],
   "source": []
  }
 ],
 "metadata": {
  "kernelspec": {
   "display_name": "timeseries",
   "language": "python",
   "name": "timeseries"
  },
  "language_info": {
   "codemirror_mode": {
    "name": "ipython",
    "version": 3
   },
   "file_extension": ".py",
   "mimetype": "text/x-python",
   "name": "python",
   "nbconvert_exporter": "python",
   "pygments_lexer": "ipython3",
   "version": "3.11.4"
  }
 },
 "nbformat": 4,
 "nbformat_minor": 5
}
