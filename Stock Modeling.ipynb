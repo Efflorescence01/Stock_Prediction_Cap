{
 "cells": [
  {
   "cell_type": "markdown",
   "id": "a59c618a-8783-4c76-acd7-d33ba72c8456",
   "metadata": {},
   "source": [
    "# Stock Data, Machine Learning, and Neural Networks"
   ]
  },
  {
   "cell_type": "code",
   "execution_count": 1,
   "id": "2dc74443-329f-476d-9272-f92a74ca4f3b",
   "metadata": {},
   "outputs": [],
   "source": [
    "import pandas as pd \n",
    "import numpy as np"
   ]
  },
  {
   "cell_type": "code",
   "execution_count": 12,
   "id": "83f96794-9242-4762-b699-319a3a25c6a8",
   "metadata": {},
   "outputs": [],
   "source": [
    "#Import the cleaned dataset from our Stock_api notebook and using the date as the index\n",
    "data = pd.read_csv('C:/Users/linwi/Documents/Stock_test/Cleaned_Dataset/GOOG.csv',index_col = 0)"
   ]
  },
  {
   "cell_type": "code",
   "execution_count": 13,
   "id": "0bf8d600-ca6b-4dbf-b39c-fc2d45364552",
   "metadata": {},
   "outputs": [
    {
     "data": {
      "text/html": [
       "<div>\n",
       "<style scoped>\n",
       "    .dataframe tbody tr th:only-of-type {\n",
       "        vertical-align: middle;\n",
       "    }\n",
       "\n",
       "    .dataframe tbody tr th {\n",
       "        vertical-align: top;\n",
       "    }\n",
       "\n",
       "    .dataframe thead th {\n",
       "        text-align: right;\n",
       "    }\n",
       "</style>\n",
       "<table border=\"1\" class=\"dataframe\">\n",
       "  <thead>\n",
       "    <tr style=\"text-align: right;\">\n",
       "      <th></th>\n",
       "      <th>open</th>\n",
       "      <th>high</th>\n",
       "      <th>low</th>\n",
       "      <th>close</th>\n",
       "      <th>adjusted close</th>\n",
       "      <th>volume</th>\n",
       "    </tr>\n",
       "  </thead>\n",
       "  <tbody>\n",
       "    <tr>\n",
       "      <th>2024-04-01</th>\n",
       "      <td>151.650</td>\n",
       "      <td>156.990</td>\n",
       "      <td>151.65</td>\n",
       "      <td>156.50</td>\n",
       "      <td>156.50</td>\n",
       "      <td>24413368</td>\n",
       "    </tr>\n",
       "    <tr>\n",
       "      <th>2024-03-28</th>\n",
       "      <td>152.000</td>\n",
       "      <td>152.670</td>\n",
       "      <td>151.33</td>\n",
       "      <td>152.26</td>\n",
       "      <td>152.26</td>\n",
       "      <td>21105628</td>\n",
       "    </tr>\n",
       "    <tr>\n",
       "      <th>2024-03-27</th>\n",
       "      <td>152.145</td>\n",
       "      <td>152.690</td>\n",
       "      <td>150.13</td>\n",
       "      <td>151.94</td>\n",
       "      <td>151.94</td>\n",
       "      <td>16621964</td>\n",
       "    </tr>\n",
       "    <tr>\n",
       "      <th>2024-03-26</th>\n",
       "      <td>151.240</td>\n",
       "      <td>153.200</td>\n",
       "      <td>151.03</td>\n",
       "      <td>151.70</td>\n",
       "      <td>151.70</td>\n",
       "      <td>19312694</td>\n",
       "    </tr>\n",
       "    <tr>\n",
       "      <th>2024-03-25</th>\n",
       "      <td>150.950</td>\n",
       "      <td>151.456</td>\n",
       "      <td>148.80</td>\n",
       "      <td>151.15</td>\n",
       "      <td>151.15</td>\n",
       "      <td>15114728</td>\n",
       "    </tr>\n",
       "  </tbody>\n",
       "</table>\n",
       "</div>"
      ],
      "text/plain": [
       "               open     high     low   close  adjusted close    volume\n",
       "2024-04-01  151.650  156.990  151.65  156.50          156.50  24413368\n",
       "2024-03-28  152.000  152.670  151.33  152.26          152.26  21105628\n",
       "2024-03-27  152.145  152.690  150.13  151.94          151.94  16621964\n",
       "2024-03-26  151.240  153.200  151.03  151.70          151.70  19312694\n",
       "2024-03-25  150.950  151.456  148.80  151.15          151.15  15114728"
      ]
     },
     "execution_count": 13,
     "metadata": {},
     "output_type": "execute_result"
    }
   ],
   "source": [
    "#Check\n",
    "data.head()"
   ]
  },
  {
   "cell_type": "code",
   "execution_count": 14,
   "id": "9f8091b1-937a-43cc-b8dc-5f210acae588",
   "metadata": {},
   "outputs": [
    {
     "name": "stdout",
     "output_type": "stream",
     "text": [
      "<class 'pandas.core.frame.DataFrame'>\n",
      "Index: 2520 entries, 2024-04-01 to 2014-03-27\n",
      "Data columns (total 6 columns):\n",
      " #   Column          Non-Null Count  Dtype  \n",
      "---  ------          --------------  -----  \n",
      " 0   open            2520 non-null   float64\n",
      " 1   high            2520 non-null   float64\n",
      " 2   low             2520 non-null   float64\n",
      " 3   close           2520 non-null   float64\n",
      " 4   adjusted close  2520 non-null   float64\n",
      " 5   volume          2520 non-null   int64  \n",
      "dtypes: float64(5), int64(1)\n",
      "memory usage: 137.8+ KB\n"
     ]
    }
   ],
   "source": [
    "#Check the information of the dataframe\n",
    "data.info()"
   ]
  },
  {
   "cell_type": "code",
   "execution_count": 16,
   "id": "ef68fcf8-b294-4173-9ef6-1b0eccd1b66e",
   "metadata": {},
   "outputs": [],
   "source": [
    "#Changng the datatype of the index to date time.\n",
    "data.index = pd.to_datetime(data.index)"
   ]
  },
  {
   "cell_type": "code",
   "execution_count": 17,
   "id": "c7d20b34-1497-41fb-bf3e-f9903a12f741",
   "metadata": {},
   "outputs": [
    {
     "name": "stdout",
     "output_type": "stream",
     "text": [
      "<class 'pandas.core.frame.DataFrame'>\n",
      "DatetimeIndex: 2520 entries, 2024-04-01 to 2014-03-27\n",
      "Data columns (total 6 columns):\n",
      " #   Column          Non-Null Count  Dtype  \n",
      "---  ------          --------------  -----  \n",
      " 0   open            2520 non-null   float64\n",
      " 1   high            2520 non-null   float64\n",
      " 2   low             2520 non-null   float64\n",
      " 3   close           2520 non-null   float64\n",
      " 4   adjusted close  2520 non-null   float64\n",
      " 5   volume          2520 non-null   int64  \n",
      "dtypes: float64(5), int64(1)\n",
      "memory usage: 137.8 KB\n"
     ]
    }
   ],
   "source": [
    "#check \n",
    "data.info()"
   ]
  },
  {
   "cell_type": "markdown",
   "id": "ac0438d0-6ea0-49f3-9ccf-2dc79eaf02fd",
   "metadata": {},
   "source": [
    "## Modeling,Visualizations, and Evaluations"
   ]
  },
  {
   "cell_type": "markdown",
   "id": "3b88f100-b8c8-41b1-8485-4973d0b88d72",
   "metadata": {},
   "source": [
    "### Preprocessing and Splitting the Data"
   ]
  },
  {
   "cell_type": "code",
   "execution_count": null,
   "id": "89964ffa-fc6e-47ed-bcdc-c7acdb80b467",
   "metadata": {},
   "outputs": [],
   "source": []
  }
 ],
 "metadata": {
  "kernelspec": {
   "display_name": "timeseries",
   "language": "python",
   "name": "timeseries"
  },
  "language_info": {
   "codemirror_mode": {
    "name": "ipython",
    "version": 3
   },
   "file_extension": ".py",
   "mimetype": "text/x-python",
   "name": "python",
   "nbconvert_exporter": "python",
   "pygments_lexer": "ipython3",
   "version": "3.11.4"
  }
 },
 "nbformat": 4,
 "nbformat_minor": 5
}
